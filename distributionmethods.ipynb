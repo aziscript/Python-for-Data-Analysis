{
 "cells": [
  {
   "cell_type": "markdown",
   "id": "e3ef0e48-7074-48d7-bc8a-c75ca72f31c3",
   "metadata": {},
   "source": [
    "## Distributions in Python\n",
    "\n",
    "When you're working with **distributions** in Python (especially using `scipy.stats`), you'll often see methods like `.cdf()`, `.pmf()`, and `.rvs()`. Each of these does something different — here's a breakdown in simple terms:\n",
    "\n",
    "---\n",
    "\n",
    "### ✅ `.cdf()` — **Cumulative Distribution Function**\n",
    "\n",
    "**What it means:**  \n",
    "Tells you the **probability** that a random variable is **less than or equal to** a certain value.\n",
    "\n",
    "**Think of it like:**  \n",
    "“If I pick a random event, what are the chances that the outcome is less than or equal to `x`?”\n",
    "\n",
    "**Example:**"
   ]
  },
  {
   "cell_type": "code",
   "execution_count": 5,
   "id": "af674126-4539-4be5-9f24-694acbb4f245",
   "metadata": {},
   "outputs": [
    {
     "data": {
      "text/plain": [
       "0.8413447460685429"
      ]
     },
     "execution_count": 5,
     "metadata": {},
     "output_type": "execute_result"
    }
   ],
   "source": [
    "from scipy.stats import norm\n",
    "\n",
    "# Probability that a value from normal distribution is less than 7000\n",
    "# This gives you the probability that the value is ≤ 7000.\n",
    "\n",
    "norm.cdf(7000, loc=5000, scale=2000)"
   ]
  },
  {
   "cell_type": "markdown",
   "id": "20b1ef93-a734-43f4-844c-309a29cb3fa0",
   "metadata": {},
   "source": [
    "### ✅ `.pmf()` — **Probability Mass Function** (for **discrete** distributions like binomial or Poisson)\n",
    "\n",
    "**What it means:**  \n",
    "Tells you the **probability** of a specific outcome happening in a **discrete** distribution.\n",
    "\n",
    "**Think of it like:**  \n",
    "“What are the chances that I get exactly 3 walk-ins in an hour?”\n",
    "\n",
    "**Example:**"
   ]
  },
  {
   "cell_type": "code",
   "execution_count": 8,
   "id": "aa3d5195-ef31-4128-876c-e02794157394",
   "metadata": {},
   "outputs": [
    {
     "data": {
      "text/plain": [
       "0.18044704431548356"
      ]
     },
     "execution_count": 8,
     "metadata": {},
     "output_type": "execute_result"
    }
   ],
   "source": [
    "from scipy.stats import poisson\n",
    "\n",
    "# Probability of exactly 3 walk-ins when average is 2\n",
    "poisson.pmf(3, 2)"
   ]
  },
  {
   "cell_type": "markdown",
   "id": "83bbabc9-a0c3-48eb-8480-ce634499d70c",
   "metadata": {},
   "source": [
    "### ✅ `.rvs()` — **Random Variates / Sampling**\n",
    "\n",
    "**What it means:**  \n",
    "Generates **random values** that follow the distribution.  \n",
    "This is how you **simulate** data.\n",
    "\n",
    "**Think of it like:**  \n",
    "“Give me 5 random outcomes based on this distribution.”\n",
    "\n",
    "**Example:**"
   ]
  },
  {
   "cell_type": "code",
   "execution_count": 11,
   "id": "2b3afbdc-06a8-4ba7-9fcf-2cbbeae0b6ee",
   "metadata": {},
   "outputs": [
    {
     "data": {
      "text/plain": [
       "array([2, 0, 2, 0, 2], dtype=int64)"
      ]
     },
     "execution_count": 11,
     "metadata": {},
     "output_type": "execute_result"
    }
   ],
   "source": [
    "from scipy.stats import binom\n",
    "\n",
    "# Simulate 5 weeks of Amir's deals\n",
    "binom.rvs(n=3, p=0.3, size=5)"
   ]
  },
  {
   "cell_type": "markdown",
   "id": "f926e81b-8e25-4b2d-9e02-cea3323a7cce",
   "metadata": {},
   "source": [
    "## ⚡ Quick Summary\n",
    "\n",
    "| Method       | Use For                | Meaning                      |\n",
    "|--------------|------------------------|------------------------------|\n",
    "| `.cdf(x)`    | All distributions      | Probability value ≤ `x`      |\n",
    "| `.pmf(k)`    | Discrete distributions | Probability of exactly `k`   |\n",
    "| `.rvs(size)` | All distributions      | Generate random samples      |\n"
   ]
  },
  {
   "cell_type": "markdown",
   "id": "62f6b434-a11a-4191-a9fe-dd061dc2afdc",
   "metadata": {},
   "source": [
    "## Data Analysis Process\n",
    "* Gather data \n",
    "* Transform and clean data\n",
    "* Explore\n",
    "* Analyze and Build Models\n",
    "* Communicate results"
   ]
  },
  {
   "cell_type": "code",
   "execution_count": null,
   "id": "5e5b0ca5-59f7-47d5-a183-50fe7b224e5b",
   "metadata": {},
   "outputs": [],
   "source": []
  }
 ],
 "metadata": {
  "kernelspec": {
   "display_name": "Python 3 (ipykernel)",
   "language": "python",
   "name": "python3"
  },
  "language_info": {
   "codemirror_mode": {
    "name": "ipython",
    "version": 3
   },
   "file_extension": ".py",
   "mimetype": "text/x-python",
   "name": "python",
   "nbconvert_exporter": "python",
   "pygments_lexer": "ipython3",
   "version": "3.12.4"
  }
 },
 "nbformat": 4,
 "nbformat_minor": 5
}
