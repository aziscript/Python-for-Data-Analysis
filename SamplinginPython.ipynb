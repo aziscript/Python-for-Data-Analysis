{
 "cells": [
  {
   "cell_type": "markdown",
   "id": "da44d7db-4ee2-4bff-8917-09b5c71b76bb",
   "metadata": {},
   "source": [
    "# Sampling in Python"
   ]
  },
  {
   "cell_type": "markdown",
   "id": "3c9eac64-9284-482c-8a70-49f313f110dd",
   "metadata": {},
   "source": [
    "## 📊 Simple sampling with pandas\n",
    "Throughout this chapter, you'll be exploring song data from Spotify. Each row of this population dataset represents a song, and there are over 40,000 rows. Columns include the song name, the artists who performed it, the release year, and attributes of the song like its duration, tempo, and danceability. You'll start by looking at the durations.\n",
    "\n",
    "Our first task is to sample the Spotify dataset and compare the mean duration of the population with the sample."
   ]
  },
  {
   "cell_type": "raw",
   "id": "aa6b3d5a-dd6d-4e98-99fc-5e9e0802e7f6",
   "metadata": {},
   "source": [
    "import os\n",
    "\n",
    "os.listdir()"
   ]
  },
  {
   "cell_type": "code",
   "execution_count": 4,
   "id": "00c991b9-fbc7-4cba-9531-56c6a31e6326",
   "metadata": {},
   "outputs": [],
   "source": [
    "%matplotlib inline\n",
    "import pandas as pd\n",
    "import numpy as np\n",
    "import matplotlib.pyplot as plt\n",
    "import seaborn as sns\n",
    "from jupyter_datatables import init_datatables_mode"
   ]
  },
  {
   "cell_type": "code",
   "execution_count": 5,
   "id": "9959ba3a-d483-432a-8d0f-035612eef8f9",
   "metadata": {},
   "outputs": [
    {
     "data": {
      "text/html": [
       "<div>\n",
       "<style scoped>\n",
       "    .dataframe tbody tr th:only-of-type {\n",
       "        vertical-align: middle;\n",
       "    }\n",
       "\n",
       "    .dataframe tbody tr th {\n",
       "        vertical-align: top;\n",
       "    }\n",
       "\n",
       "    .dataframe thead th {\n",
       "        text-align: right;\n",
       "    }\n",
       "</style>\n",
       "<table border=\"1\" class=\"dataframe\">\n",
       "  <thead>\n",
       "    <tr style=\"text-align: right;\">\n",
       "      <th></th>\n",
       "      <th>acousticness</th>\n",
       "      <th>artists</th>\n",
       "      <th>danceability</th>\n",
       "      <th>duration_ms</th>\n",
       "      <th>duration_minutes</th>\n",
       "      <th>energy</th>\n",
       "      <th>explicit</th>\n",
       "      <th>id</th>\n",
       "      <th>instrumentalness</th>\n",
       "      <th>key</th>\n",
       "      <th>liveness</th>\n",
       "      <th>loudness</th>\n",
       "      <th>mode</th>\n",
       "      <th>name</th>\n",
       "      <th>popularity</th>\n",
       "      <th>release_date</th>\n",
       "      <th>speechiness</th>\n",
       "      <th>tempo</th>\n",
       "      <th>valence</th>\n",
       "      <th>year</th>\n",
       "    </tr>\n",
       "  </thead>\n",
       "  <tbody>\n",
       "    <tr>\n",
       "      <th>0</th>\n",
       "      <td>0.97200</td>\n",
       "      <td>['David Bauer']</td>\n",
       "      <td>0.567</td>\n",
       "      <td>313293.0</td>\n",
       "      <td>5.221550</td>\n",
       "      <td>0.227</td>\n",
       "      <td>0.0</td>\n",
       "      <td>0w0D8H1ubRerCXHWYJkinO</td>\n",
       "      <td>0.601000</td>\n",
       "      <td>10.0</td>\n",
       "      <td>0.110</td>\n",
       "      <td>-13.441</td>\n",
       "      <td>1.0</td>\n",
       "      <td>Shout to the Lord</td>\n",
       "      <td>47.0</td>\n",
       "      <td>2000</td>\n",
       "      <td>0.0290</td>\n",
       "      <td>136.123</td>\n",
       "      <td>0.0396</td>\n",
       "      <td>2000.0</td>\n",
       "    </tr>\n",
       "    <tr>\n",
       "      <th>1</th>\n",
       "      <td>0.32100</td>\n",
       "      <td>['Etta James']</td>\n",
       "      <td>0.821</td>\n",
       "      <td>360240.0</td>\n",
       "      <td>6.004000</td>\n",
       "      <td>0.418</td>\n",
       "      <td>0.0</td>\n",
       "      <td>4JVeqfE2tpi7Pv63LJZtPh</td>\n",
       "      <td>0.000372</td>\n",
       "      <td>9.0</td>\n",
       "      <td>0.222</td>\n",
       "      <td>-9.841</td>\n",
       "      <td>0.0</td>\n",
       "      <td>Miss You</td>\n",
       "      <td>51.0</td>\n",
       "      <td>2000-12-12</td>\n",
       "      <td>0.0407</td>\n",
       "      <td>117.382</td>\n",
       "      <td>0.8030</td>\n",
       "      <td>2000.0</td>\n",
       "    </tr>\n",
       "    <tr>\n",
       "      <th>2</th>\n",
       "      <td>0.00659</td>\n",
       "      <td>['Quasimoto']</td>\n",
       "      <td>0.706</td>\n",
       "      <td>202507.0</td>\n",
       "      <td>3.375117</td>\n",
       "      <td>0.602</td>\n",
       "      <td>1.0</td>\n",
       "      <td>5pxtdhLAi0RTh1gNqhGMNA</td>\n",
       "      <td>0.000138</td>\n",
       "      <td>11.0</td>\n",
       "      <td>0.400</td>\n",
       "      <td>-8.306</td>\n",
       "      <td>0.0</td>\n",
       "      <td>Real Eyes</td>\n",
       "      <td>44.0</td>\n",
       "      <td>2000-06-13</td>\n",
       "      <td>0.3420</td>\n",
       "      <td>89.692</td>\n",
       "      <td>0.4790</td>\n",
       "      <td>2000.0</td>\n",
       "    </tr>\n",
       "    <tr>\n",
       "      <th>3</th>\n",
       "      <td>0.00390</td>\n",
       "      <td>['Millencolin']</td>\n",
       "      <td>0.368</td>\n",
       "      <td>173360.0</td>\n",
       "      <td>2.889333</td>\n",
       "      <td>0.977</td>\n",
       "      <td>0.0</td>\n",
       "      <td>3jRsoe4Vkxa4BMYqGHX8L0</td>\n",
       "      <td>0.000000</td>\n",
       "      <td>11.0</td>\n",
       "      <td>0.350</td>\n",
       "      <td>-2.757</td>\n",
       "      <td>0.0</td>\n",
       "      <td>Penguins &amp; Polarbears</td>\n",
       "      <td>52.0</td>\n",
       "      <td>2000-02-22</td>\n",
       "      <td>0.1270</td>\n",
       "      <td>165.889</td>\n",
       "      <td>0.5480</td>\n",
       "      <td>2000.0</td>\n",
       "    </tr>\n",
       "    <tr>\n",
       "      <th>4</th>\n",
       "      <td>0.12200</td>\n",
       "      <td>['Steve Chou']</td>\n",
       "      <td>0.501</td>\n",
       "      <td>344200.0</td>\n",
       "      <td>5.736667</td>\n",
       "      <td>0.511</td>\n",
       "      <td>0.0</td>\n",
       "      <td>4mronxcllhfyhBRqyZi8kU</td>\n",
       "      <td>0.000000</td>\n",
       "      <td>7.0</td>\n",
       "      <td>0.279</td>\n",
       "      <td>-9.836</td>\n",
       "      <td>0.0</td>\n",
       "      <td>黃昏</td>\n",
       "      <td>53.0</td>\n",
       "      <td>2000-12-25</td>\n",
       "      <td>0.0291</td>\n",
       "      <td>78.045</td>\n",
       "      <td>0.1130</td>\n",
       "      <td>2000.0</td>\n",
       "    </tr>\n",
       "  </tbody>\n",
       "</table>\n",
       "</div>"
      ],
      "text/plain": [
       "   acousticness          artists  danceability  duration_ms  duration_minutes  \\\n",
       "0       0.97200  ['David Bauer']         0.567     313293.0          5.221550   \n",
       "1       0.32100   ['Etta James']         0.821     360240.0          6.004000   \n",
       "2       0.00659    ['Quasimoto']         0.706     202507.0          3.375117   \n",
       "3       0.00390  ['Millencolin']         0.368     173360.0          2.889333   \n",
       "4       0.12200   ['Steve Chou']         0.501     344200.0          5.736667   \n",
       "\n",
       "   energy  explicit                      id  instrumentalness   key  liveness  \\\n",
       "0   0.227       0.0  0w0D8H1ubRerCXHWYJkinO          0.601000  10.0     0.110   \n",
       "1   0.418       0.0  4JVeqfE2tpi7Pv63LJZtPh          0.000372   9.0     0.222   \n",
       "2   0.602       1.0  5pxtdhLAi0RTh1gNqhGMNA          0.000138  11.0     0.400   \n",
       "3   0.977       0.0  3jRsoe4Vkxa4BMYqGHX8L0          0.000000  11.0     0.350   \n",
       "4   0.511       0.0  4mronxcllhfyhBRqyZi8kU          0.000000   7.0     0.279   \n",
       "\n",
       "   loudness  mode                   name  popularity release_date  \\\n",
       "0   -13.441   1.0      Shout to the Lord        47.0         2000   \n",
       "1    -9.841   0.0               Miss You        51.0   2000-12-12   \n",
       "2    -8.306   0.0              Real Eyes        44.0   2000-06-13   \n",
       "3    -2.757   0.0  Penguins & Polarbears        52.0   2000-02-22   \n",
       "4    -9.836   0.0                     黃昏        53.0   2000-12-25   \n",
       "\n",
       "   speechiness    tempo  valence    year  \n",
       "0       0.0290  136.123   0.0396  2000.0  \n",
       "1       0.0407  117.382   0.8030  2000.0  \n",
       "2       0.3420   89.692   0.4790  2000.0  \n",
       "3       0.1270  165.889   0.5480  2000.0  \n",
       "4       0.0291   78.045   0.1130  2000.0  "
      ]
     },
     "execution_count": 5,
     "metadata": {},
     "output_type": "execute_result"
    }
   ],
   "source": [
    "# Read in the spotify data \n",
    "spotify_population = pd.read_feather('spotify_2000_2020.feather')\n",
    "\n",
    "# Display the first few rows\n",
    "spotify_population.head()"
   ]
  },
  {
   "cell_type": "code",
   "execution_count": 6,
   "id": "0c636ae0-1f63-4531-a962-09b91725f9fc",
   "metadata": {},
   "outputs": [
    {
     "data": {
      "text/plain": [
       "(41656, 20)"
      ]
     },
     "execution_count": 6,
     "metadata": {},
     "output_type": "execute_result"
    }
   ],
   "source": [
    "# Display the row and column count\n",
    "spotify_population.shape"
   ]
  },
  {
   "cell_type": "code",
   "execution_count": 7,
   "id": "e5f3e2c2-ed17-4f04-a66b-4e5b930521b5",
   "metadata": {},
   "outputs": [
    {
     "data": {
      "text/html": [
       "<div>\n",
       "<style scoped>\n",
       "    .dataframe tbody tr th:only-of-type {\n",
       "        vertical-align: middle;\n",
       "    }\n",
       "\n",
       "    .dataframe tbody tr th {\n",
       "        vertical-align: top;\n",
       "    }\n",
       "\n",
       "    .dataframe thead th {\n",
       "        text-align: right;\n",
       "    }\n",
       "</style>\n",
       "<table border=\"1\" class=\"dataframe\">\n",
       "  <thead>\n",
       "    <tr style=\"text-align: right;\">\n",
       "      <th></th>\n",
       "      <th>acousticness</th>\n",
       "      <th>artists</th>\n",
       "      <th>danceability</th>\n",
       "      <th>duration_ms</th>\n",
       "      <th>duration_minutes</th>\n",
       "      <th>energy</th>\n",
       "      <th>explicit</th>\n",
       "      <th>id</th>\n",
       "      <th>instrumentalness</th>\n",
       "      <th>key</th>\n",
       "      <th>liveness</th>\n",
       "      <th>loudness</th>\n",
       "      <th>mode</th>\n",
       "      <th>name</th>\n",
       "      <th>popularity</th>\n",
       "      <th>release_date</th>\n",
       "      <th>speechiness</th>\n",
       "      <th>tempo</th>\n",
       "      <th>valence</th>\n",
       "      <th>year</th>\n",
       "    </tr>\n",
       "  </thead>\n",
       "  <tbody>\n",
       "    <tr>\n",
       "      <th>29729</th>\n",
       "      <td>0.000576</td>\n",
       "      <td>['Nine Inch Nails']</td>\n",
       "      <td>0.700</td>\n",
       "      <td>263093.0</td>\n",
       "      <td>4.384883</td>\n",
       "      <td>0.807</td>\n",
       "      <td>1.0</td>\n",
       "      <td>0m1DJ5Jkv3kdnGrcZsJFmC</td>\n",
       "      <td>0.004880</td>\n",
       "      <td>9.0</td>\n",
       "      <td>0.0996</td>\n",
       "      <td>-5.711</td>\n",
       "      <td>0.0</td>\n",
       "      <td>Only</td>\n",
       "      <td>50.0</td>\n",
       "      <td>2005-01-01</td>\n",
       "      <td>0.0290</td>\n",
       "      <td>112.150</td>\n",
       "      <td>0.963</td>\n",
       "      <td>2005.0</td>\n",
       "    </tr>\n",
       "    <tr>\n",
       "      <th>12516</th>\n",
       "      <td>0.105000</td>\n",
       "      <td>['RMR', 'Future', 'Lil Baby']</td>\n",
       "      <td>0.885</td>\n",
       "      <td>192794.0</td>\n",
       "      <td>3.213233</td>\n",
       "      <td>0.525</td>\n",
       "      <td>1.0</td>\n",
       "      <td>2Phy6PupYrV7yn1cjV8kTL</td>\n",
       "      <td>0.000124</td>\n",
       "      <td>1.0</td>\n",
       "      <td>0.1320</td>\n",
       "      <td>-5.087</td>\n",
       "      <td>1.0</td>\n",
       "      <td>DEALER (feat. Future &amp; Lil Baby)</td>\n",
       "      <td>65.0</td>\n",
       "      <td>2020-05-07</td>\n",
       "      <td>0.0750</td>\n",
       "      <td>119.975</td>\n",
       "      <td>0.058</td>\n",
       "      <td>2020.0</td>\n",
       "    </tr>\n",
       "    <tr>\n",
       "      <th>251</th>\n",
       "      <td>0.000022</td>\n",
       "      <td>['Stone Sour']</td>\n",
       "      <td>0.265</td>\n",
       "      <td>193533.0</td>\n",
       "      <td>3.225550</td>\n",
       "      <td>0.957</td>\n",
       "      <td>1.0</td>\n",
       "      <td>2hX2v0U5lKSlxVxnesLEak</td>\n",
       "      <td>0.029100</td>\n",
       "      <td>11.0</td>\n",
       "      <td>0.1050</td>\n",
       "      <td>-3.415</td>\n",
       "      <td>1.0</td>\n",
       "      <td>Get Inside</td>\n",
       "      <td>47.0</td>\n",
       "      <td>2002-08-19</td>\n",
       "      <td>0.0995</td>\n",
       "      <td>151.610</td>\n",
       "      <td>0.396</td>\n",
       "      <td>2002.0</td>\n",
       "    </tr>\n",
       "    <tr>\n",
       "      <th>21070</th>\n",
       "      <td>0.000671</td>\n",
       "      <td>['Chevelle']</td>\n",
       "      <td>0.509</td>\n",
       "      <td>238400.0</td>\n",
       "      <td>3.973333</td>\n",
       "      <td>0.843</td>\n",
       "      <td>0.0</td>\n",
       "      <td>1gyee1JuFFiP476LQpRMYU</td>\n",
       "      <td>0.000803</td>\n",
       "      <td>1.0</td>\n",
       "      <td>0.3480</td>\n",
       "      <td>-3.318</td>\n",
       "      <td>0.0</td>\n",
       "      <td>The Red</td>\n",
       "      <td>69.0</td>\n",
       "      <td>2002</td>\n",
       "      <td>0.0488</td>\n",
       "      <td>140.055</td>\n",
       "      <td>0.332</td>\n",
       "      <td>2002.0</td>\n",
       "    </tr>\n",
       "    <tr>\n",
       "      <th>21450</th>\n",
       "      <td>0.206000</td>\n",
       "      <td>['50 Cent']</td>\n",
       "      <td>0.925</td>\n",
       "      <td>214227.0</td>\n",
       "      <td>3.570450</td>\n",
       "      <td>0.659</td>\n",
       "      <td>1.0</td>\n",
       "      <td>69bHJ9qs5FrUJbKP8xU8uZ</td>\n",
       "      <td>0.000079</td>\n",
       "      <td>3.0</td>\n",
       "      <td>0.2790</td>\n",
       "      <td>-4.763</td>\n",
       "      <td>1.0</td>\n",
       "      <td>Disco Inferno</td>\n",
       "      <td>69.0</td>\n",
       "      <td>2005-03-03</td>\n",
       "      <td>0.2310</td>\n",
       "      <td>97.018</td>\n",
       "      <td>0.710</td>\n",
       "      <td>2005.0</td>\n",
       "    </tr>\n",
       "  </tbody>\n",
       "</table>\n",
       "</div>"
      ],
      "text/plain": [
       "       acousticness                        artists  danceability  duration_ms  \\\n",
       "29729      0.000576            ['Nine Inch Nails']         0.700     263093.0   \n",
       "12516      0.105000  ['RMR', 'Future', 'Lil Baby']         0.885     192794.0   \n",
       "251        0.000022                 ['Stone Sour']         0.265     193533.0   \n",
       "21070      0.000671                   ['Chevelle']         0.509     238400.0   \n",
       "21450      0.206000                    ['50 Cent']         0.925     214227.0   \n",
       "\n",
       "       duration_minutes  energy  explicit                      id  \\\n",
       "29729          4.384883   0.807       1.0  0m1DJ5Jkv3kdnGrcZsJFmC   \n",
       "12516          3.213233   0.525       1.0  2Phy6PupYrV7yn1cjV8kTL   \n",
       "251            3.225550   0.957       1.0  2hX2v0U5lKSlxVxnesLEak   \n",
       "21070          3.973333   0.843       0.0  1gyee1JuFFiP476LQpRMYU   \n",
       "21450          3.570450   0.659       1.0  69bHJ9qs5FrUJbKP8xU8uZ   \n",
       "\n",
       "       instrumentalness   key  liveness  loudness  mode  \\\n",
       "29729          0.004880   9.0    0.0996    -5.711   0.0   \n",
       "12516          0.000124   1.0    0.1320    -5.087   1.0   \n",
       "251            0.029100  11.0    0.1050    -3.415   1.0   \n",
       "21070          0.000803   1.0    0.3480    -3.318   0.0   \n",
       "21450          0.000079   3.0    0.2790    -4.763   1.0   \n",
       "\n",
       "                                   name  popularity release_date  speechiness  \\\n",
       "29729                              Only        50.0   2005-01-01       0.0290   \n",
       "12516  DEALER (feat. Future & Lil Baby)        65.0   2020-05-07       0.0750   \n",
       "251                          Get Inside        47.0   2002-08-19       0.0995   \n",
       "21070                           The Red        69.0         2002       0.0488   \n",
       "21450                     Disco Inferno        69.0   2005-03-03       0.2310   \n",
       "\n",
       "         tempo  valence    year  \n",
       "29729  112.150    0.963  2005.0  \n",
       "12516  119.975    0.058  2020.0  \n",
       "251    151.610    0.396  2002.0  \n",
       "21070  140.055    0.332  2002.0  \n",
       "21450   97.018    0.710  2005.0  "
      ]
     },
     "execution_count": 7,
     "metadata": {},
     "output_type": "execute_result"
    }
   ],
   "source": [
    "# Sample 1000 rows from spotify_population\n",
    "spotify_sample = spotify_population.sample(n=1000)\n",
    "\n",
    "# Print the sample\n",
    "spotify_sample.head()"
   ]
  },
  {
   "cell_type": "code",
   "execution_count": 8,
   "id": "176d76b1-f004-46e8-b18b-f6f39710df5d",
   "metadata": {},
   "outputs": [
    {
     "name": "stdout",
     "output_type": "stream",
     "text": [
      "3.8521519140900073\n",
      "3.8859160999999998\n"
     ]
    }
   ],
   "source": [
    "# Calculate the mean duration in mins from spotify_population\n",
    "mean_dur_pop = spotify_population['duration_minutes'].mean()\n",
    "\n",
    "# Calculate the mean duration in mins from spotify_sample\n",
    "mean_dur_samp = spotify_sample['duration_minutes'].mean()\n",
    "\n",
    "# Print the means\n",
    "print(mean_dur_pop)\n",
    "print(mean_dur_samp)"
   ]
  },
  {
   "cell_type": "markdown",
   "id": "4632a76f-1791-4d79-a530-894d1cf1f61b",
   "metadata": {},
   "source": [
    "Notice that the mean song duration in the sample is similar, but not identical to the mean song duration in the whole population."
   ]
  },
  {
   "cell_type": "markdown",
   "id": "3aee9565-d712-4d63-882d-ffbfb7de3e8d",
   "metadata": {},
   "source": [
    "## Simple sampling and calculating with NumPy\n",
    "You can also use `numpy` to calculate parameters or statistics from a list or pandas Series.\n",
    "\n",
    "You'll be turning it up to eleven and looking at the `loudness` property of each song."
   ]
  },
  {
   "cell_type": "code",
   "execution_count": 11,
   "id": "4db30a50-6388-420d-90a5-2372e44d9e80",
   "metadata": {},
   "outputs": [
    {
     "data": {
      "text/plain": [
       "19175   -7.568\n",
       "27802   -3.540\n",
       "6280    -8.070\n",
       "29764   -6.448\n",
       "24051   -9.533\n",
       "Name: loudness, dtype: float64"
      ]
     },
     "execution_count": 11,
     "metadata": {},
     "output_type": "execute_result"
    }
   ],
   "source": [
    "# Create a pandas Series from the loudness column of spotify_population\n",
    "loudness_pop = spotify_population['loudness']\n",
    "\n",
    "# Sample 100 values of loudness_pop\n",
    "loudness_samp = loudness_pop.sample(n=100)\n",
    "\n",
    "# Display the sample\n",
    "loudness_samp.head()"
   ]
  },
  {
   "cell_type": "code",
   "execution_count": 12,
   "id": "a629f4da-d7ce-4291-82c6-25acc0dc83e8",
   "metadata": {},
   "outputs": [
    {
     "name": "stdout",
     "output_type": "stream",
     "text": [
      "-7.366856851353947\n",
      "-7.375689999999999\n"
     ]
    }
   ],
   "source": [
    "# Calculate the mean of loudness_pop\n",
    "mean_loudness_pop = np.mean(loudness_pop)\n",
    "\n",
    "# Calculate the mean of loudness_samp\n",
    "mean_loudness_samp = np.mean(loudness_samp)\n",
    "\n",
    "print(mean_loudness_pop)\n",
    "print(mean_loudness_samp)"
   ]
  },
  {
   "cell_type": "markdown",
   "id": "eb0f122c-826f-49ee-9df8-d017a3079f38",
   "metadata": {},
   "source": [
    "Again, notice that the calculated value (the mean) is close but not identical in each case."
   ]
  },
  {
   "cell_type": "markdown",
   "id": "b40d428f-bd62-40bd-9e6c-008b91daa2ff",
   "metadata": {},
   "source": [
    "## Are findings from the sample generalizable?\n",
    "You just saw how convenience sampling—collecting data using the easiest method—can result in samples that aren't representative of the population. Equivalently, this means findings from the sample are not generalizable to the population. ***Visualizing the distributions of the population and the sample can help determine whether or not the sample is representative of the population***.\n",
    "\n",
    "The Spotify dataset contains an `acousticness` column, which is a confidence measure from zero to one of whether the track was made with instruments that aren't plugged in. You'll compare the `acousticness` distribution of the total population of songs with a sample of those songs."
   ]
  },
  {
   "cell_type": "code",
   "execution_count": 15,
   "id": "11779a8a-32b9-4612-9b73-62bbf5216a72",
   "metadata": {},
   "outputs": [
    {
     "data": {
      "image/png": "[encoded data removed]",
      "text/plain": [
       "<Figure size 640x480 with 1 Axes>"
      ]
     },
     "metadata": {},
     "output_type": "display_data"
    }
   ],
   "source": [
    "# Visualize the distribution of acousticness with a histogram\n",
    "spotify_population['acousticness'].hist(bins=np.arange(0, 1.01, 0.01))\n",
    "\n",
    "plt.show()"
   ]
  },
  {
   "cell_type": "code",
   "execution_count": 16,
   "id": "430490a9-ff61-4426-81eb-b41330185505",
   "metadata": {},
   "outputs": [
    {
     "data": {
      "text/html": [
       "<div>\n",
       "<style scoped>\n",
       "    .dataframe tbody tr th:only-of-type {\n",
       "        vertical-align: middle;\n",
       "    }\n",
       "\n",
       "    .dataframe tbody tr th {\n",
       "        vertical-align: top;\n",
       "    }\n",
       "\n",
       "    .dataframe thead th {\n",
       "        text-align: right;\n",
       "    }\n",
       "</style>\n",
       "<table border=\"1\" class=\"dataframe\">\n",
       "  <thead>\n",
       "    <tr style=\"text-align: right;\">\n",
       "      <th></th>\n",
       "      <th>acousticness</th>\n",
       "      <th>artists</th>\n",
       "      <th>danceability</th>\n",
       "      <th>duration_ms</th>\n",
       "      <th>duration_minutes</th>\n",
       "      <th>energy</th>\n",
       "      <th>explicit</th>\n",
       "      <th>id</th>\n",
       "      <th>instrumentalness</th>\n",
       "      <th>key</th>\n",
       "      <th>liveness</th>\n",
       "      <th>loudness</th>\n",
       "      <th>mode</th>\n",
       "      <th>name</th>\n",
       "      <th>popularity</th>\n",
       "      <th>release_date</th>\n",
       "      <th>speechiness</th>\n",
       "      <th>tempo</th>\n",
       "      <th>valence</th>\n",
       "      <th>year</th>\n",
       "    </tr>\n",
       "  </thead>\n",
       "  <tbody>\n",
       "    <tr>\n",
       "      <th>0</th>\n",
       "      <td>0.972</td>\n",
       "      <td>['David Bauer']</td>\n",
       "      <td>0.567</td>\n",
       "      <td>313293.0</td>\n",
       "      <td>5.221550</td>\n",
       "      <td>0.22700</td>\n",
       "      <td>0.0</td>\n",
       "      <td>0w0D8H1ubRerCXHWYJkinO</td>\n",
       "      <td>0.60100</td>\n",
       "      <td>10.0</td>\n",
       "      <td>0.1100</td>\n",
       "      <td>-13.441</td>\n",
       "      <td>1.0</td>\n",
       "      <td>Shout to the Lord</td>\n",
       "      <td>47.0</td>\n",
       "      <td>2000</td>\n",
       "      <td>0.0290</td>\n",
       "      <td>136.123</td>\n",
       "      <td>0.0396</td>\n",
       "      <td>2000.0</td>\n",
       "    </tr>\n",
       "    <tr>\n",
       "      <th>1</th>\n",
       "      <td>0.988</td>\n",
       "      <td>['The Cathedral Singers', 'Lorelei McDermott',...</td>\n",
       "      <td>0.233</td>\n",
       "      <td>248600.0</td>\n",
       "      <td>4.143333</td>\n",
       "      <td>0.12200</td>\n",
       "      <td>0.0</td>\n",
       "      <td>4IyK8htJJzbRjPihpMouWu</td>\n",
       "      <td>0.00354</td>\n",
       "      <td>10.0</td>\n",
       "      <td>0.0916</td>\n",
       "      <td>-19.528</td>\n",
       "      <td>1.0</td>\n",
       "      <td>Ave Maria, Op. 52 No. 6, D. 839 (Arr. for Sopr...</td>\n",
       "      <td>52.0</td>\n",
       "      <td>2000-01-01</td>\n",
       "      <td>0.0333</td>\n",
       "      <td>90.593</td>\n",
       "      <td>0.0991</td>\n",
       "      <td>2000.0</td>\n",
       "    </tr>\n",
       "    <tr>\n",
       "      <th>2</th>\n",
       "      <td>0.958</td>\n",
       "      <td>['Cliff Edwards', 'Disney Studio Chorus']</td>\n",
       "      <td>0.181</td>\n",
       "      <td>195120.0</td>\n",
       "      <td>3.252000</td>\n",
       "      <td>0.27000</td>\n",
       "      <td>0.0</td>\n",
       "      <td>0JIPxQiFYgnPfQDuAZTnHk</td>\n",
       "      <td>0.02030</td>\n",
       "      <td>9.0</td>\n",
       "      <td>0.3520</td>\n",
       "      <td>-13.616</td>\n",
       "      <td>1.0</td>\n",
       "      <td>When You Wish Upon a Star - From \"Pinocchio\"/S...</td>\n",
       "      <td>44.0</td>\n",
       "      <td>2001-01-01</td>\n",
       "      <td>0.0353</td>\n",
       "      <td>92.843</td>\n",
       "      <td>0.1140</td>\n",
       "      <td>2001.0</td>\n",
       "    </tr>\n",
       "    <tr>\n",
       "      <th>3</th>\n",
       "      <td>0.971</td>\n",
       "      <td>['John Williams']</td>\n",
       "      <td>0.153</td>\n",
       "      <td>226333.0</td>\n",
       "      <td>3.772217</td>\n",
       "      <td>0.00905</td>\n",
       "      <td>0.0</td>\n",
       "      <td>0pyKuk3bYFSzPIysym8ioN</td>\n",
       "      <td>0.60700</td>\n",
       "      <td>0.0</td>\n",
       "      <td>0.1070</td>\n",
       "      <td>-30.099</td>\n",
       "      <td>1.0</td>\n",
       "      <td>Hogwarts Forever! and the Moving Stairs</td>\n",
       "      <td>48.0</td>\n",
       "      <td>2001-10-30</td>\n",
       "      <td>0.0372</td>\n",
       "      <td>164.191</td>\n",
       "      <td>0.0730</td>\n",
       "      <td>2001.0</td>\n",
       "    </tr>\n",
       "    <tr>\n",
       "      <th>4</th>\n",
       "      <td>0.990</td>\n",
       "      <td>['Yiruma']</td>\n",
       "      <td>0.282</td>\n",
       "      <td>277133.0</td>\n",
       "      <td>4.618883</td>\n",
       "      <td>0.15200</td>\n",
       "      <td>0.0</td>\n",
       "      <td>5DLA620cB8o3YIXujemlay</td>\n",
       "      <td>0.90500</td>\n",
       "      <td>2.0</td>\n",
       "      <td>0.0676</td>\n",
       "      <td>-20.094</td>\n",
       "      <td>1.0</td>\n",
       "      <td>Passing By</td>\n",
       "      <td>49.0</td>\n",
       "      <td>2001-11-27</td>\n",
       "      <td>0.0349</td>\n",
       "      <td>84.109</td>\n",
       "      <td>0.0510</td>\n",
       "      <td>2001.0</td>\n",
       "    </tr>\n",
       "  </tbody>\n",
       "</table>\n",
       "</div>"
      ],
      "text/plain": [
       "   acousticness                                            artists  \\\n",
       "0         0.972                                    ['David Bauer']   \n",
       "1         0.988  ['The Cathedral Singers', 'Lorelei McDermott',...   \n",
       "2         0.958          ['Cliff Edwards', 'Disney Studio Chorus']   \n",
       "3         0.971                                  ['John Williams']   \n",
       "4         0.990                                         ['Yiruma']   \n",
       "\n",
       "   danceability  duration_ms  duration_minutes   energy  explicit  \\\n",
       "0         0.567     313293.0          5.221550  0.22700       0.0   \n",
       "1         0.233     248600.0          4.143333  0.12200       0.0   \n",
       "2         0.181     195120.0          3.252000  0.27000       0.0   \n",
       "3         0.153     226333.0          3.772217  0.00905       0.0   \n",
       "4         0.282     277133.0          4.618883  0.15200       0.0   \n",
       "\n",
       "                       id  instrumentalness   key  liveness  loudness  mode  \\\n",
       "0  0w0D8H1ubRerCXHWYJkinO           0.60100  10.0    0.1100   -13.441   1.0   \n",
       "1  4IyK8htJJzbRjPihpMouWu           0.00354  10.0    0.0916   -19.528   1.0   \n",
       "2  0JIPxQiFYgnPfQDuAZTnHk           0.02030   9.0    0.3520   -13.616   1.0   \n",
       "3  0pyKuk3bYFSzPIysym8ioN           0.60700   0.0    0.1070   -30.099   1.0   \n",
       "4  5DLA620cB8o3YIXujemlay           0.90500   2.0    0.0676   -20.094   1.0   \n",
       "\n",
       "                                                name  popularity release_date  \\\n",
       "0                                  Shout to the Lord        47.0         2000   \n",
       "1  Ave Maria, Op. 52 No. 6, D. 839 (Arr. for Sopr...        52.0   2000-01-01   \n",
       "2  When You Wish Upon a Star - From \"Pinocchio\"/S...        44.0   2001-01-01   \n",
       "3            Hogwarts Forever! and the Moving Stairs        48.0   2001-10-30   \n",
       "4                                         Passing By        49.0   2001-11-27   \n",
       "\n",
       "   speechiness    tempo  valence    year  \n",
       "0       0.0290  136.123   0.0396  2000.0  \n",
       "1       0.0333   90.593   0.0991  2000.0  \n",
       "2       0.0353   92.843   0.1140  2001.0  \n",
       "3       0.0372  164.191   0.0730  2001.0  \n",
       "4       0.0349   84.109   0.0510  2001.0  "
      ]
     },
     "execution_count": 16,
     "metadata": {},
     "output_type": "execute_result"
    }
   ],
   "source": [
    "# Read in the sms dataset\n",
    "spotify_mysterious_sample = pd.read_csv('spotify_mysterious_sample.csv')\n",
    "\n",
    "# Display the first few rows\n",
    "spotify_mysterious_sample.head()"
   ]
  },
  {
   "cell_type": "code",
   "execution_count": 17,
   "id": "0a76f714-4ec3-49a8-b897-7990ce69ba92",
   "metadata": {},
   "outputs": [
    {
     "data": {
      "text/plain": [
       "(1107, 20)"
      ]
     },
     "execution_count": 17,
     "metadata": {},
     "output_type": "execute_result"
    }
   ],
   "source": [
    "spotify_mysterious_sample.shape"
   ]
  },
  {
   "cell_type": "code",
   "execution_count": 18,
   "id": "0a94b379-8657-440c-bd63-2a8169511a9c",
   "metadata": {},
   "outputs": [
    {
     "data": {
      "image/png": "[encoded data removed]",
      "text/plain": [
       "<Figure size 640x480 with 1 Axes>"
      ]
     },
     "metadata": {},
     "output_type": "display_data"
    }
   ],
   "source": [
    "# Update the histogram to use spotify_mysterious_sample\n",
    "spotify_mysterious_sample['acousticness'].hist(bins=np.arange(0, 1.01, 0.01))\n",
    "plt.show()"
   ]
  },
  {
   "cell_type": "markdown",
   "id": "34a3ecd0-aa85-435e-8c90-7403258a50f1",
   "metadata": {},
   "source": [
    "Compare the two histograms you drew. Are the acousticness values in the sample generalizable to the general population?\n",
    "\n",
    "The acousticness values in the sample are all greater than `0.95`, whereas they range from `0` to `1` in the whole population."
   ]
  },
  {
   "cell_type": "markdown",
   "id": "3ca4e9a3-3cea-42dd-8fcf-bf5db16e7a14",
   "metadata": {},
   "source": [
    "## Are these findings generalizable?\n",
    "Let's look at another sample to see if it is representative of the population. This time, you'll look at the `duration_minutes` column of the Spotify dataset, which contains the length of the song in minutes."
   ]
  },
  {
   "cell_type": "code",
   "execution_count": 21,
   "id": "ed9ee9e5-224a-4c80-b76b-7fc543365efc",
   "metadata": {},
   "outputs": [
    {
     "data": {
      "image/png": "[encoded data removed]",
      "text/plain": [
       "<Figure size 640x480 with 1 Axes>"
      ]
     },
     "metadata": {},
     "output_type": "display_data"
    }
   ],
   "source": [
    "# Visualize the distribution of duration_minutes as a histogram\n",
    "spotify_population['duration_minutes'].hist(bins=np.arange(0, 15.5, 0.5 ))\n",
    "plt.show()"
   ]
  },
  {
   "cell_type": "code",
   "execution_count": 22,
   "id": "9e33b453-ef64-4c43-a030-ba97d208b894",
   "metadata": {},
   "outputs": [
    {
     "data": {
      "text/html": [
       "<div>\n",
       "<style scoped>\n",
       "    .dataframe tbody tr th:only-of-type {\n",
       "        vertical-align: middle;\n",
       "    }\n",
       "\n",
       "    .dataframe tbody tr th {\n",
       "        vertical-align: top;\n",
       "    }\n",
       "\n",
       "    .dataframe thead th {\n",
       "        text-align: right;\n",
       "    }\n",
       "</style>\n",
       "<table border=\"1\" class=\"dataframe\">\n",
       "  <thead>\n",
       "    <tr style=\"text-align: right;\">\n",
       "      <th></th>\n",
       "      <th>acousticness</th>\n",
       "      <th>artists</th>\n",
       "      <th>danceability</th>\n",
       "      <th>duration_ms</th>\n",
       "      <th>duration_minutes</th>\n",
       "      <th>energy</th>\n",
       "      <th>explicit</th>\n",
       "      <th>id</th>\n",
       "      <th>instrumentalness</th>\n",
       "      <th>key</th>\n",
       "      <th>liveness</th>\n",
       "      <th>loudness</th>\n",
       "      <th>mode</th>\n",
       "      <th>name</th>\n",
       "      <th>popularity</th>\n",
       "      <th>release_date</th>\n",
       "      <th>speechiness</th>\n",
       "      <th>tempo</th>\n",
       "      <th>valence</th>\n",
       "      <th>year</th>\n",
       "    </tr>\n",
       "  </thead>\n",
       "  <tbody>\n",
       "    <tr>\n",
       "      <th>0</th>\n",
       "      <td>0.000402</td>\n",
       "      <td>['Lil Wayne', 'Drake']</td>\n",
       "      <td>0.364</td>\n",
       "      <td>305840.0</td>\n",
       "      <td>5.097333</td>\n",
       "      <td>0.841</td>\n",
       "      <td>1.0</td>\n",
       "      <td>5eEj1vkMIqtmvaTk7cS4UC</td>\n",
       "      <td>0.000000</td>\n",
       "      <td>8.0</td>\n",
       "      <td>0.2420</td>\n",
       "      <td>-4.831</td>\n",
       "      <td>1.0</td>\n",
       "      <td>She Will</td>\n",
       "      <td>51.0</td>\n",
       "      <td>2011-01-01</td>\n",
       "      <td>0.1190</td>\n",
       "      <td>100.140</td>\n",
       "      <td>0.0837</td>\n",
       "      <td>2011.0</td>\n",
       "    </tr>\n",
       "    <tr>\n",
       "      <th>1</th>\n",
       "      <td>0.310000</td>\n",
       "      <td>['blackbear']</td>\n",
       "      <td>0.758</td>\n",
       "      <td>180000.0</td>\n",
       "      <td>3.000000</td>\n",
       "      <td>0.427</td>\n",
       "      <td>1.0</td>\n",
       "      <td>0Cyui3k9S61bue3uMkBD9S</td>\n",
       "      <td>0.000000</td>\n",
       "      <td>10.0</td>\n",
       "      <td>0.1150</td>\n",
       "      <td>-9.835</td>\n",
       "      <td>0.0</td>\n",
       "      <td>Girls Like U</td>\n",
       "      <td>56.0</td>\n",
       "      <td>2016-06-17</td>\n",
       "      <td>0.1130</td>\n",
       "      <td>139.911</td>\n",
       "      <td>0.4890</td>\n",
       "      <td>2016.0</td>\n",
       "    </tr>\n",
       "    <tr>\n",
       "      <th>2</th>\n",
       "      <td>0.000984</td>\n",
       "      <td>['Lacuna Coil']</td>\n",
       "      <td>0.503</td>\n",
       "      <td>245573.0</td>\n",
       "      <td>4.092883</td>\n",
       "      <td>0.667</td>\n",
       "      <td>0.0</td>\n",
       "      <td>71KtwiEpzcn9WxwlaS7ZJY</td>\n",
       "      <td>0.027000</td>\n",
       "      <td>11.0</td>\n",
       "      <td>0.2290</td>\n",
       "      <td>-6.831</td>\n",
       "      <td>0.0</td>\n",
       "      <td>Enjoy the Silence - cover version</td>\n",
       "      <td>55.0</td>\n",
       "      <td>2006</td>\n",
       "      <td>0.0285</td>\n",
       "      <td>113.018</td>\n",
       "      <td>0.1010</td>\n",
       "      <td>2006.0</td>\n",
       "    </tr>\n",
       "    <tr>\n",
       "      <th>3</th>\n",
       "      <td>0.334000</td>\n",
       "      <td>['The Beach Boys']</td>\n",
       "      <td>0.414</td>\n",
       "      <td>215827.0</td>\n",
       "      <td>3.597117</td>\n",
       "      <td>0.424</td>\n",
       "      <td>0.0</td>\n",
       "      <td>7tf64lNC31lWlTsih0nfZf</td>\n",
       "      <td>0.000005</td>\n",
       "      <td>10.0</td>\n",
       "      <td>0.1310</td>\n",
       "      <td>-9.497</td>\n",
       "      <td>1.0</td>\n",
       "      <td>Good Vibrations</td>\n",
       "      <td>46.0</td>\n",
       "      <td>2012-01-01</td>\n",
       "      <td>0.0399</td>\n",
       "      <td>132.430</td>\n",
       "      <td>0.3250</td>\n",
       "      <td>2012.0</td>\n",
       "    </tr>\n",
       "    <tr>\n",
       "      <th>4</th>\n",
       "      <td>0.001700</td>\n",
       "      <td>['In This Moment']</td>\n",
       "      <td>0.426</td>\n",
       "      <td>197627.0</td>\n",
       "      <td>3.293783</td>\n",
       "      <td>0.975</td>\n",
       "      <td>0.0</td>\n",
       "      <td>4Mpm64J9yqluKaOssgVQ9P</td>\n",
       "      <td>0.000000</td>\n",
       "      <td>0.0</td>\n",
       "      <td>0.0891</td>\n",
       "      <td>-1.892</td>\n",
       "      <td>1.0</td>\n",
       "      <td>Call Me</td>\n",
       "      <td>50.0</td>\n",
       "      <td>2009-04-10</td>\n",
       "      <td>0.0950</td>\n",
       "      <td>142.998</td>\n",
       "      <td>0.2730</td>\n",
       "      <td>2009.0</td>\n",
       "    </tr>\n",
       "  </tbody>\n",
       "</table>\n",
       "</div>"
      ],
      "text/plain": [
       "   acousticness                 artists  danceability  duration_ms  \\\n",
       "0      0.000402  ['Lil Wayne', 'Drake']         0.364     305840.0   \n",
       "1      0.310000           ['blackbear']         0.758     180000.0   \n",
       "2      0.000984         ['Lacuna Coil']         0.503     245573.0   \n",
       "3      0.334000      ['The Beach Boys']         0.414     215827.0   \n",
       "4      0.001700      ['In This Moment']         0.426     197627.0   \n",
       "\n",
       "   duration_minutes  energy  explicit                      id  \\\n",
       "0          5.097333   0.841       1.0  5eEj1vkMIqtmvaTk7cS4UC   \n",
       "1          3.000000   0.427       1.0  0Cyui3k9S61bue3uMkBD9S   \n",
       "2          4.092883   0.667       0.0  71KtwiEpzcn9WxwlaS7ZJY   \n",
       "3          3.597117   0.424       0.0  7tf64lNC31lWlTsih0nfZf   \n",
       "4          3.293783   0.975       0.0  4Mpm64J9yqluKaOssgVQ9P   \n",
       "\n",
       "   instrumentalness   key  liveness  loudness  mode  \\\n",
       "0          0.000000   8.0    0.2420    -4.831   1.0   \n",
       "1          0.000000  10.0    0.1150    -9.835   0.0   \n",
       "2          0.027000  11.0    0.2290    -6.831   0.0   \n",
       "3          0.000005  10.0    0.1310    -9.497   1.0   \n",
       "4          0.000000   0.0    0.0891    -1.892   1.0   \n",
       "\n",
       "                                name  popularity release_date  speechiness  \\\n",
       "0                           She Will        51.0   2011-01-01       0.1190   \n",
       "1                       Girls Like U        56.0   2016-06-17       0.1130   \n",
       "2  Enjoy the Silence - cover version        55.0         2006       0.0285   \n",
       "3                    Good Vibrations        46.0   2012-01-01       0.0399   \n",
       "4                            Call Me        50.0   2009-04-10       0.0950   \n",
       "\n",
       "     tempo  valence    year  \n",
       "0  100.140   0.0837  2011.0  \n",
       "1  139.911   0.4890  2016.0  \n",
       "2  113.018   0.1010  2006.0  \n",
       "3  132.430   0.3250  2012.0  \n",
       "4  142.998   0.2730  2009.0  "
      ]
     },
     "execution_count": 22,
     "metadata": {},
     "output_type": "execute_result"
    }
   ],
   "source": [
    "# Read in the sms2 dataset\n",
    "spotify_mysterious_sample2 = pd.read_csv('spotify_mysterious_sample2.csv')\n",
    "\n",
    "# Display the dataset\n",
    "spotify_mysterious_sample2.head()"
   ]
  },
  {
   "cell_type": "code",
   "execution_count": 23,
   "id": "242a5d1a-dfde-4369-8e1b-666c0d6775cb",
   "metadata": {},
   "outputs": [
    {
     "data": {
      "text/plain": [
       "(50, 20)"
      ]
     },
     "execution_count": 23,
     "metadata": {},
     "output_type": "execute_result"
    }
   ],
   "source": [
    "spotify_mysterious_sample2.shape"
   ]
  },
  {
   "cell_type": "code",
   "execution_count": 24,
   "id": "5fbce0f5-b7df-49d0-8c05-e21f80bcd6bc",
   "metadata": {},
   "outputs": [
    {
     "data": {
      "image/png": "[encoded data removed]",
      "text/plain": [
       "<Figure size 640x480 with 1 Axes>"
      ]
     },
     "metadata": {},
     "output_type": "display_data"
    }
   ],
   "source": [
    "# Update the histogram to use spotify_mysterious_sample2\n",
    "spotify_mysterious_sample2['duration_minutes'].hist(bins=np.arange(0, 15.5, 0.5))\n",
    "plt.show()"
   ]
  },
  {
   "cell_type": "markdown",
   "id": "819726a6-2af6-4f9f-9bde-4c5836d9dfb4",
   "metadata": {},
   "source": [
    "Compare the two histograms you drew. Are the duration values in the sample generalizable to the general population?\n",
    "\n",
    "Yes. The sample selected is likely a random sample of all songs in the population.\n",
    "\n",
    "The duration values in the sample show a similar distribution to those in the whole population, so the results are generalizable."
   ]
  },
  {
   "cell_type": "markdown",
   "id": "0fbea37e-be3b-42ec-b4dd-796249b5a2f9",
   "metadata": {},
   "source": [
    "## Generating random numbers\n",
    "You've used `.sample()` to generate pseudo-random numbers from a set of values in a DataFrame. A related task is to generate random numbers that follow a statistical distribution, like the uniform distribution or the `normal distribution`.\n",
    "\n",
    "Each random number generation function has distribution-specific arguments and an argument for specifying the number of random numbers to generate."
   ]
  },
  {
   "cell_type": "code",
   "execution_count": 27,
   "id": "3e53991c-ccb3-4301-903b-472e7e4af331",
   "metadata": {},
   "outputs": [
    {
     "name": "stdout",
     "output_type": "stream",
     "text": [
      "[-0.26229545  1.09410893 -2.98739731 ... -1.4148736  -0.41667879\n",
      "  1.16612088]\n"
     ]
    }
   ],
   "source": [
    "# Generate 5000 random numbers from a uniform distribution ranging from -3 to 3\n",
    "uniforms = np.random.uniform(low=-3, high=3, size=5000)\n",
    "\n",
    "# Print the array of generated uniform random numbers\n",
    "print(uniforms)"
   ]
  },
  {
   "cell_type": "code",
   "execution_count": 28,
   "id": "05a35b8b-0809-4cda-ad77-ff6ac8d0f780",
   "metadata": {},
   "outputs": [
    {
     "data": {
      "text/plain": [
       "5000"
      ]
     },
     "execution_count": 28,
     "metadata": {},
     "output_type": "execute_result"
    }
   ],
   "source": [
    "len(uniforms)"
   ]
  },
  {
   "cell_type": "code",
   "execution_count": 29,
   "id": "5af792bc-e32b-4a47-8e35-a039f8e5b4da",
   "metadata": {},
   "outputs": [
    {
     "data": {
      "image/png": "[encoded data removed]",
      "text/plain": [
       "<Figure size 640x480 with 1 Axes>"
      ]
     },
     "metadata": {},
     "output_type": "display_data"
    }
   ],
   "source": [
    "# Plot a histogram to visualize the distribution\n",
    "plt.hist(uniforms, bins=50, color='lightgreen', edgecolor='black', density=True)\n",
    "plt.title('Histogram of Uniformly Distributed Data (-3 to 3)')\n",
    "plt.xlabel('Value')\n",
    "plt.ylabel('Density')\n",
    "plt.grid(True)\n",
    "plt.show()"
   ]
  },
  {
   "cell_type": "code",
   "execution_count": 30,
   "id": "c8bba091-2156-4613-9383-5df4244ece72",
   "metadata": {},
   "outputs": [
    {
     "name": "stdout",
     "output_type": "stream",
     "text": [
      "[ 5.3331899   7.16145171  2.14037793 ... 10.1807732   8.92113789\n",
      "  4.59077218]\n"
     ]
    }
   ],
   "source": [
    "# Generate 5000 random numbers from a normal (Gaussian) distribution\n",
    "# The distribution has a mean (loc) of 5 and a standard deviation (scale) of 2\n",
    "normals = np.random.normal(loc=5, scale=2, size=5000)\n",
    "\n",
    "# Print the array of generated normal random numbers\n",
    "print(normals)"
   ]
  },
  {
   "cell_type": "code",
   "execution_count": 31,
   "id": "eeb79e39-b4cf-4555-b78e-96603905a9d5",
   "metadata": {},
   "outputs": [
    {
     "data": {
      "text/plain": [
       "5000"
      ]
     },
     "execution_count": 31,
     "metadata": {},
     "output_type": "execute_result"
    }
   ],
   "source": [
    "len(normals)"
   ]
  },
  {
   "cell_type": "markdown",
   "id": "92ced6b3-93ed-49a1-8598-354ef8923de5",
   "metadata": {},
   "source": [
    "Most of your values will cluster around 5, with fewer values further away, but still within a range of about"
   ]
  },
  {
   "cell_type": "code",
   "execution_count": 33,
   "id": "d61b62a8-43fb-41f7-b486-c2696c5884b6",
   "metadata": {},
   "outputs": [
    {
     "data": {
      "image/png": "[encoded data removed]",
      "text/plain": [
       "<Figure size 640x480 with 1 Axes>"
      ]
     },
     "metadata": {},
     "output_type": "display_data"
    }
   ],
   "source": [
    "plt.hist(normals, bins=50, color='skyblue', edgecolor='black', density=True)\n",
    "plt.title('Histogram of Normally Distributed Data (mean=5, std=2)')\n",
    "plt.xlabel('Value')\n",
    "plt.ylabel('Density')\n",
    "plt.grid(True)\n",
    "plt.show()"
   ]
  },
  {
   "cell_type": "code",
   "execution_count": 34,
   "id": "3db77313-9fe5-40cc-99bc-3a7ff05b045f",
   "metadata": {},
   "outputs": [
    {
     "data": {
      "image/png": "[encoded data removed]",
      "text/plain": [
       "<Figure size 1200x500 with 2 Axes>"
      ]
     },
     "metadata": {},
     "output_type": "display_data"
    }
   ],
   "source": [
    "# Create subplots: 1 row, 2 columns\n",
    "fig, axes = plt.subplots(1, 2, figsize=(12, 5))\n",
    "\n",
    "# Plot the uniform distribution\n",
    "axes[0].hist(uniforms, bins=50, color='lightgreen', edgecolor='black', density=True)\n",
    "axes[0].set_title('Uniform Distribution (-3 to 3)')\n",
    "axes[0].set_xlabel('Value')\n",
    "axes[0].set_ylabel('Density')\n",
    "axes[0].grid(True)\n",
    "\n",
    "# Plot the normal distribution\n",
    "axes[1].hist(normals, bins=50, color='skyblue', edgecolor='black', density=True)\n",
    "axes[1].set_title('Normal Distribution (mean=5, std=2)')\n",
    "axes[1].set_xlabel('Value')\n",
    "axes[1].set_ylabel('Density')\n",
    "axes[1].grid(True)\n",
    "\n",
    "# Adjust layout to prevent overlapping\n",
    "plt.tight_layout()\n",
    "plt.show()"
   ]
  },
  {
   "cell_type": "code",
   "execution_count": 35,
   "id": "92f9a8be-ef69-43fb-999d-747bba395a6b",
   "metadata": {},
   "outputs": [
    {
     "data": {
      "image/png": "[encoded data removed]",
      "text/plain": [
       "<Figure size 640x480 with 1 Axes>"
      ]
     },
     "metadata": {},
     "output_type": "display_data"
    }
   ],
   "source": [
    "# Generate random numbers from a Uniform(-3, 3)\n",
    "uniforms = np.random.uniform(low=-3, high=3, size=5000)\n",
    "\n",
    "# Plot a histogram of uniform values, binwidth 0.25\n",
    "# Define bin edges from -3 to 3.25 with a bin width of 0.25\n",
    "# first edge = -3.0\n",
    "# second edge = -3.0+0.25 = -2.75\n",
    "# 3rd edge = -2.75+0.25 = -2.50 and so on\n",
    "# The first bar corresponds to the range between -3.0 and -2.75.\n",
    "# The second bar corresponds to the range between -2.75 and -2.5, and so on.\n",
    "plt.hist(uniforms, bins=np.arange(-3, 3.25, 0.25), color='lightgreen', edgecolor='black')\n",
    "plt.show()"
   ]
  },
  {
   "cell_type": "code",
   "execution_count": 36,
   "id": "c9a37294-7d9c-4757-b051-0afbca1125ae",
   "metadata": {},
   "outputs": [
    {
     "data": {
      "image/png": "[encoded data removed]",
      "text/plain": [
       "<Figure size 640x480 with 1 Axes>"
      ]
     },
     "metadata": {},
     "output_type": "display_data"
    }
   ],
   "source": [
    "# Generate random numbers from a Normal(5, 2)\n",
    "normals = np.random.normal(loc=5, scale=2, size=5000)\n",
    "\n",
    "# Plot a histogram of normal values, binwidth 0.5\n",
    "plt.hist(normals, np.arange(-2, 13.5, 0.5), color='skyblue', edgecolor='black')\n",
    "plt.show()"
   ]
  },
  {
   "cell_type": "markdown",
   "id": "b9637a6b-5991-4fba-8ded-c59ab323e234",
   "metadata": {},
   "source": [
    "Notice how the histograms almost take the flat and bell curve shapes of the uniform and normal distributions, but there is a bit of random noise."
   ]
  },
  {
   "cell_type": "markdown",
   "id": "d8670d46-6b85-4489-aec1-03ec827322e3",
   "metadata": {},
   "source": [
    "## Understanding random seeds\n",
    "While random numbers are important for many analyses, they create a problem: the results you get can vary slightly. This can cause awkward conversations with your boss when your script for calculating the sales forecast gives different answers each time.\n",
    "\n",
    "Setting the seed for `numpy's` random number generator helps avoid such problems by making the random number generation reproducible."
   ]
  },
  {
   "cell_type": "code",
   "execution_count": 39,
   "id": "7446663e-0e5e-42ae-80ba-4a65e8483e6c",
   "metadata": {},
   "outputs": [],
   "source": [
    "# In the first case, the seed is set once, and the generator progresses through its state for both x and y independently.\n",
    "import numpy as np\n",
    "np.random.seed(123)\n",
    "x = np.random.normal(size=5)\n",
    "y = np.random.normal(size=5)"
   ]
  },
  {
   "cell_type": "code",
   "execution_count": 40,
   "id": "d705172e-4185-4127-8357-397bdef37a82",
   "metadata": {},
   "outputs": [
    {
     "name": "stdout",
     "output_type": "stream",
     "text": [
      "[-1.0856306   0.99734545  0.2829785  -1.50629471 -0.57860025]\n"
     ]
    }
   ],
   "source": [
    "print(x)"
   ]
  },
  {
   "cell_type": "code",
   "execution_count": 41,
   "id": "e946b17e-0859-4e6d-b4a2-3d2007a2d22d",
   "metadata": {},
   "outputs": [
    {
     "name": "stdout",
     "output_type": "stream",
     "text": [
      "[ 1.65143654 -2.42667924 -0.42891263  1.26593626 -0.8667404 ]\n"
     ]
    }
   ],
   "source": [
    "print(y)"
   ]
  },
  {
   "cell_type": "code",
   "execution_count": 42,
   "id": "9148b3e4-4988-445f-8ecf-54cc857e0c4b",
   "metadata": {},
   "outputs": [],
   "source": [
    "# In the second case, the seed is reset to the same value before generating y, \n",
    "# so both x and y are drawn from the same sequence of random numbers.\n",
    "import numpy as np\n",
    "np.random.seed(123)\n",
    "x = np.random.normal(size=5)\n",
    "np.random.seed(123)\n",
    "y = np.random.normal(size=5)"
   ]
  },
  {
   "cell_type": "code",
   "execution_count": 43,
   "id": "2fa6af0d-1401-4b46-8fa7-103bae4a0436",
   "metadata": {},
   "outputs": [
    {
     "name": "stdout",
     "output_type": "stream",
     "text": [
      "[-1.0856306   0.99734545  0.2829785  -1.50629471 -0.57860025]\n"
     ]
    }
   ],
   "source": [
    "print(x)"
   ]
  },
  {
   "cell_type": "code",
   "execution_count": 44,
   "id": "4bcfb454-164c-4569-a544-7e425c0c9525",
   "metadata": {},
   "outputs": [
    {
     "name": "stdout",
     "output_type": "stream",
     "text": [
      "[-1.0856306   0.99734545  0.2829785  -1.50629471 -0.57860025]\n"
     ]
    }
   ],
   "source": [
    "print(y)"
   ]
  },
  {
   "cell_type": "code",
   "execution_count": 45,
   "id": "996e9511-3b9f-4b5d-99f4-dc74482de642",
   "metadata": {},
   "outputs": [],
   "source": [
    "# The random numbers in x and y are different because the seed \n",
    "# for the random number generator was changed between generating x and y.\n",
    "import numpy as np\n",
    "np.random.seed(123)\n",
    "x = np.random.normal(size=5)\n",
    "np.random.seed(456)\n",
    "y = np.random.normal(size=5)"
   ]
  },
  {
   "cell_type": "code",
   "execution_count": 46,
   "id": "84aaabb8-4925-46c7-950d-26980a93a265",
   "metadata": {},
   "outputs": [
    {
     "name": "stdout",
     "output_type": "stream",
     "text": [
      "[-1.0856306   0.99734545  0.2829785  -1.50629471 -0.57860025]\n"
     ]
    }
   ],
   "source": [
    "print(x)"
   ]
  },
  {
   "cell_type": "code",
   "execution_count": 47,
   "id": "cd38e05e-b5bf-4c25-b5b8-aaf925ea160f",
   "metadata": {},
   "outputs": [
    {
     "name": "stdout",
     "output_type": "stream",
     "text": [
      "[-0.6681285  -0.49820952  0.61857582  0.56869225  1.35050948]\n"
     ]
    }
   ],
   "source": [
    "print(y)"
   ]
  },
  {
   "cell_type": "markdown",
   "id": "d24a78e8-2e84-4dd8-8fe4-f0b2498ec34c",
   "metadata": {},
   "source": [
    "## Simple random sampling\n",
    "The simplest method of sampling a population is the one you've seen already. It is known as simple random sampling (sometimes abbreviated to \"SRS\"), and involves picking rows at random, one at a time, where each row has the same chance of being picked as any other.\n",
    "\n",
    "In this chapter, you'll apply sampling methods to a synthetic (fictional) employee attrition dataset from IBM, where \"attrition\" in this context means leaving the company."
   ]
  },
  {
   "cell_type": "code",
   "execution_count": 49,
   "id": "f83e42fa-4e2e-4913-b6cf-260c0cd0d3f5",
   "metadata": {},
   "outputs": [
    {
     "data": {
      "text/html": [
       "<div>\n",
       "<style scoped>\n",
       "    .dataframe tbody tr th:only-of-type {\n",
       "        vertical-align: middle;\n",
       "    }\n",
       "\n",
       "    .dataframe tbody tr th {\n",
       "        vertical-align: top;\n",
       "    }\n",
       "\n",
       "    .dataframe thead th {\n",
       "        text-align: right;\n",
       "    }\n",
       "</style>\n",
       "<table border=\"1\" class=\"dataframe\">\n",
       "  <thead>\n",
       "    <tr style=\"text-align: right;\">\n",
       "      <th></th>\n",
       "      <th>Age</th>\n",
       "      <th>Attrition</th>\n",
       "      <th>BusinessTravel</th>\n",
       "      <th>DailyRate</th>\n",
       "      <th>Department</th>\n",
       "      <th>DistanceFromHome</th>\n",
       "      <th>Education</th>\n",
       "      <th>EducationField</th>\n",
       "      <th>EnvironmentSatisfaction</th>\n",
       "      <th>Gender</th>\n",
       "      <th>...</th>\n",
       "      <th>PerformanceRating</th>\n",
       "      <th>RelationshipSatisfaction</th>\n",
       "      <th>StockOptionLevel</th>\n",
       "      <th>TotalWorkingYears</th>\n",
       "      <th>TrainingTimesLastYear</th>\n",
       "      <th>WorkLifeBalance</th>\n",
       "      <th>YearsAtCompany</th>\n",
       "      <th>YearsInCurrentRole</th>\n",
       "      <th>YearsSinceLastPromotion</th>\n",
       "      <th>YearsWithCurrManager</th>\n",
       "    </tr>\n",
       "  </thead>\n",
       "  <tbody>\n",
       "    <tr>\n",
       "      <th>0</th>\n",
       "      <td>21</td>\n",
       "      <td>0.0</td>\n",
       "      <td>Travel_Rarely</td>\n",
       "      <td>391</td>\n",
       "      <td>Research_Development</td>\n",
       "      <td>15</td>\n",
       "      <td>College</td>\n",
       "      <td>Life_Sciences</td>\n",
       "      <td>High</td>\n",
       "      <td>Male</td>\n",
       "      <td>...</td>\n",
       "      <td>Excellent</td>\n",
       "      <td>Very_High</td>\n",
       "      <td>0</td>\n",
       "      <td>0</td>\n",
       "      <td>6</td>\n",
       "      <td>Better</td>\n",
       "      <td>0</td>\n",
       "      <td>0</td>\n",
       "      <td>0</td>\n",
       "      <td>0</td>\n",
       "    </tr>\n",
       "    <tr>\n",
       "      <th>1</th>\n",
       "      <td>19</td>\n",
       "      <td>1.0</td>\n",
       "      <td>Travel_Rarely</td>\n",
       "      <td>528</td>\n",
       "      <td>Sales</td>\n",
       "      <td>22</td>\n",
       "      <td>Below_College</td>\n",
       "      <td>Marketing</td>\n",
       "      <td>Very_High</td>\n",
       "      <td>Male</td>\n",
       "      <td>...</td>\n",
       "      <td>Excellent</td>\n",
       "      <td>Very_High</td>\n",
       "      <td>0</td>\n",
       "      <td>0</td>\n",
       "      <td>2</td>\n",
       "      <td>Good</td>\n",
       "      <td>0</td>\n",
       "      <td>0</td>\n",
       "      <td>0</td>\n",
       "      <td>0</td>\n",
       "    </tr>\n",
       "    <tr>\n",
       "      <th>2</th>\n",
       "      <td>18</td>\n",
       "      <td>1.0</td>\n",
       "      <td>Travel_Rarely</td>\n",
       "      <td>230</td>\n",
       "      <td>Research_Development</td>\n",
       "      <td>3</td>\n",
       "      <td>Bachelor</td>\n",
       "      <td>Life_Sciences</td>\n",
       "      <td>High</td>\n",
       "      <td>Male</td>\n",
       "      <td>...</td>\n",
       "      <td>Excellent</td>\n",
       "      <td>High</td>\n",
       "      <td>0</td>\n",
       "      <td>0</td>\n",
       "      <td>2</td>\n",
       "      <td>Better</td>\n",
       "      <td>0</td>\n",
       "      <td>0</td>\n",
       "      <td>0</td>\n",
       "      <td>0</td>\n",
       "    </tr>\n",
       "    <tr>\n",
       "      <th>3</th>\n",
       "      <td>18</td>\n",
       "      <td>0.0</td>\n",
       "      <td>Travel_Rarely</td>\n",
       "      <td>812</td>\n",
       "      <td>Sales</td>\n",
       "      <td>10</td>\n",
       "      <td>Bachelor</td>\n",
       "      <td>Medical</td>\n",
       "      <td>Very_High</td>\n",
       "      <td>Female</td>\n",
       "      <td>...</td>\n",
       "      <td>Excellent</td>\n",
       "      <td>Low</td>\n",
       "      <td>0</td>\n",
       "      <td>0</td>\n",
       "      <td>2</td>\n",
       "      <td>Better</td>\n",
       "      <td>0</td>\n",
       "      <td>0</td>\n",
       "      <td>0</td>\n",
       "      <td>0</td>\n",
       "    </tr>\n",
       "    <tr>\n",
       "      <th>4</th>\n",
       "      <td>18</td>\n",
       "      <td>1.0</td>\n",
       "      <td>Travel_Frequently</td>\n",
       "      <td>1306</td>\n",
       "      <td>Sales</td>\n",
       "      <td>5</td>\n",
       "      <td>Bachelor</td>\n",
       "      <td>Marketing</td>\n",
       "      <td>Medium</td>\n",
       "      <td>Male</td>\n",
       "      <td>...</td>\n",
       "      <td>Excellent</td>\n",
       "      <td>Very_High</td>\n",
       "      <td>0</td>\n",
       "      <td>0</td>\n",
       "      <td>3</td>\n",
       "      <td>Better</td>\n",
       "      <td>0</td>\n",
       "      <td>0</td>\n",
       "      <td>0</td>\n",
       "      <td>0</td>\n",
       "    </tr>\n",
       "  </tbody>\n",
       "</table>\n",
       "<p>5 rows × 31 columns</p>\n",
       "</div>"
      ],
      "text/plain": [
       "   Age  Attrition     BusinessTravel  DailyRate            Department  \\\n",
       "0   21        0.0      Travel_Rarely        391  Research_Development   \n",
       "1   19        1.0      Travel_Rarely        528                 Sales   \n",
       "2   18        1.0      Travel_Rarely        230  Research_Development   \n",
       "3   18        0.0      Travel_Rarely        812                 Sales   \n",
       "4   18        1.0  Travel_Frequently       1306                 Sales   \n",
       "\n",
       "   DistanceFromHome      Education EducationField EnvironmentSatisfaction  \\\n",
       "0                15        College  Life_Sciences                    High   \n",
       "1                22  Below_College      Marketing               Very_High   \n",
       "2                 3       Bachelor  Life_Sciences                    High   \n",
       "3                10       Bachelor        Medical               Very_High   \n",
       "4                 5       Bachelor      Marketing                  Medium   \n",
       "\n",
       "   Gender  ...  PerformanceRating RelationshipSatisfaction  StockOptionLevel  \\\n",
       "0    Male  ...          Excellent                Very_High                 0   \n",
       "1    Male  ...          Excellent                Very_High                 0   \n",
       "2    Male  ...          Excellent                     High                 0   \n",
       "3  Female  ...          Excellent                      Low                 0   \n",
       "4    Male  ...          Excellent                Very_High                 0   \n",
       "\n",
       "  TotalWorkingYears TrainingTimesLastYear WorkLifeBalance  YearsAtCompany  \\\n",
       "0                 0                     6          Better               0   \n",
       "1                 0                     2            Good               0   \n",
       "2                 0                     2          Better               0   \n",
       "3                 0                     2          Better               0   \n",
       "4                 0                     3          Better               0   \n",
       "\n",
       "   YearsInCurrentRole  YearsSinceLastPromotion YearsWithCurrManager  \n",
       "0                   0                        0                    0  \n",
       "1                   0                        0                    0  \n",
       "2                   0                        0                    0  \n",
       "3                   0                        0                    0  \n",
       "4                   0                        0                    0  \n",
       "\n",
       "[5 rows x 31 columns]"
      ]
     },
     "execution_count": 49,
     "metadata": {},
     "output_type": "execute_result"
    }
   ],
   "source": [
    "# import the attrition data\n",
    "attrition_pop = pd.read_feather('attrition.feather')\n",
    "\n",
    "# Display the first few row\n",
    "attrition_pop.head()"
   ]
  },
  {
   "cell_type": "code",
   "execution_count": 50,
   "id": "0b76d4e7-6216-4a26-b016-eb44764b520c",
   "metadata": {},
   "outputs": [
    {
     "data": {
      "text/plain": [
       "(1470, 31)"
      ]
     },
     "execution_count": 50,
     "metadata": {},
     "output_type": "execute_result"
    }
   ],
   "source": [
    "attrition_pop.shape"
   ]
  },
  {
   "cell_type": "code",
   "execution_count": 51,
   "id": "1f5b1525-c1f2-40b1-951a-b1c651b0d21a",
   "metadata": {},
   "outputs": [
    {
     "data": {
      "text/html": [
       "<div>\n",
       "<style scoped>\n",
       "    .dataframe tbody tr th:only-of-type {\n",
       "        vertical-align: middle;\n",
       "    }\n",
       "\n",
       "    .dataframe tbody tr th {\n",
       "        vertical-align: top;\n",
       "    }\n",
       "\n",
       "    .dataframe thead th {\n",
       "        text-align: right;\n",
       "    }\n",
       "</style>\n",
       "<table border=\"1\" class=\"dataframe\">\n",
       "  <thead>\n",
       "    <tr style=\"text-align: right;\">\n",
       "      <th></th>\n",
       "      <th>Age</th>\n",
       "      <th>Attrition</th>\n",
       "      <th>BusinessTravel</th>\n",
       "      <th>DailyRate</th>\n",
       "      <th>Department</th>\n",
       "      <th>DistanceFromHome</th>\n",
       "      <th>Education</th>\n",
       "      <th>EducationField</th>\n",
       "      <th>EnvironmentSatisfaction</th>\n",
       "      <th>Gender</th>\n",
       "      <th>...</th>\n",
       "      <th>PerformanceRating</th>\n",
       "      <th>RelationshipSatisfaction</th>\n",
       "      <th>StockOptionLevel</th>\n",
       "      <th>TotalWorkingYears</th>\n",
       "      <th>TrainingTimesLastYear</th>\n",
       "      <th>WorkLifeBalance</th>\n",
       "      <th>YearsAtCompany</th>\n",
       "      <th>YearsInCurrentRole</th>\n",
       "      <th>YearsSinceLastPromotion</th>\n",
       "      <th>YearsWithCurrManager</th>\n",
       "    </tr>\n",
       "  </thead>\n",
       "  <tbody>\n",
       "    <tr>\n",
       "      <th>1134</th>\n",
       "      <td>35</td>\n",
       "      <td>0.0</td>\n",
       "      <td>Travel_Rarely</td>\n",
       "      <td>583</td>\n",
       "      <td>Research_Development</td>\n",
       "      <td>25</td>\n",
       "      <td>Master</td>\n",
       "      <td>Medical</td>\n",
       "      <td>High</td>\n",
       "      <td>Female</td>\n",
       "      <td>...</td>\n",
       "      <td>Excellent</td>\n",
       "      <td>High</td>\n",
       "      <td>1</td>\n",
       "      <td>16</td>\n",
       "      <td>3</td>\n",
       "      <td>Good</td>\n",
       "      <td>16</td>\n",
       "      <td>10</td>\n",
       "      <td>10</td>\n",
       "      <td>1</td>\n",
       "    </tr>\n",
       "    <tr>\n",
       "      <th>1150</th>\n",
       "      <td>52</td>\n",
       "      <td>0.0</td>\n",
       "      <td>Non-Travel</td>\n",
       "      <td>585</td>\n",
       "      <td>Sales</td>\n",
       "      <td>29</td>\n",
       "      <td>Master</td>\n",
       "      <td>Life_Sciences</td>\n",
       "      <td>Low</td>\n",
       "      <td>Male</td>\n",
       "      <td>...</td>\n",
       "      <td>Excellent</td>\n",
       "      <td>Medium</td>\n",
       "      <td>2</td>\n",
       "      <td>16</td>\n",
       "      <td>3</td>\n",
       "      <td>Good</td>\n",
       "      <td>9</td>\n",
       "      <td>8</td>\n",
       "      <td>0</td>\n",
       "      <td>0</td>\n",
       "    </tr>\n",
       "    <tr>\n",
       "      <th>531</th>\n",
       "      <td>33</td>\n",
       "      <td>0.0</td>\n",
       "      <td>Travel_Rarely</td>\n",
       "      <td>931</td>\n",
       "      <td>Research_Development</td>\n",
       "      <td>14</td>\n",
       "      <td>Bachelor</td>\n",
       "      <td>Medical</td>\n",
       "      <td>Very_High</td>\n",
       "      <td>Female</td>\n",
       "      <td>...</td>\n",
       "      <td>Excellent</td>\n",
       "      <td>Very_High</td>\n",
       "      <td>1</td>\n",
       "      <td>8</td>\n",
       "      <td>5</td>\n",
       "      <td>Better</td>\n",
       "      <td>8</td>\n",
       "      <td>7</td>\n",
       "      <td>1</td>\n",
       "      <td>6</td>\n",
       "    </tr>\n",
       "    <tr>\n",
       "      <th>395</th>\n",
       "      <td>31</td>\n",
       "      <td>0.0</td>\n",
       "      <td>Travel_Rarely</td>\n",
       "      <td>1332</td>\n",
       "      <td>Research_Development</td>\n",
       "      <td>11</td>\n",
       "      <td>College</td>\n",
       "      <td>Medical</td>\n",
       "      <td>High</td>\n",
       "      <td>Male</td>\n",
       "      <td>...</td>\n",
       "      <td>Excellent</td>\n",
       "      <td>Very_High</td>\n",
       "      <td>0</td>\n",
       "      <td>6</td>\n",
       "      <td>2</td>\n",
       "      <td>Good</td>\n",
       "      <td>6</td>\n",
       "      <td>5</td>\n",
       "      <td>0</td>\n",
       "      <td>1</td>\n",
       "    </tr>\n",
       "    <tr>\n",
       "      <th>392</th>\n",
       "      <td>29</td>\n",
       "      <td>0.0</td>\n",
       "      <td>Travel_Rarely</td>\n",
       "      <td>942</td>\n",
       "      <td>Research_Development</td>\n",
       "      <td>15</td>\n",
       "      <td>Below_College</td>\n",
       "      <td>Life_Sciences</td>\n",
       "      <td>Medium</td>\n",
       "      <td>Female</td>\n",
       "      <td>...</td>\n",
       "      <td>Excellent</td>\n",
       "      <td>Low</td>\n",
       "      <td>1</td>\n",
       "      <td>6</td>\n",
       "      <td>2</td>\n",
       "      <td>Good</td>\n",
       "      <td>5</td>\n",
       "      <td>4</td>\n",
       "      <td>1</td>\n",
       "      <td>3</td>\n",
       "    </tr>\n",
       "  </tbody>\n",
       "</table>\n",
       "<p>5 rows × 31 columns</p>\n",
       "</div>"
      ],
      "text/plain": [
       "      Age  Attrition BusinessTravel  DailyRate            Department  \\\n",
       "1134   35        0.0  Travel_Rarely        583  Research_Development   \n",
       "1150   52        0.0     Non-Travel        585                 Sales   \n",
       "531    33        0.0  Travel_Rarely        931  Research_Development   \n",
       "395    31        0.0  Travel_Rarely       1332  Research_Development   \n",
       "392    29        0.0  Travel_Rarely        942  Research_Development   \n",
       "\n",
       "      DistanceFromHome      Education EducationField EnvironmentSatisfaction  \\\n",
       "1134                25         Master        Medical                    High   \n",
       "1150                29         Master  Life_Sciences                     Low   \n",
       "531                 14       Bachelor        Medical               Very_High   \n",
       "395                 11        College        Medical                    High   \n",
       "392                 15  Below_College  Life_Sciences                  Medium   \n",
       "\n",
       "      Gender  ...  PerformanceRating RelationshipSatisfaction  \\\n",
       "1134  Female  ...          Excellent                     High   \n",
       "1150    Male  ...          Excellent                   Medium   \n",
       "531   Female  ...          Excellent                Very_High   \n",
       "395     Male  ...          Excellent                Very_High   \n",
       "392   Female  ...          Excellent                      Low   \n",
       "\n",
       "      StockOptionLevel TotalWorkingYears TrainingTimesLastYear  \\\n",
       "1134                 1                16                     3   \n",
       "1150                 2                16                     3   \n",
       "531                  1                 8                     5   \n",
       "395                  0                 6                     2   \n",
       "392                  1                 6                     2   \n",
       "\n",
       "     WorkLifeBalance  YearsAtCompany  YearsInCurrentRole  \\\n",
       "1134            Good              16                  10   \n",
       "1150            Good               9                   8   \n",
       "531           Better               8                   7   \n",
       "395             Good               6                   5   \n",
       "392             Good               5                   4   \n",
       "\n",
       "      YearsSinceLastPromotion YearsWithCurrManager  \n",
       "1134                       10                    1  \n",
       "1150                        0                    0  \n",
       "531                         1                    6  \n",
       "395                         0                    1  \n",
       "392                         1                    3  \n",
       "\n",
       "[5 rows x 31 columns]"
      ]
     },
     "execution_count": 51,
     "metadata": {},
     "output_type": "execute_result"
    }
   ],
   "source": [
    "# Sample 70 rows using simple random sampling and set the seed\n",
    "# random_state=18900217: ensures it will produce the same results every time the code is run with this seed and dataset.\n",
    "attrition_samp = attrition_pop.sample(n=70, random_state=18900217)\n",
    "\n",
    "# Print the sample\n",
    "attrition_samp.head()"
   ]
  },
  {
   "cell_type": "markdown",
   "id": "3372e229-6912-4e7f-bc1c-6d382e590353",
   "metadata": {},
   "source": [
    "Notice how the indexes in the sample aren't always in increasing order. They are just random."
   ]
  },
  {
   "cell_type": "markdown",
   "id": "de6288b6-0de1-450c-b0ac-aea4b1a2b5b2",
   "metadata": {},
   "source": [
    "## 📊 Systematic sampling\n",
    "One sampling method that avoids randomness is called ***systematic sampling***. Here, you pick rows from the population at regular intervals.\n",
    "\n",
    "For example, if the population dataset had one thousand rows, and you wanted a sample size of five, you could pick rows `0`, `200`, `400`, `600`, and `800`."
   ]
  },
  {
   "cell_type": "code",
   "execution_count": 54,
   "id": "2999e9a6-995d-449f-bf6a-8331dbbdc65e",
   "metadata": {},
   "outputs": [
    {
     "name": "stdout",
     "output_type": "stream",
     "text": [
      "1470\n"
     ]
    }
   ],
   "source": [
    "# Set the sample size to 70\n",
    "sample_size = 70\n",
    "\n",
    "# Calculate the population size from attrition_pop\n",
    "pop_size = len(attrition_pop)\n",
    "\n",
    "# Print pop_size\n",
    "print(pop_size)"
   ]
  },
  {
   "cell_type": "code",
   "execution_count": 55,
   "id": "2f4e84f2-efc3-472f-889b-39a5d9279dfb",
   "metadata": {},
   "outputs": [
    {
     "name": "stdout",
     "output_type": "stream",
     "text": [
      "21\n"
     ]
    }
   ],
   "source": [
    "# Calculate the interval\n",
    "interval = pop_size // sample_size\n",
    "\n",
    "# Print interval\n",
    "print(interval)"
   ]
  },
  {
   "cell_type": "code",
   "execution_count": 56,
   "id": "d4d13b90-079d-4b7d-b15e-866aec2b3d97",
   "metadata": {},
   "outputs": [
    {
     "data": {
      "text/html": [
       "<div>\n",
       "<style scoped>\n",
       "    .dataframe tbody tr th:only-of-type {\n",
       "        vertical-align: middle;\n",
       "    }\n",
       "\n",
       "    .dataframe tbody tr th {\n",
       "        vertical-align: top;\n",
       "    }\n",
       "\n",
       "    .dataframe thead th {\n",
       "        text-align: right;\n",
       "    }\n",
       "</style>\n",
       "<table border=\"1\" class=\"dataframe\">\n",
       "  <thead>\n",
       "    <tr style=\"text-align: right;\">\n",
       "      <th></th>\n",
       "      <th>Age</th>\n",
       "      <th>Attrition</th>\n",
       "      <th>BusinessTravel</th>\n",
       "      <th>DailyRate</th>\n",
       "      <th>Department</th>\n",
       "      <th>DistanceFromHome</th>\n",
       "      <th>Education</th>\n",
       "      <th>EducationField</th>\n",
       "      <th>EnvironmentSatisfaction</th>\n",
       "      <th>Gender</th>\n",
       "      <th>...</th>\n",
       "      <th>PerformanceRating</th>\n",
       "      <th>RelationshipSatisfaction</th>\n",
       "      <th>StockOptionLevel</th>\n",
       "      <th>TotalWorkingYears</th>\n",
       "      <th>TrainingTimesLastYear</th>\n",
       "      <th>WorkLifeBalance</th>\n",
       "      <th>YearsAtCompany</th>\n",
       "      <th>YearsInCurrentRole</th>\n",
       "      <th>YearsSinceLastPromotion</th>\n",
       "      <th>YearsWithCurrManager</th>\n",
       "    </tr>\n",
       "  </thead>\n",
       "  <tbody>\n",
       "    <tr>\n",
       "      <th>0</th>\n",
       "      <td>21</td>\n",
       "      <td>0.0</td>\n",
       "      <td>Travel_Rarely</td>\n",
       "      <td>391</td>\n",
       "      <td>Research_Development</td>\n",
       "      <td>15</td>\n",
       "      <td>College</td>\n",
       "      <td>Life_Sciences</td>\n",
       "      <td>High</td>\n",
       "      <td>Male</td>\n",
       "      <td>...</td>\n",
       "      <td>Excellent</td>\n",
       "      <td>Very_High</td>\n",
       "      <td>0</td>\n",
       "      <td>0</td>\n",
       "      <td>6</td>\n",
       "      <td>Better</td>\n",
       "      <td>0</td>\n",
       "      <td>0</td>\n",
       "      <td>0</td>\n",
       "      <td>0</td>\n",
       "    </tr>\n",
       "    <tr>\n",
       "      <th>21</th>\n",
       "      <td>19</td>\n",
       "      <td>0.0</td>\n",
       "      <td>Travel_Rarely</td>\n",
       "      <td>1181</td>\n",
       "      <td>Research_Development</td>\n",
       "      <td>3</td>\n",
       "      <td>Below_College</td>\n",
       "      <td>Medical</td>\n",
       "      <td>Medium</td>\n",
       "      <td>Female</td>\n",
       "      <td>...</td>\n",
       "      <td>Excellent</td>\n",
       "      <td>Very_High</td>\n",
       "      <td>0</td>\n",
       "      <td>1</td>\n",
       "      <td>3</td>\n",
       "      <td>Better</td>\n",
       "      <td>1</td>\n",
       "      <td>0</td>\n",
       "      <td>0</td>\n",
       "      <td>0</td>\n",
       "    </tr>\n",
       "    <tr>\n",
       "      <th>42</th>\n",
       "      <td>45</td>\n",
       "      <td>0.0</td>\n",
       "      <td>Travel_Rarely</td>\n",
       "      <td>252</td>\n",
       "      <td>Research_Development</td>\n",
       "      <td>2</td>\n",
       "      <td>Bachelor</td>\n",
       "      <td>Life_Sciences</td>\n",
       "      <td>Medium</td>\n",
       "      <td>Female</td>\n",
       "      <td>...</td>\n",
       "      <td>Excellent</td>\n",
       "      <td>Very_High</td>\n",
       "      <td>0</td>\n",
       "      <td>1</td>\n",
       "      <td>3</td>\n",
       "      <td>Better</td>\n",
       "      <td>1</td>\n",
       "      <td>0</td>\n",
       "      <td>0</td>\n",
       "      <td>0</td>\n",
       "    </tr>\n",
       "    <tr>\n",
       "      <th>63</th>\n",
       "      <td>23</td>\n",
       "      <td>0.0</td>\n",
       "      <td>Travel_Rarely</td>\n",
       "      <td>373</td>\n",
       "      <td>Research_Development</td>\n",
       "      <td>1</td>\n",
       "      <td>College</td>\n",
       "      <td>Life_Sciences</td>\n",
       "      <td>Very_High</td>\n",
       "      <td>Male</td>\n",
       "      <td>...</td>\n",
       "      <td>Outstanding</td>\n",
       "      <td>Very_High</td>\n",
       "      <td>1</td>\n",
       "      <td>1</td>\n",
       "      <td>2</td>\n",
       "      <td>Better</td>\n",
       "      <td>1</td>\n",
       "      <td>0</td>\n",
       "      <td>0</td>\n",
       "      <td>1</td>\n",
       "    </tr>\n",
       "    <tr>\n",
       "      <th>84</th>\n",
       "      <td>30</td>\n",
       "      <td>1.0</td>\n",
       "      <td>Travel_Rarely</td>\n",
       "      <td>945</td>\n",
       "      <td>Sales</td>\n",
       "      <td>9</td>\n",
       "      <td>Bachelor</td>\n",
       "      <td>Medical</td>\n",
       "      <td>Medium</td>\n",
       "      <td>Male</td>\n",
       "      <td>...</td>\n",
       "      <td>Excellent</td>\n",
       "      <td>High</td>\n",
       "      <td>0</td>\n",
       "      <td>1</td>\n",
       "      <td>3</td>\n",
       "      <td>Good</td>\n",
       "      <td>1</td>\n",
       "      <td>0</td>\n",
       "      <td>0</td>\n",
       "      <td>0</td>\n",
       "    </tr>\n",
       "  </tbody>\n",
       "</table>\n",
       "<p>5 rows × 31 columns</p>\n",
       "</div>"
      ],
      "text/plain": [
       "    Age  Attrition BusinessTravel  DailyRate            Department  \\\n",
       "0    21        0.0  Travel_Rarely        391  Research_Development   \n",
       "21   19        0.0  Travel_Rarely       1181  Research_Development   \n",
       "42   45        0.0  Travel_Rarely        252  Research_Development   \n",
       "63   23        0.0  Travel_Rarely        373  Research_Development   \n",
       "84   30        1.0  Travel_Rarely        945                 Sales   \n",
       "\n",
       "    DistanceFromHome      Education EducationField EnvironmentSatisfaction  \\\n",
       "0                 15        College  Life_Sciences                    High   \n",
       "21                 3  Below_College        Medical                  Medium   \n",
       "42                 2       Bachelor  Life_Sciences                  Medium   \n",
       "63                 1        College  Life_Sciences               Very_High   \n",
       "84                 9       Bachelor        Medical                  Medium   \n",
       "\n",
       "    Gender  ...  PerformanceRating RelationshipSatisfaction  StockOptionLevel  \\\n",
       "0     Male  ...          Excellent                Very_High                 0   \n",
       "21  Female  ...          Excellent                Very_High                 0   \n",
       "42  Female  ...          Excellent                Very_High                 0   \n",
       "63    Male  ...        Outstanding                Very_High                 1   \n",
       "84    Male  ...          Excellent                     High                 0   \n",
       "\n",
       "   TotalWorkingYears TrainingTimesLastYear WorkLifeBalance  YearsAtCompany  \\\n",
       "0                  0                     6          Better               0   \n",
       "21                 1                     3          Better               1   \n",
       "42                 1                     3          Better               1   \n",
       "63                 1                     2          Better               1   \n",
       "84                 1                     3            Good               1   \n",
       "\n",
       "    YearsInCurrentRole  YearsSinceLastPromotion YearsWithCurrManager  \n",
       "0                    0                        0                    0  \n",
       "21                   0                        0                    0  \n",
       "42                   0                        0                    0  \n",
       "63                   0                        0                    1  \n",
       "84                   0                        0                    0  \n",
       "\n",
       "[5 rows x 31 columns]"
      ]
     },
     "execution_count": 56,
     "metadata": {},
     "output_type": "execute_result"
    }
   ],
   "source": [
    "# Systematically sample 70 rows\n",
    "# Systematically sample every 'interval'-th row from the population\n",
    "# This gives you approximately 70 evenly spaced rows\n",
    "attrition_sys_samp = attrition_pop.iloc[::interval]\n",
    "\n",
    "# Print the sample\n",
    "attrition_sys_samp.head()"
   ]
  },
  {
   "cell_type": "markdown",
   "id": "737a1d6c-0c19-41ee-a6cd-71a73ac18bbf",
   "metadata": {},
   "source": [
    "It selects rows at regular intervals (e.g., every 21st row if interval = 21).\n",
    "\n",
    "This is a simple and efficient way to get a roughly evenly distributed sample from a sorted or randomized population.\n",
    "\n",
    "Unlike random sampling, it's not truly random unless you first shuffle the data."
   ]
  },
  {
   "cell_type": "markdown",
   "id": "f1e367c6-385a-42ef-8954-488b6239b73e",
   "metadata": {},
   "source": [
    "## Is systematic sampling OK?\n",
    "Systematic sampling has a problem: if the data has been sorted, or there is some sort of pattern or meaning behind the row order, then the resulting sample may not be representative of the whole population. The problem can be solved by shuffling the rows, but then systematic sampling is equivalent to simple random sampling.\n",
    "\n",
    "Here you'll look at how to determine whether or not there is a problem."
   ]
  },
  {
   "cell_type": "code",
   "execution_count": 59,
   "id": "0d7f80ef-0075-4ef6-989e-c75381c45fab",
   "metadata": {},
   "outputs": [
    {
     "data": {
      "image/png": "[encoded data removed]",
      "text/plain": [
       "<Figure size 640x480 with 1 Axes>"
      ]
     },
     "metadata": {},
     "output_type": "display_data"
    }
   ],
   "source": [
    "# Add an index column to attrition_pop\n",
    "attrition_pop_id = attrition_pop.reset_index()\n",
    "\n",
    "# Plot YearsAtCompany vs. index for attrition_pop_id\n",
    "attrition_pop_id.plot(x='index', y='YearsAtCompany', kind='scatter')\n",
    "plt.show()"
   ]
  },
  {
   "cell_type": "code",
   "execution_count": 60,
   "id": "89078403-47d9-4d9c-a055-31263b9171ca",
   "metadata": {},
   "outputs": [
    {
     "data": {
      "text/html": [
       "<div>\n",
       "<style scoped>\n",
       "    .dataframe tbody tr th:only-of-type {\n",
       "        vertical-align: middle;\n",
       "    }\n",
       "\n",
       "    .dataframe tbody tr th {\n",
       "        vertical-align: top;\n",
       "    }\n",
       "\n",
       "    .dataframe thead th {\n",
       "        text-align: right;\n",
       "    }\n",
       "</style>\n",
       "<table border=\"1\" class=\"dataframe\">\n",
       "  <thead>\n",
       "    <tr style=\"text-align: right;\">\n",
       "      <th></th>\n",
       "      <th>index</th>\n",
       "      <th>Age</th>\n",
       "      <th>Attrition</th>\n",
       "      <th>BusinessTravel</th>\n",
       "      <th>DailyRate</th>\n",
       "      <th>Department</th>\n",
       "      <th>DistanceFromHome</th>\n",
       "      <th>Education</th>\n",
       "      <th>EducationField</th>\n",
       "      <th>EnvironmentSatisfaction</th>\n",
       "      <th>...</th>\n",
       "      <th>PerformanceRating</th>\n",
       "      <th>RelationshipSatisfaction</th>\n",
       "      <th>StockOptionLevel</th>\n",
       "      <th>TotalWorkingYears</th>\n",
       "      <th>TrainingTimesLastYear</th>\n",
       "      <th>WorkLifeBalance</th>\n",
       "      <th>YearsAtCompany</th>\n",
       "      <th>YearsInCurrentRole</th>\n",
       "      <th>YearsSinceLastPromotion</th>\n",
       "      <th>YearsWithCurrManager</th>\n",
       "    </tr>\n",
       "  </thead>\n",
       "  <tbody>\n",
       "    <tr>\n",
       "      <th>0</th>\n",
       "      <td>0</td>\n",
       "      <td>21</td>\n",
       "      <td>0.0</td>\n",
       "      <td>Travel_Rarely</td>\n",
       "      <td>391</td>\n",
       "      <td>Research_Development</td>\n",
       "      <td>15</td>\n",
       "      <td>College</td>\n",
       "      <td>Life_Sciences</td>\n",
       "      <td>High</td>\n",
       "      <td>...</td>\n",
       "      <td>Excellent</td>\n",
       "      <td>Very_High</td>\n",
       "      <td>0</td>\n",
       "      <td>0</td>\n",
       "      <td>6</td>\n",
       "      <td>Better</td>\n",
       "      <td>0</td>\n",
       "      <td>0</td>\n",
       "      <td>0</td>\n",
       "      <td>0</td>\n",
       "    </tr>\n",
       "    <tr>\n",
       "      <th>1</th>\n",
       "      <td>1</td>\n",
       "      <td>19</td>\n",
       "      <td>1.0</td>\n",
       "      <td>Travel_Rarely</td>\n",
       "      <td>528</td>\n",
       "      <td>Sales</td>\n",
       "      <td>22</td>\n",
       "      <td>Below_College</td>\n",
       "      <td>Marketing</td>\n",
       "      <td>Very_High</td>\n",
       "      <td>...</td>\n",
       "      <td>Excellent</td>\n",
       "      <td>Very_High</td>\n",
       "      <td>0</td>\n",
       "      <td>0</td>\n",
       "      <td>2</td>\n",
       "      <td>Good</td>\n",
       "      <td>0</td>\n",
       "      <td>0</td>\n",
       "      <td>0</td>\n",
       "      <td>0</td>\n",
       "    </tr>\n",
       "    <tr>\n",
       "      <th>2</th>\n",
       "      <td>2</td>\n",
       "      <td>18</td>\n",
       "      <td>1.0</td>\n",
       "      <td>Travel_Rarely</td>\n",
       "      <td>230</td>\n",
       "      <td>Research_Development</td>\n",
       "      <td>3</td>\n",
       "      <td>Bachelor</td>\n",
       "      <td>Life_Sciences</td>\n",
       "      <td>High</td>\n",
       "      <td>...</td>\n",
       "      <td>Excellent</td>\n",
       "      <td>High</td>\n",
       "      <td>0</td>\n",
       "      <td>0</td>\n",
       "      <td>2</td>\n",
       "      <td>Better</td>\n",
       "      <td>0</td>\n",
       "      <td>0</td>\n",
       "      <td>0</td>\n",
       "      <td>0</td>\n",
       "    </tr>\n",
       "    <tr>\n",
       "      <th>3</th>\n",
       "      <td>3</td>\n",
       "      <td>18</td>\n",
       "      <td>0.0</td>\n",
       "      <td>Travel_Rarely</td>\n",
       "      <td>812</td>\n",
       "      <td>Sales</td>\n",
       "      <td>10</td>\n",
       "      <td>Bachelor</td>\n",
       "      <td>Medical</td>\n",
       "      <td>Very_High</td>\n",
       "      <td>...</td>\n",
       "      <td>Excellent</td>\n",
       "      <td>Low</td>\n",
       "      <td>0</td>\n",
       "      <td>0</td>\n",
       "      <td>2</td>\n",
       "      <td>Better</td>\n",
       "      <td>0</td>\n",
       "      <td>0</td>\n",
       "      <td>0</td>\n",
       "      <td>0</td>\n",
       "    </tr>\n",
       "    <tr>\n",
       "      <th>4</th>\n",
       "      <td>4</td>\n",
       "      <td>18</td>\n",
       "      <td>1.0</td>\n",
       "      <td>Travel_Frequently</td>\n",
       "      <td>1306</td>\n",
       "      <td>Sales</td>\n",
       "      <td>5</td>\n",
       "      <td>Bachelor</td>\n",
       "      <td>Marketing</td>\n",
       "      <td>Medium</td>\n",
       "      <td>...</td>\n",
       "      <td>Excellent</td>\n",
       "      <td>Very_High</td>\n",
       "      <td>0</td>\n",
       "      <td>0</td>\n",
       "      <td>3</td>\n",
       "      <td>Better</td>\n",
       "      <td>0</td>\n",
       "      <td>0</td>\n",
       "      <td>0</td>\n",
       "      <td>0</td>\n",
       "    </tr>\n",
       "  </tbody>\n",
       "</table>\n",
       "<p>5 rows × 32 columns</p>\n",
       "</div>"
      ],
      "text/plain": [
       "   index  Age  Attrition     BusinessTravel  DailyRate            Department  \\\n",
       "0      0   21        0.0      Travel_Rarely        391  Research_Development   \n",
       "1      1   19        1.0      Travel_Rarely        528                 Sales   \n",
       "2      2   18        1.0      Travel_Rarely        230  Research_Development   \n",
       "3      3   18        0.0      Travel_Rarely        812                 Sales   \n",
       "4      4   18        1.0  Travel_Frequently       1306                 Sales   \n",
       "\n",
       "   DistanceFromHome      Education EducationField EnvironmentSatisfaction  \\\n",
       "0                15        College  Life_Sciences                    High   \n",
       "1                22  Below_College      Marketing               Very_High   \n",
       "2                 3       Bachelor  Life_Sciences                    High   \n",
       "3                10       Bachelor        Medical               Very_High   \n",
       "4                 5       Bachelor      Marketing                  Medium   \n",
       "\n",
       "   ... PerformanceRating  RelationshipSatisfaction StockOptionLevel  \\\n",
       "0  ...         Excellent                 Very_High                0   \n",
       "1  ...         Excellent                 Very_High                0   \n",
       "2  ...         Excellent                      High                0   \n",
       "3  ...         Excellent                       Low                0   \n",
       "4  ...         Excellent                 Very_High                0   \n",
       "\n",
       "   TotalWorkingYears TrainingTimesLastYear WorkLifeBalance YearsAtCompany  \\\n",
       "0                  0                     6          Better              0   \n",
       "1                  0                     2            Good              0   \n",
       "2                  0                     2          Better              0   \n",
       "3                  0                     2          Better              0   \n",
       "4                  0                     3          Better              0   \n",
       "\n",
       "   YearsInCurrentRole  YearsSinceLastPromotion  YearsWithCurrManager  \n",
       "0                   0                        0                     0  \n",
       "1                   0                        0                     0  \n",
       "2                   0                        0                     0  \n",
       "3                   0                        0                     0  \n",
       "4                   0                        0                     0  \n",
       "\n",
       "[5 rows x 32 columns]"
      ]
     },
     "execution_count": 60,
     "metadata": {},
     "output_type": "execute_result"
    }
   ],
   "source": [
    "attrition_pop_id.head()"
   ]
  },
  {
   "cell_type": "code",
   "execution_count": 61,
   "id": "44383ab1-0526-4a3f-a9d9-6a64b655f14c",
   "metadata": {},
   "outputs": [
    {
     "data": {
      "image/png": "[encoded data removed]",
      "text/plain": [
       "<Figure size 640x480 with 1 Axes>"
      ]
     },
     "metadata": {},
     "output_type": "display_data"
    }
   ],
   "source": [
    "# Shuffle the rows of attrition_pop\n",
    "attrition_shuffled = attrition_pop.sample(frac=1)\n",
    "\n",
    "# Reset the row indexes and create an index column\n",
    "attrition_shuffled = attrition_shuffled.reset_index(drop=True).reset_index()\n",
    "\n",
    "# Plot YearsAtCompany vs. index for attrition_shuffled\n",
    "attrition_shuffled.plot(x='index', y='YearsAtCompany', kind='scatter')\n",
    "plt.show()"
   ]
  },
  {
   "cell_type": "code",
   "execution_count": 62,
   "id": "5c2a0c42-ab29-4206-b5d5-78c3a4f5f0c9",
   "metadata": {},
   "outputs": [
    {
     "data": {
      "text/html": [
       "<div>\n",
       "<style scoped>\n",
       "    .dataframe tbody tr th:only-of-type {\n",
       "        vertical-align: middle;\n",
       "    }\n",
       "\n",
       "    .dataframe tbody tr th {\n",
       "        vertical-align: top;\n",
       "    }\n",
       "\n",
       "    .dataframe thead th {\n",
       "        text-align: right;\n",
       "    }\n",
       "</style>\n",
       "<table border=\"1\" class=\"dataframe\">\n",
       "  <thead>\n",
       "    <tr style=\"text-align: right;\">\n",
       "      <th></th>\n",
       "      <th>index</th>\n",
       "      <th>Age</th>\n",
       "      <th>Attrition</th>\n",
       "      <th>BusinessTravel</th>\n",
       "      <th>DailyRate</th>\n",
       "      <th>Department</th>\n",
       "      <th>DistanceFromHome</th>\n",
       "      <th>Education</th>\n",
       "      <th>EducationField</th>\n",
       "      <th>EnvironmentSatisfaction</th>\n",
       "      <th>...</th>\n",
       "      <th>PerformanceRating</th>\n",
       "      <th>RelationshipSatisfaction</th>\n",
       "      <th>StockOptionLevel</th>\n",
       "      <th>TotalWorkingYears</th>\n",
       "      <th>TrainingTimesLastYear</th>\n",
       "      <th>WorkLifeBalance</th>\n",
       "      <th>YearsAtCompany</th>\n",
       "      <th>YearsInCurrentRole</th>\n",
       "      <th>YearsSinceLastPromotion</th>\n",
       "      <th>YearsWithCurrManager</th>\n",
       "    </tr>\n",
       "  </thead>\n",
       "  <tbody>\n",
       "    <tr>\n",
       "      <th>0</th>\n",
       "      <td>0</td>\n",
       "      <td>30</td>\n",
       "      <td>0.0</td>\n",
       "      <td>Travel_Rarely</td>\n",
       "      <td>1339</td>\n",
       "      <td>Sales</td>\n",
       "      <td>5</td>\n",
       "      <td>Bachelor</td>\n",
       "      <td>Life_Sciences</td>\n",
       "      <td>Medium</td>\n",
       "      <td>...</td>\n",
       "      <td>Excellent</td>\n",
       "      <td>High</td>\n",
       "      <td>1</td>\n",
       "      <td>12</td>\n",
       "      <td>2</td>\n",
       "      <td>Better</td>\n",
       "      <td>10</td>\n",
       "      <td>9</td>\n",
       "      <td>7</td>\n",
       "      <td>4</td>\n",
       "    </tr>\n",
       "    <tr>\n",
       "      <th>1</th>\n",
       "      <td>1</td>\n",
       "      <td>21</td>\n",
       "      <td>0.0</td>\n",
       "      <td>Travel_Rarely</td>\n",
       "      <td>984</td>\n",
       "      <td>Research_Development</td>\n",
       "      <td>1</td>\n",
       "      <td>Below_College</td>\n",
       "      <td>Technical_Degree</td>\n",
       "      <td>Very_High</td>\n",
       "      <td>...</td>\n",
       "      <td>Excellent</td>\n",
       "      <td>High</td>\n",
       "      <td>0</td>\n",
       "      <td>2</td>\n",
       "      <td>6</td>\n",
       "      <td>Best</td>\n",
       "      <td>2</td>\n",
       "      <td>2</td>\n",
       "      <td>2</td>\n",
       "      <td>2</td>\n",
       "    </tr>\n",
       "    <tr>\n",
       "      <th>2</th>\n",
       "      <td>2</td>\n",
       "      <td>35</td>\n",
       "      <td>1.0</td>\n",
       "      <td>Travel_Frequently</td>\n",
       "      <td>880</td>\n",
       "      <td>Sales</td>\n",
       "      <td>12</td>\n",
       "      <td>Master</td>\n",
       "      <td>Other</td>\n",
       "      <td>Very_High</td>\n",
       "      <td>...</td>\n",
       "      <td>Outstanding</td>\n",
       "      <td>Low</td>\n",
       "      <td>0</td>\n",
       "      <td>13</td>\n",
       "      <td>2</td>\n",
       "      <td>Best</td>\n",
       "      <td>11</td>\n",
       "      <td>9</td>\n",
       "      <td>6</td>\n",
       "      <td>7</td>\n",
       "    </tr>\n",
       "    <tr>\n",
       "      <th>3</th>\n",
       "      <td>3</td>\n",
       "      <td>37</td>\n",
       "      <td>0.0</td>\n",
       "      <td>Travel_Rarely</td>\n",
       "      <td>446</td>\n",
       "      <td>Research_Development</td>\n",
       "      <td>1</td>\n",
       "      <td>Master</td>\n",
       "      <td>Life_Sciences</td>\n",
       "      <td>Medium</td>\n",
       "      <td>...</td>\n",
       "      <td>Excellent</td>\n",
       "      <td>Medium</td>\n",
       "      <td>1</td>\n",
       "      <td>8</td>\n",
       "      <td>2</td>\n",
       "      <td>Good</td>\n",
       "      <td>6</td>\n",
       "      <td>5</td>\n",
       "      <td>4</td>\n",
       "      <td>3</td>\n",
       "    </tr>\n",
       "    <tr>\n",
       "      <th>4</th>\n",
       "      <td>4</td>\n",
       "      <td>20</td>\n",
       "      <td>1.0</td>\n",
       "      <td>Travel_Rarely</td>\n",
       "      <td>1097</td>\n",
       "      <td>Research_Development</td>\n",
       "      <td>11</td>\n",
       "      <td>Bachelor</td>\n",
       "      <td>Medical</td>\n",
       "      <td>Very_High</td>\n",
       "      <td>...</td>\n",
       "      <td>Excellent</td>\n",
       "      <td>Low</td>\n",
       "      <td>0</td>\n",
       "      <td>1</td>\n",
       "      <td>2</td>\n",
       "      <td>Better</td>\n",
       "      <td>1</td>\n",
       "      <td>0</td>\n",
       "      <td>0</td>\n",
       "      <td>0</td>\n",
       "    </tr>\n",
       "  </tbody>\n",
       "</table>\n",
       "<p>5 rows × 32 columns</p>\n",
       "</div>"
      ],
      "text/plain": [
       "   index  Age  Attrition     BusinessTravel  DailyRate            Department  \\\n",
       "0      0   30        0.0      Travel_Rarely       1339                 Sales   \n",
       "1      1   21        0.0      Travel_Rarely        984  Research_Development   \n",
       "2      2   35        1.0  Travel_Frequently        880                 Sales   \n",
       "3      3   37        0.0      Travel_Rarely        446  Research_Development   \n",
       "4      4   20        1.0      Travel_Rarely       1097  Research_Development   \n",
       "\n",
       "   DistanceFromHome      Education    EducationField EnvironmentSatisfaction  \\\n",
       "0                 5       Bachelor     Life_Sciences                  Medium   \n",
       "1                 1  Below_College  Technical_Degree               Very_High   \n",
       "2                12         Master             Other               Very_High   \n",
       "3                 1         Master     Life_Sciences                  Medium   \n",
       "4                11       Bachelor           Medical               Very_High   \n",
       "\n",
       "   ... PerformanceRating  RelationshipSatisfaction StockOptionLevel  \\\n",
       "0  ...         Excellent                      High                1   \n",
       "1  ...         Excellent                      High                0   \n",
       "2  ...       Outstanding                       Low                0   \n",
       "3  ...         Excellent                    Medium                1   \n",
       "4  ...         Excellent                       Low                0   \n",
       "\n",
       "   TotalWorkingYears TrainingTimesLastYear WorkLifeBalance YearsAtCompany  \\\n",
       "0                 12                     2          Better             10   \n",
       "1                  2                     6            Best              2   \n",
       "2                 13                     2            Best             11   \n",
       "3                  8                     2            Good              6   \n",
       "4                  1                     2          Better              1   \n",
       "\n",
       "   YearsInCurrentRole  YearsSinceLastPromotion  YearsWithCurrManager  \n",
       "0                   9                        7                     4  \n",
       "1                   2                        2                     2  \n",
       "2                   9                        6                     7  \n",
       "3                   5                        4                     3  \n",
       "4                   0                        0                     0  \n",
       "\n",
       "[5 rows x 32 columns]"
      ]
     },
     "execution_count": 62,
     "metadata": {},
     "output_type": "execute_result"
    }
   ],
   "source": [
    "attrition_shuffled.head()"
   ]
  },
  {
   "cell_type": "code",
   "execution_count": 63,
   "id": "9a998c71-df58-4af7-be5d-0e9c0fe79717",
   "metadata": {},
   "outputs": [
    {
     "data": {
      "text/plain": [
       "(1470, 32)"
      ]
     },
     "execution_count": 63,
     "metadata": {},
     "output_type": "execute_result"
    }
   ],
   "source": [
    "attrition_shuffled.shape"
   ]
  },
  {
   "cell_type": "markdown",
   "id": "6327fad9-1aed-4fd5-8ec0-b52b0472bfc7",
   "metadata": {},
   "source": [
    "Systematic sampling has problems when the data are sorted or contain a pattern. Shuffling the rows makes it equivalent to simple random sampling."
   ]
  },
  {
   "cell_type": "markdown",
   "id": "c3b0ddf6-195e-4ec9-9958-b6bbbe85334a",
   "metadata": {},
   "source": [
    "## 📊 Proportional stratified sampling\n",
    "If you are interested in subgroups within the population, then you may need to carefully control the counts of each subgroup within the population. ***Proportional stratified*** sampling results in subgroup sizes within the sample that are representative of the subgroup sizes within the population. It is equivalent to performing a simple random sample on each subgroup.\n",
    "\n",
    "**What it does**:\n",
    "* Takes 40% of each group (based on the 'Education' column).\n",
    "* If one group has 100 people, you'll get 40 from that group.\n",
    "* If another has 50 people, you'll get 20.\n",
    "\n",
    "**Sample size per group**:\n",
    "Proportional to group size.\n",
    "\n",
    "✅**Best for**:\n",
    "* Keeping the same proportions as the population.\n",
    "* Making your sample represent the real-world distribution of groups."
   ]
  },
  {
   "cell_type": "code",
   "execution_count": 66,
   "id": "97f0576e-99f3-44b3-977f-f5d2043e19a6",
   "metadata": {},
   "outputs": [
    {
     "name": "stdout",
     "output_type": "stream",
     "text": [
      "Education\n",
      "Bachelor         0.389116\n",
      "Master           0.270748\n",
      "College          0.191837\n",
      "Below_College    0.115646\n",
      "Doctor           0.032653\n",
      "Name: proportion, dtype: float64\n"
     ]
    }
   ],
   "source": [
    "# Proportion of employees by Education level\n",
    "education_counts_pop = attrition_pop['Education'].value_counts(normalize=True)\n",
    "\n",
    "# Print education_counts_pop\n",
    "print(education_counts_pop)"
   ]
  },
  {
   "cell_type": "code",
   "execution_count": 67,
   "id": "ad76ab8e-abe3-49f6-9c6f-284be6611876",
   "metadata": {},
   "outputs": [
    {
     "data": {
      "text/html": [
       "<div>\n",
       "<style scoped>\n",
       "    .dataframe tbody tr th:only-of-type {\n",
       "        vertical-align: middle;\n",
       "    }\n",
       "\n",
       "    .dataframe tbody tr th {\n",
       "        vertical-align: top;\n",
       "    }\n",
       "\n",
       "    .dataframe thead th {\n",
       "        text-align: right;\n",
       "    }\n",
       "</style>\n",
       "<table border=\"1\" class=\"dataframe\">\n",
       "  <thead>\n",
       "    <tr style=\"text-align: right;\">\n",
       "      <th></th>\n",
       "      <th>Age</th>\n",
       "      <th>Attrition</th>\n",
       "      <th>BusinessTravel</th>\n",
       "      <th>DailyRate</th>\n",
       "      <th>Department</th>\n",
       "      <th>DistanceFromHome</th>\n",
       "      <th>Education</th>\n",
       "      <th>EducationField</th>\n",
       "      <th>EnvironmentSatisfaction</th>\n",
       "      <th>Gender</th>\n",
       "      <th>...</th>\n",
       "      <th>PerformanceRating</th>\n",
       "      <th>RelationshipSatisfaction</th>\n",
       "      <th>StockOptionLevel</th>\n",
       "      <th>TotalWorkingYears</th>\n",
       "      <th>TrainingTimesLastYear</th>\n",
       "      <th>WorkLifeBalance</th>\n",
       "      <th>YearsAtCompany</th>\n",
       "      <th>YearsInCurrentRole</th>\n",
       "      <th>YearsSinceLastPromotion</th>\n",
       "      <th>YearsWithCurrManager</th>\n",
       "    </tr>\n",
       "  </thead>\n",
       "  <tbody>\n",
       "    <tr>\n",
       "      <th>1191</th>\n",
       "      <td>53</td>\n",
       "      <td>0.0</td>\n",
       "      <td>Travel_Rarely</td>\n",
       "      <td>238</td>\n",
       "      <td>Sales</td>\n",
       "      <td>1</td>\n",
       "      <td>Below_College</td>\n",
       "      <td>Medical</td>\n",
       "      <td>Very_High</td>\n",
       "      <td>Female</td>\n",
       "      <td>...</td>\n",
       "      <td>Outstanding</td>\n",
       "      <td>Very_High</td>\n",
       "      <td>0</td>\n",
       "      <td>18</td>\n",
       "      <td>2</td>\n",
       "      <td>Best</td>\n",
       "      <td>14</td>\n",
       "      <td>7</td>\n",
       "      <td>8</td>\n",
       "      <td>10</td>\n",
       "    </tr>\n",
       "    <tr>\n",
       "      <th>407</th>\n",
       "      <td>29</td>\n",
       "      <td>0.0</td>\n",
       "      <td>Travel_Frequently</td>\n",
       "      <td>995</td>\n",
       "      <td>Research_Development</td>\n",
       "      <td>2</td>\n",
       "      <td>Below_College</td>\n",
       "      <td>Life_Sciences</td>\n",
       "      <td>Low</td>\n",
       "      <td>Male</td>\n",
       "      <td>...</td>\n",
       "      <td>Excellent</td>\n",
       "      <td>Very_High</td>\n",
       "      <td>1</td>\n",
       "      <td>6</td>\n",
       "      <td>0</td>\n",
       "      <td>Best</td>\n",
       "      <td>6</td>\n",
       "      <td>4</td>\n",
       "      <td>1</td>\n",
       "      <td>3</td>\n",
       "    </tr>\n",
       "    <tr>\n",
       "      <th>1233</th>\n",
       "      <td>59</td>\n",
       "      <td>0.0</td>\n",
       "      <td>Travel_Frequently</td>\n",
       "      <td>1225</td>\n",
       "      <td>Sales</td>\n",
       "      <td>1</td>\n",
       "      <td>Below_College</td>\n",
       "      <td>Life_Sciences</td>\n",
       "      <td>Low</td>\n",
       "      <td>Female</td>\n",
       "      <td>...</td>\n",
       "      <td>Excellent</td>\n",
       "      <td>Very_High</td>\n",
       "      <td>0</td>\n",
       "      <td>20</td>\n",
       "      <td>2</td>\n",
       "      <td>Good</td>\n",
       "      <td>4</td>\n",
       "      <td>3</td>\n",
       "      <td>1</td>\n",
       "      <td>3</td>\n",
       "    </tr>\n",
       "    <tr>\n",
       "      <th>366</th>\n",
       "      <td>37</td>\n",
       "      <td>0.0</td>\n",
       "      <td>Travel_Rarely</td>\n",
       "      <td>571</td>\n",
       "      <td>Research_Development</td>\n",
       "      <td>10</td>\n",
       "      <td>Below_College</td>\n",
       "      <td>Life_Sciences</td>\n",
       "      <td>Very_High</td>\n",
       "      <td>Female</td>\n",
       "      <td>...</td>\n",
       "      <td>Excellent</td>\n",
       "      <td>Medium</td>\n",
       "      <td>2</td>\n",
       "      <td>6</td>\n",
       "      <td>3</td>\n",
       "      <td>Good</td>\n",
       "      <td>5</td>\n",
       "      <td>3</td>\n",
       "      <td>4</td>\n",
       "      <td>3</td>\n",
       "    </tr>\n",
       "    <tr>\n",
       "      <th>702</th>\n",
       "      <td>31</td>\n",
       "      <td>0.0</td>\n",
       "      <td>Travel_Frequently</td>\n",
       "      <td>163</td>\n",
       "      <td>Research_Development</td>\n",
       "      <td>24</td>\n",
       "      <td>Below_College</td>\n",
       "      <td>Technical_Degree</td>\n",
       "      <td>Very_High</td>\n",
       "      <td>Female</td>\n",
       "      <td>...</td>\n",
       "      <td>Outstanding</td>\n",
       "      <td>Very_High</td>\n",
       "      <td>0</td>\n",
       "      <td>9</td>\n",
       "      <td>3</td>\n",
       "      <td>Good</td>\n",
       "      <td>5</td>\n",
       "      <td>4</td>\n",
       "      <td>1</td>\n",
       "      <td>4</td>\n",
       "    </tr>\n",
       "  </tbody>\n",
       "</table>\n",
       "<p>5 rows × 31 columns</p>\n",
       "</div>"
      ],
      "text/plain": [
       "      Age  Attrition     BusinessTravel  DailyRate            Department  \\\n",
       "1191   53        0.0      Travel_Rarely        238                 Sales   \n",
       "407    29        0.0  Travel_Frequently        995  Research_Development   \n",
       "1233   59        0.0  Travel_Frequently       1225                 Sales   \n",
       "366    37        0.0      Travel_Rarely        571  Research_Development   \n",
       "702    31        0.0  Travel_Frequently        163  Research_Development   \n",
       "\n",
       "      DistanceFromHome      Education    EducationField  \\\n",
       "1191                 1  Below_College           Medical   \n",
       "407                  2  Below_College     Life_Sciences   \n",
       "1233                 1  Below_College     Life_Sciences   \n",
       "366                 10  Below_College     Life_Sciences   \n",
       "702                 24  Below_College  Technical_Degree   \n",
       "\n",
       "     EnvironmentSatisfaction  Gender  ...  PerformanceRating  \\\n",
       "1191               Very_High  Female  ...        Outstanding   \n",
       "407                      Low    Male  ...          Excellent   \n",
       "1233                     Low  Female  ...          Excellent   \n",
       "366                Very_High  Female  ...          Excellent   \n",
       "702                Very_High  Female  ...        Outstanding   \n",
       "\n",
       "     RelationshipSatisfaction  StockOptionLevel TotalWorkingYears  \\\n",
       "1191                Very_High                 0                18   \n",
       "407                 Very_High                 1                 6   \n",
       "1233                Very_High                 0                20   \n",
       "366                    Medium                 2                 6   \n",
       "702                 Very_High                 0                 9   \n",
       "\n",
       "     TrainingTimesLastYear WorkLifeBalance  YearsAtCompany  \\\n",
       "1191                     2            Best              14   \n",
       "407                      0            Best               6   \n",
       "1233                     2            Good               4   \n",
       "366                      3            Good               5   \n",
       "702                      3            Good               5   \n",
       "\n",
       "      YearsInCurrentRole  YearsSinceLastPromotion YearsWithCurrManager  \n",
       "1191                   7                        8                   10  \n",
       "407                    4                        1                    3  \n",
       "1233                   3                        1                    3  \n",
       "366                    3                        4                    3  \n",
       "702                    4                        1                    4  \n",
       "\n",
       "[5 rows x 31 columns]"
      ]
     },
     "execution_count": 67,
     "metadata": {},
     "output_type": "execute_result"
    }
   ],
   "source": [
    "# Proportional stratified sampling for 40% of each Education group\n",
    "# attrition_pop.groupby('Education', observed=False)\n",
    "# → This splits the dataset (attrition_pop) into separate groups based on the 'Education' column.\n",
    "# .sample(frac=0.4, random_state=2022)\n",
    "# → From each group, it randomly selects 40% of the rows.\n",
    "# The random_state=2022 ensures you get the same sample every time you run it.\n",
    "attrition_strat = attrition_pop.groupby('Education', observed=False).sample(frac=0.4, random_state=2022)\n",
    "\n",
    "\n",
    "# Print the sample\n",
    "attrition_strat.head()"
   ]
  },
  {
   "cell_type": "code",
   "execution_count": 68,
   "id": "940dc576-c0e6-467e-a3d1-240f1d6cf3ef",
   "metadata": {},
   "outputs": [
    {
     "data": {
      "text/plain": [
       "(588, 31)"
      ]
     },
     "execution_count": 68,
     "metadata": {},
     "output_type": "execute_result"
    }
   ],
   "source": [
    "attrition_strat.shape"
   ]
  },
  {
   "cell_type": "code",
   "execution_count": 69,
   "id": "b5a45d8f-1ebd-4b98-a359-80e4b55a1f91",
   "metadata": {},
   "outputs": [
    {
     "name": "stdout",
     "output_type": "stream",
     "text": [
      "Education\n",
      "Bachelor         0.389456\n",
      "Master           0.270408\n",
      "College          0.192177\n",
      "Below_College    0.115646\n",
      "Doctor           0.032313\n",
      "Name: proportion, dtype: float64\n"
     ]
    }
   ],
   "source": [
    "# Calculate the Education level proportions from attrition_strat\n",
    "education_counts_strat = attrition_strat['Education'].value_counts(normalize=True)\n",
    "\n",
    "# Print education_counts_strat\n",
    "print(education_counts_strat)"
   ]
  },
  {
   "cell_type": "markdown",
   "id": "9a3952ac-d0ba-4db7-b4e9-e8187e80d3af",
   "metadata": {},
   "source": [
    "> By grouping then sampling, the size of each group in the sample is representative of the size of the sample in the population."
   ]
  },
  {
   "cell_type": "markdown",
   "id": "c220d69f-588c-447c-b282-d2d22fb8f211",
   "metadata": {},
   "source": [
    "## 📊 Equal counts stratified sampling\n",
    "If one subgroup is larger than another subgroup in the population, but you don't want to reflect that difference in your analysis, then you can use equal counts stratified sampling to generate samples where each subgroup has the same amount of data. For example, if you are analyzing blood types, O is the most common blood type worldwide, but you may wish to have equal amounts of O, A, B, and AB in your sample.\n",
    "\n",
    "**What it does**:\n",
    "* Takes exactly 30 people from each group, regardless of how big the group is.\n",
    "* Even if one group has 300 and another has only 40, both will contribute 30.\n",
    "\n",
    "**Sample size per group**:\n",
    "Same for all groups (e.g., 30 each).\n",
    "\n",
    "**✅Best for**:\n",
    "* Comparing groups equally.\n",
    "* Avoiding dominance of large groups in analysis."
   ]
  },
  {
   "cell_type": "code",
   "execution_count": 72,
   "id": "a1bbb11a-8b79-41e7-a81e-01364deb57cf",
   "metadata": {},
   "outputs": [
    {
     "data": {
      "text/html": [
       "<div>\n",
       "<style scoped>\n",
       "    .dataframe tbody tr th:only-of-type {\n",
       "        vertical-align: middle;\n",
       "    }\n",
       "\n",
       "    .dataframe tbody tr th {\n",
       "        vertical-align: top;\n",
       "    }\n",
       "\n",
       "    .dataframe thead th {\n",
       "        text-align: right;\n",
       "    }\n",
       "</style>\n",
       "<table border=\"1\" class=\"dataframe\">\n",
       "  <thead>\n",
       "    <tr style=\"text-align: right;\">\n",
       "      <th></th>\n",
       "      <th>Age</th>\n",
       "      <th>Attrition</th>\n",
       "      <th>BusinessTravel</th>\n",
       "      <th>DailyRate</th>\n",
       "      <th>Department</th>\n",
       "      <th>DistanceFromHome</th>\n",
       "      <th>Education</th>\n",
       "      <th>EducationField</th>\n",
       "      <th>EnvironmentSatisfaction</th>\n",
       "      <th>Gender</th>\n",
       "      <th>...</th>\n",
       "      <th>PerformanceRating</th>\n",
       "      <th>RelationshipSatisfaction</th>\n",
       "      <th>StockOptionLevel</th>\n",
       "      <th>TotalWorkingYears</th>\n",
       "      <th>TrainingTimesLastYear</th>\n",
       "      <th>WorkLifeBalance</th>\n",
       "      <th>YearsAtCompany</th>\n",
       "      <th>YearsInCurrentRole</th>\n",
       "      <th>YearsSinceLastPromotion</th>\n",
       "      <th>YearsWithCurrManager</th>\n",
       "    </tr>\n",
       "  </thead>\n",
       "  <tbody>\n",
       "    <tr>\n",
       "      <th>1191</th>\n",
       "      <td>53</td>\n",
       "      <td>0.0</td>\n",
       "      <td>Travel_Rarely</td>\n",
       "      <td>238</td>\n",
       "      <td>Sales</td>\n",
       "      <td>1</td>\n",
       "      <td>Below_College</td>\n",
       "      <td>Medical</td>\n",
       "      <td>Very_High</td>\n",
       "      <td>Female</td>\n",
       "      <td>...</td>\n",
       "      <td>Outstanding</td>\n",
       "      <td>Very_High</td>\n",
       "      <td>0</td>\n",
       "      <td>18</td>\n",
       "      <td>2</td>\n",
       "      <td>Best</td>\n",
       "      <td>14</td>\n",
       "      <td>7</td>\n",
       "      <td>8</td>\n",
       "      <td>10</td>\n",
       "    </tr>\n",
       "    <tr>\n",
       "      <th>407</th>\n",
       "      <td>29</td>\n",
       "      <td>0.0</td>\n",
       "      <td>Travel_Frequently</td>\n",
       "      <td>995</td>\n",
       "      <td>Research_Development</td>\n",
       "      <td>2</td>\n",
       "      <td>Below_College</td>\n",
       "      <td>Life_Sciences</td>\n",
       "      <td>Low</td>\n",
       "      <td>Male</td>\n",
       "      <td>...</td>\n",
       "      <td>Excellent</td>\n",
       "      <td>Very_High</td>\n",
       "      <td>1</td>\n",
       "      <td>6</td>\n",
       "      <td>0</td>\n",
       "      <td>Best</td>\n",
       "      <td>6</td>\n",
       "      <td>4</td>\n",
       "      <td>1</td>\n",
       "      <td>3</td>\n",
       "    </tr>\n",
       "    <tr>\n",
       "      <th>1233</th>\n",
       "      <td>59</td>\n",
       "      <td>0.0</td>\n",
       "      <td>Travel_Frequently</td>\n",
       "      <td>1225</td>\n",
       "      <td>Sales</td>\n",
       "      <td>1</td>\n",
       "      <td>Below_College</td>\n",
       "      <td>Life_Sciences</td>\n",
       "      <td>Low</td>\n",
       "      <td>Female</td>\n",
       "      <td>...</td>\n",
       "      <td>Excellent</td>\n",
       "      <td>Very_High</td>\n",
       "      <td>0</td>\n",
       "      <td>20</td>\n",
       "      <td>2</td>\n",
       "      <td>Good</td>\n",
       "      <td>4</td>\n",
       "      <td>3</td>\n",
       "      <td>1</td>\n",
       "      <td>3</td>\n",
       "    </tr>\n",
       "    <tr>\n",
       "      <th>366</th>\n",
       "      <td>37</td>\n",
       "      <td>0.0</td>\n",
       "      <td>Travel_Rarely</td>\n",
       "      <td>571</td>\n",
       "      <td>Research_Development</td>\n",
       "      <td>10</td>\n",
       "      <td>Below_College</td>\n",
       "      <td>Life_Sciences</td>\n",
       "      <td>Very_High</td>\n",
       "      <td>Female</td>\n",
       "      <td>...</td>\n",
       "      <td>Excellent</td>\n",
       "      <td>Medium</td>\n",
       "      <td>2</td>\n",
       "      <td>6</td>\n",
       "      <td>3</td>\n",
       "      <td>Good</td>\n",
       "      <td>5</td>\n",
       "      <td>3</td>\n",
       "      <td>4</td>\n",
       "      <td>3</td>\n",
       "    </tr>\n",
       "    <tr>\n",
       "      <th>702</th>\n",
       "      <td>31</td>\n",
       "      <td>0.0</td>\n",
       "      <td>Travel_Frequently</td>\n",
       "      <td>163</td>\n",
       "      <td>Research_Development</td>\n",
       "      <td>24</td>\n",
       "      <td>Below_College</td>\n",
       "      <td>Technical_Degree</td>\n",
       "      <td>Very_High</td>\n",
       "      <td>Female</td>\n",
       "      <td>...</td>\n",
       "      <td>Outstanding</td>\n",
       "      <td>Very_High</td>\n",
       "      <td>0</td>\n",
       "      <td>9</td>\n",
       "      <td>3</td>\n",
       "      <td>Good</td>\n",
       "      <td>5</td>\n",
       "      <td>4</td>\n",
       "      <td>1</td>\n",
       "      <td>4</td>\n",
       "    </tr>\n",
       "  </tbody>\n",
       "</table>\n",
       "<p>5 rows × 31 columns</p>\n",
       "</div>"
      ],
      "text/plain": [
       "      Age  Attrition     BusinessTravel  DailyRate            Department  \\\n",
       "1191   53        0.0      Travel_Rarely        238                 Sales   \n",
       "407    29        0.0  Travel_Frequently        995  Research_Development   \n",
       "1233   59        0.0  Travel_Frequently       1225                 Sales   \n",
       "366    37        0.0      Travel_Rarely        571  Research_Development   \n",
       "702    31        0.0  Travel_Frequently        163  Research_Development   \n",
       "\n",
       "      DistanceFromHome      Education    EducationField  \\\n",
       "1191                 1  Below_College           Medical   \n",
       "407                  2  Below_College     Life_Sciences   \n",
       "1233                 1  Below_College     Life_Sciences   \n",
       "366                 10  Below_College     Life_Sciences   \n",
       "702                 24  Below_College  Technical_Degree   \n",
       "\n",
       "     EnvironmentSatisfaction  Gender  ...  PerformanceRating  \\\n",
       "1191               Very_High  Female  ...        Outstanding   \n",
       "407                      Low    Male  ...          Excellent   \n",
       "1233                     Low  Female  ...          Excellent   \n",
       "366                Very_High  Female  ...          Excellent   \n",
       "702                Very_High  Female  ...        Outstanding   \n",
       "\n",
       "     RelationshipSatisfaction  StockOptionLevel TotalWorkingYears  \\\n",
       "1191                Very_High                 0                18   \n",
       "407                 Very_High                 1                 6   \n",
       "1233                Very_High                 0                20   \n",
       "366                    Medium                 2                 6   \n",
       "702                 Very_High                 0                 9   \n",
       "\n",
       "     TrainingTimesLastYear WorkLifeBalance  YearsAtCompany  \\\n",
       "1191                     2            Best              14   \n",
       "407                      0            Best               6   \n",
       "1233                     2            Good               4   \n",
       "366                      3            Good               5   \n",
       "702                      3            Good               5   \n",
       "\n",
       "      YearsInCurrentRole  YearsSinceLastPromotion YearsWithCurrManager  \n",
       "1191                   7                        8                   10  \n",
       "407                    4                        1                    3  \n",
       "1233                   3                        1                    3  \n",
       "366                    3                        4                    3  \n",
       "702                    4                        1                    4  \n",
       "\n",
       "[5 rows x 31 columns]"
      ]
     },
     "execution_count": 72,
     "metadata": {},
     "output_type": "execute_result"
    }
   ],
   "source": [
    "# Get 30 employees from each Education group\n",
    "# A balanced sample: 30 employees from each education level.\n",
    "# Total sample size = 30 × number of education groups.\n",
    "# Useful when comparing groups equally — even if some groups are small in the full dataset.\n",
    "attrition_eq = attrition_pop.groupby('Education', observed=False).sample(n=30, random_state=2022)\n",
    "\n",
    "\n",
    "# Print the sample\n",
    "attrition_eq.head()"
   ]
  },
  {
   "cell_type": "code",
   "execution_count": 73,
   "id": "fd02864c-8b5d-4a9f-aa35-104355752b66",
   "metadata": {},
   "outputs": [
    {
     "name": "stdout",
     "output_type": "stream",
     "text": [
      "Education\n",
      "Below_College    0.2\n",
      "College          0.2\n",
      "Bachelor         0.2\n",
      "Master           0.2\n",
      "Doctor           0.2\n",
      "Name: proportion, dtype: float64\n"
     ]
    }
   ],
   "source": [
    "# Get the proportions from attrition_eq\n",
    "education_counts_eq = attrition_eq['Education'].value_counts(normalize=True)\n",
    "\n",
    "# Print the results\n",
    "print(education_counts_eq)"
   ]
  },
  {
   "cell_type": "markdown",
   "id": "68666a7d-800a-49bd-8aa8-238eb99548e9",
   "metadata": {},
   "source": [
    "> If you want each subgroup to have equal weight in your analysis, then equal counts stratified sampling is the appropriate technique."
   ]
  },
  {
   "cell_type": "markdown",
   "id": "6dbbe832-085d-4349-81f8-078eb4e05eca",
   "metadata": {},
   "source": [
    "## 📊 Weighted sampling\n",
    "Stratified sampling provides rules about the probability of picking rows from your dataset at the subgroup level. A generalization of this is weighted sampling, which lets you specify rules about the probability of picking rows at the row level. The probability of picking any given row is proportional to the weight value for that row.\n",
    "\n",
    "### 🧠 Explanation\n",
    "\n",
    "1. **`attrition_pop.sample(n=400, weights=\"YearsAtCompany\")`**\n",
    "\n",
    "   * Randomly selects **400 employees** from the `attrition_pop` dataset.\n",
    "   * Uses the **`YearsAtCompany`** column as **weights** instead of equal chance selection.\n",
    "\n",
    "2. **How the weights work:**\n",
    "\n",
    "   * Employees with **more years** at the company are **more likely** to be chosen.\n",
    "   * Employees with **fewer years** are **less likely** to be picked.\n",
    "\n",
    "3. **`attrition_weight`**\n",
    "\n",
    "   * Stores the resulting **weighted random sample**.\n",
    "\n",
    "4. **`print(attrition_weight)`**\n",
    "\n",
    "   * Displays the sampled data.\n",
    "\n",
    "---\n",
    "\n",
    "### 📝 What is *Weighted Sampling*?\n",
    "\n",
    "Weighted sampling adjusts the chance of selection using a numeric column (like `YearsAtCompany`).\n",
    "\n",
    "This is useful when:\n",
    "\n",
    "* You want to **over-represent** employees with longer tenure.\n",
    "* You want to **simulate real-world influence** or **prioritize** certain values.\n",
    "\n",
    "---\n",
    "\n",
    "### ⚠️ Important Notes\n",
    "\n",
    "* The weights must be **non-negative** (no negatives or NaNs).\n",
    "* They **don’t need to sum to 1** — Python handles normalization automatically.\n"
   ]
  },
  {
   "cell_type": "code",
   "execution_count": 76,
   "id": "ac4625b6-15c5-4e9e-bebe-25b840645041",
   "metadata": {},
   "outputs": [
    {
     "data": {
      "image/png": "[encoded data removed]",
      "text/plain": [
       "<Figure size 640x480 with 1 Axes>"
      ]
     },
     "metadata": {},
     "output_type": "display_data"
    }
   ],
   "source": [
    "# Plot YearsAtCompany from attrition_pop as a histogram\n",
    "attrition_pop['YearsAtCompany'].hist(bins=np.arange(0, 41, 1))\n",
    "plt.show()"
   ]
  },
  {
   "cell_type": "code",
   "execution_count": 77,
   "id": "e0977267-3936-4695-9b07-b9c0686dcc0d",
   "metadata": {},
   "outputs": [
    {
     "data": {
      "text/html": [
       "<div>\n",
       "<style scoped>\n",
       "    .dataframe tbody tr th:only-of-type {\n",
       "        vertical-align: middle;\n",
       "    }\n",
       "\n",
       "    .dataframe tbody tr th {\n",
       "        vertical-align: top;\n",
       "    }\n",
       "\n",
       "    .dataframe thead th {\n",
       "        text-align: right;\n",
       "    }\n",
       "</style>\n",
       "<table border=\"1\" class=\"dataframe\">\n",
       "  <thead>\n",
       "    <tr style=\"text-align: right;\">\n",
       "      <th></th>\n",
       "      <th>Age</th>\n",
       "      <th>Attrition</th>\n",
       "      <th>BusinessTravel</th>\n",
       "      <th>DailyRate</th>\n",
       "      <th>Department</th>\n",
       "      <th>DistanceFromHome</th>\n",
       "      <th>Education</th>\n",
       "      <th>EducationField</th>\n",
       "      <th>EnvironmentSatisfaction</th>\n",
       "      <th>Gender</th>\n",
       "      <th>...</th>\n",
       "      <th>PerformanceRating</th>\n",
       "      <th>RelationshipSatisfaction</th>\n",
       "      <th>StockOptionLevel</th>\n",
       "      <th>TotalWorkingYears</th>\n",
       "      <th>TrainingTimesLastYear</th>\n",
       "      <th>WorkLifeBalance</th>\n",
       "      <th>YearsAtCompany</th>\n",
       "      <th>YearsInCurrentRole</th>\n",
       "      <th>YearsSinceLastPromotion</th>\n",
       "      <th>YearsWithCurrManager</th>\n",
       "    </tr>\n",
       "  </thead>\n",
       "  <tbody>\n",
       "    <tr>\n",
       "      <th>49</th>\n",
       "      <td>20</td>\n",
       "      <td>1.0</td>\n",
       "      <td>Travel_Rarely</td>\n",
       "      <td>129</td>\n",
       "      <td>Research_Development</td>\n",
       "      <td>4</td>\n",
       "      <td>Bachelor</td>\n",
       "      <td>Technical_Degree</td>\n",
       "      <td>Low</td>\n",
       "      <td>Male</td>\n",
       "      <td>...</td>\n",
       "      <td>Excellent</td>\n",
       "      <td>Medium</td>\n",
       "      <td>0</td>\n",
       "      <td>1</td>\n",
       "      <td>2</td>\n",
       "      <td>Better</td>\n",
       "      <td>1</td>\n",
       "      <td>0</td>\n",
       "      <td>0</td>\n",
       "      <td>0</td>\n",
       "    </tr>\n",
       "    <tr>\n",
       "      <th>1304</th>\n",
       "      <td>41</td>\n",
       "      <td>0.0</td>\n",
       "      <td>Travel_Rarely</td>\n",
       "      <td>334</td>\n",
       "      <td>Sales</td>\n",
       "      <td>2</td>\n",
       "      <td>Master</td>\n",
       "      <td>Life_Sciences</td>\n",
       "      <td>Very_High</td>\n",
       "      <td>Male</td>\n",
       "      <td>...</td>\n",
       "      <td>Excellent</td>\n",
       "      <td>Medium</td>\n",
       "      <td>0</td>\n",
       "      <td>22</td>\n",
       "      <td>2</td>\n",
       "      <td>Better</td>\n",
       "      <td>22</td>\n",
       "      <td>10</td>\n",
       "      <td>0</td>\n",
       "      <td>4</td>\n",
       "    </tr>\n",
       "    <tr>\n",
       "      <th>1019</th>\n",
       "      <td>37</td>\n",
       "      <td>0.0</td>\n",
       "      <td>Travel_Rarely</td>\n",
       "      <td>1319</td>\n",
       "      <td>Research_Development</td>\n",
       "      <td>6</td>\n",
       "      <td>Bachelor</td>\n",
       "      <td>Medical</td>\n",
       "      <td>High</td>\n",
       "      <td>Male</td>\n",
       "      <td>...</td>\n",
       "      <td>Excellent</td>\n",
       "      <td>Low</td>\n",
       "      <td>2</td>\n",
       "      <td>13</td>\n",
       "      <td>2</td>\n",
       "      <td>Better</td>\n",
       "      <td>7</td>\n",
       "      <td>7</td>\n",
       "      <td>6</td>\n",
       "      <td>7</td>\n",
       "    </tr>\n",
       "    <tr>\n",
       "      <th>323</th>\n",
       "      <td>36</td>\n",
       "      <td>0.0</td>\n",
       "      <td>Travel_Frequently</td>\n",
       "      <td>1195</td>\n",
       "      <td>Research_Development</td>\n",
       "      <td>11</td>\n",
       "      <td>Bachelor</td>\n",
       "      <td>Life_Sciences</td>\n",
       "      <td>Medium</td>\n",
       "      <td>Male</td>\n",
       "      <td>...</td>\n",
       "      <td>Excellent</td>\n",
       "      <td>High</td>\n",
       "      <td>0</td>\n",
       "      <td>6</td>\n",
       "      <td>3</td>\n",
       "      <td>Better</td>\n",
       "      <td>6</td>\n",
       "      <td>5</td>\n",
       "      <td>0</td>\n",
       "      <td>3</td>\n",
       "    </tr>\n",
       "    <tr>\n",
       "      <th>932</th>\n",
       "      <td>31</td>\n",
       "      <td>0.0</td>\n",
       "      <td>Travel_Rarely</td>\n",
       "      <td>1232</td>\n",
       "      <td>Research_Development</td>\n",
       "      <td>7</td>\n",
       "      <td>Master</td>\n",
       "      <td>Medical</td>\n",
       "      <td>High</td>\n",
       "      <td>Female</td>\n",
       "      <td>...</td>\n",
       "      <td>Excellent</td>\n",
       "      <td>High</td>\n",
       "      <td>0</td>\n",
       "      <td>11</td>\n",
       "      <td>2</td>\n",
       "      <td>Good</td>\n",
       "      <td>11</td>\n",
       "      <td>9</td>\n",
       "      <td>4</td>\n",
       "      <td>10</td>\n",
       "    </tr>\n",
       "  </tbody>\n",
       "</table>\n",
       "<p>5 rows × 31 columns</p>\n",
       "</div>"
      ],
      "text/plain": [
       "      Age  Attrition     BusinessTravel  DailyRate            Department  \\\n",
       "49     20        1.0      Travel_Rarely        129  Research_Development   \n",
       "1304   41        0.0      Travel_Rarely        334                 Sales   \n",
       "1019   37        0.0      Travel_Rarely       1319  Research_Development   \n",
       "323    36        0.0  Travel_Frequently       1195  Research_Development   \n",
       "932    31        0.0      Travel_Rarely       1232  Research_Development   \n",
       "\n",
       "      DistanceFromHome Education    EducationField EnvironmentSatisfaction  \\\n",
       "49                   4  Bachelor  Technical_Degree                     Low   \n",
       "1304                 2    Master     Life_Sciences               Very_High   \n",
       "1019                 6  Bachelor           Medical                    High   \n",
       "323                 11  Bachelor     Life_Sciences                  Medium   \n",
       "932                  7    Master           Medical                    High   \n",
       "\n",
       "      Gender  ...  PerformanceRating RelationshipSatisfaction  \\\n",
       "49      Male  ...          Excellent                   Medium   \n",
       "1304    Male  ...          Excellent                   Medium   \n",
       "1019    Male  ...          Excellent                      Low   \n",
       "323     Male  ...          Excellent                     High   \n",
       "932   Female  ...          Excellent                     High   \n",
       "\n",
       "      StockOptionLevel TotalWorkingYears TrainingTimesLastYear  \\\n",
       "49                   0                 1                     2   \n",
       "1304                 0                22                     2   \n",
       "1019                 2                13                     2   \n",
       "323                  0                 6                     3   \n",
       "932                  0                11                     2   \n",
       "\n",
       "     WorkLifeBalance  YearsAtCompany  YearsInCurrentRole  \\\n",
       "49            Better               1                   0   \n",
       "1304          Better              22                  10   \n",
       "1019          Better               7                   7   \n",
       "323           Better               6                   5   \n",
       "932             Good              11                   9   \n",
       "\n",
       "      YearsSinceLastPromotion YearsWithCurrManager  \n",
       "49                          0                    0  \n",
       "1304                        0                    4  \n",
       "1019                        6                    7  \n",
       "323                         0                    3  \n",
       "932                         4                   10  \n",
       "\n",
       "[5 rows x 31 columns]"
      ]
     },
     "execution_count": 77,
     "metadata": {},
     "output_type": "execute_result"
    }
   ],
   "source": [
    "# Sample 400 employees weighted by YearsAtCompany\n",
    "attrition_weight = attrition_pop.sample(n=400, weights=\"YearsAtCompany\")\n",
    "\n",
    "# Print the sample\n",
    "attrition_weight.head()"
   ]
  },
  {
   "cell_type": "code",
   "execution_count": 78,
   "id": "49c2802e-68e1-4bc4-9722-0b7eba56a6a7",
   "metadata": {},
   "outputs": [
    {
     "data": {
      "image/png": "[encoded data removed]",
      "text/plain": [
       "<Figure size 640x480 with 1 Axes>"
      ]
     },
     "metadata": {},
     "output_type": "display_data"
    }
   ],
   "source": [
    "# Ensure you are using the correct DataFrame and column\n",
    "attrition_weight['YearsAtCompany'].hist(bins=np.arange(0, 41, 1))\n",
    "plt.show()"
   ]
  },
  {
   "cell_type": "markdown",
   "id": "70ceec03-0a0e-42d6-bfec-1bdac4bd4bfb",
   "metadata": {},
   "source": [
    "> The weighted sample mean is around 11, which is higher than the population mean of around 7. The fact that the two numbers are different means that the weighted simple random sample is biased."
   ]
  },
  {
   "cell_type": "markdown",
   "id": "9536e1ff-f2d7-4ba0-955a-a82849af7794",
   "metadata": {},
   "source": [
    "## 📊 Cluster sampling\n",
    "Now that you know when to use cluster sampling, it's time to put it into action. In this exercise, you'll explore the `JobRole` column of the attrition dataset. You can think of each job role as a subgroup of the whole population of employees."
   ]
  },
  {
   "cell_type": "code",
   "execution_count": 81,
   "id": "dcec7110-5ce9-41b4-95ee-cf9df96b2222",
   "metadata": {},
   "outputs": [
    {
     "data": {
      "text/plain": [
       "['Research_Scientist',\n",
       " 'Sales_Representative',\n",
       " 'Laboratory_Technician',\n",
       " 'Human_Resources',\n",
       " 'Sales_Executive',\n",
       " 'Manufacturing_Director',\n",
       " 'Healthcare_Representative',\n",
       " 'Research_Director',\n",
       " 'Manager']"
      ]
     },
     "execution_count": 81,
     "metadata": {},
     "output_type": "execute_result"
    }
   ],
   "source": [
    "import random\n",
    "random.seed(19790801)\n",
    "\n",
    "# Create a list of unique JobRole values\n",
    "job_roles_pop = list(attrition_pop['JobRole'].unique())\n",
    "\n",
    "# Display the JobRoles\n",
    "job_roles_pop"
   ]
  },
  {
   "cell_type": "code",
   "execution_count": 82,
   "id": "cc597fc6-a8bb-4d63-9a95-eca87c715b03",
   "metadata": {},
   "outputs": [
    {
     "name": "stdout",
     "output_type": "stream",
     "text": [
      "['Research_Director', 'Research_Scientist', 'Human_Resources', 'Manager']\n"
     ]
    }
   ],
   "source": [
    "# Randomly sample four JobRole values\n",
    "job_roles_samp = random.sample(job_roles_pop, k=4)\n",
    "\n",
    "# Print the result\n",
    "print(job_roles_samp)"
   ]
  },
  {
   "cell_type": "code",
   "execution_count": 83,
   "id": "116198ad-8403-478a-85e4-837377d8b7ff",
   "metadata": {},
   "outputs": [
    {
     "data": {
      "text/html": [
       "<div>\n",
       "<style scoped>\n",
       "    .dataframe tbody tr th:only-of-type {\n",
       "        vertical-align: middle;\n",
       "    }\n",
       "\n",
       "    .dataframe tbody tr th {\n",
       "        vertical-align: top;\n",
       "    }\n",
       "\n",
       "    .dataframe thead th {\n",
       "        text-align: right;\n",
       "    }\n",
       "</style>\n",
       "<table border=\"1\" class=\"dataframe\">\n",
       "  <thead>\n",
       "    <tr style=\"text-align: right;\">\n",
       "      <th></th>\n",
       "      <th>Age</th>\n",
       "      <th>Attrition</th>\n",
       "      <th>BusinessTravel</th>\n",
       "      <th>DailyRate</th>\n",
       "      <th>Department</th>\n",
       "      <th>DistanceFromHome</th>\n",
       "      <th>Education</th>\n",
       "      <th>EducationField</th>\n",
       "      <th>EnvironmentSatisfaction</th>\n",
       "      <th>Gender</th>\n",
       "      <th>...</th>\n",
       "      <th>PerformanceRating</th>\n",
       "      <th>RelationshipSatisfaction</th>\n",
       "      <th>StockOptionLevel</th>\n",
       "      <th>TotalWorkingYears</th>\n",
       "      <th>TrainingTimesLastYear</th>\n",
       "      <th>WorkLifeBalance</th>\n",
       "      <th>YearsAtCompany</th>\n",
       "      <th>YearsInCurrentRole</th>\n",
       "      <th>YearsSinceLastPromotion</th>\n",
       "      <th>YearsWithCurrManager</th>\n",
       "    </tr>\n",
       "  </thead>\n",
       "  <tbody>\n",
       "    <tr>\n",
       "      <th>0</th>\n",
       "      <td>21</td>\n",
       "      <td>0.0</td>\n",
       "      <td>Travel_Rarely</td>\n",
       "      <td>391</td>\n",
       "      <td>Research_Development</td>\n",
       "      <td>15</td>\n",
       "      <td>College</td>\n",
       "      <td>Life_Sciences</td>\n",
       "      <td>High</td>\n",
       "      <td>Male</td>\n",
       "      <td>...</td>\n",
       "      <td>Excellent</td>\n",
       "      <td>Very_High</td>\n",
       "      <td>0</td>\n",
       "      <td>0</td>\n",
       "      <td>6</td>\n",
       "      <td>Better</td>\n",
       "      <td>0</td>\n",
       "      <td>0</td>\n",
       "      <td>0</td>\n",
       "      <td>0</td>\n",
       "    </tr>\n",
       "    <tr>\n",
       "      <th>5</th>\n",
       "      <td>27</td>\n",
       "      <td>0.0</td>\n",
       "      <td>Non-Travel</td>\n",
       "      <td>443</td>\n",
       "      <td>Research_Development</td>\n",
       "      <td>3</td>\n",
       "      <td>Bachelor</td>\n",
       "      <td>Medical</td>\n",
       "      <td>Very_High</td>\n",
       "      <td>Male</td>\n",
       "      <td>...</td>\n",
       "      <td>Excellent</td>\n",
       "      <td>High</td>\n",
       "      <td>3</td>\n",
       "      <td>0</td>\n",
       "      <td>6</td>\n",
       "      <td>Good</td>\n",
       "      <td>0</td>\n",
       "      <td>0</td>\n",
       "      <td>0</td>\n",
       "      <td>0</td>\n",
       "    </tr>\n",
       "    <tr>\n",
       "      <th>6</th>\n",
       "      <td>18</td>\n",
       "      <td>0.0</td>\n",
       "      <td>Non-Travel</td>\n",
       "      <td>287</td>\n",
       "      <td>Research_Development</td>\n",
       "      <td>5</td>\n",
       "      <td>College</td>\n",
       "      <td>Life_Sciences</td>\n",
       "      <td>Medium</td>\n",
       "      <td>Male</td>\n",
       "      <td>...</td>\n",
       "      <td>Excellent</td>\n",
       "      <td>Very_High</td>\n",
       "      <td>0</td>\n",
       "      <td>0</td>\n",
       "      <td>2</td>\n",
       "      <td>Better</td>\n",
       "      <td>0</td>\n",
       "      <td>0</td>\n",
       "      <td>0</td>\n",
       "      <td>0</td>\n",
       "    </tr>\n",
       "    <tr>\n",
       "      <th>10</th>\n",
       "      <td>18</td>\n",
       "      <td>0.0</td>\n",
       "      <td>Non-Travel</td>\n",
       "      <td>1431</td>\n",
       "      <td>Research_Development</td>\n",
       "      <td>14</td>\n",
       "      <td>Bachelor</td>\n",
       "      <td>Medical</td>\n",
       "      <td>Medium</td>\n",
       "      <td>Female</td>\n",
       "      <td>...</td>\n",
       "      <td>Excellent</td>\n",
       "      <td>High</td>\n",
       "      <td>0</td>\n",
       "      <td>0</td>\n",
       "      <td>4</td>\n",
       "      <td>Bad</td>\n",
       "      <td>0</td>\n",
       "      <td>0</td>\n",
       "      <td>0</td>\n",
       "      <td>0</td>\n",
       "    </tr>\n",
       "    <tr>\n",
       "      <th>17</th>\n",
       "      <td>31</td>\n",
       "      <td>0.0</td>\n",
       "      <td>Travel_Rarely</td>\n",
       "      <td>1082</td>\n",
       "      <td>Research_Development</td>\n",
       "      <td>1</td>\n",
       "      <td>Master</td>\n",
       "      <td>Medical</td>\n",
       "      <td>High</td>\n",
       "      <td>Male</td>\n",
       "      <td>...</td>\n",
       "      <td>Excellent</td>\n",
       "      <td>Medium</td>\n",
       "      <td>0</td>\n",
       "      <td>1</td>\n",
       "      <td>4</td>\n",
       "      <td>Better</td>\n",
       "      <td>1</td>\n",
       "      <td>1</td>\n",
       "      <td>1</td>\n",
       "      <td>0</td>\n",
       "    </tr>\n",
       "  </tbody>\n",
       "</table>\n",
       "<p>5 rows × 31 columns</p>\n",
       "</div>"
      ],
      "text/plain": [
       "    Age  Attrition BusinessTravel  DailyRate            Department  \\\n",
       "0    21        0.0  Travel_Rarely        391  Research_Development   \n",
       "5    27        0.0     Non-Travel        443  Research_Development   \n",
       "6    18        0.0     Non-Travel        287  Research_Development   \n",
       "10   18        0.0     Non-Travel       1431  Research_Development   \n",
       "17   31        0.0  Travel_Rarely       1082  Research_Development   \n",
       "\n",
       "    DistanceFromHome Education EducationField EnvironmentSatisfaction  Gender  \\\n",
       "0                 15   College  Life_Sciences                    High    Male   \n",
       "5                  3  Bachelor        Medical               Very_High    Male   \n",
       "6                  5   College  Life_Sciences                  Medium    Male   \n",
       "10                14  Bachelor        Medical                  Medium  Female   \n",
       "17                 1    Master        Medical                    High    Male   \n",
       "\n",
       "    ...  PerformanceRating RelationshipSatisfaction  StockOptionLevel  \\\n",
       "0   ...          Excellent                Very_High                 0   \n",
       "5   ...          Excellent                     High                 3   \n",
       "6   ...          Excellent                Very_High                 0   \n",
       "10  ...          Excellent                     High                 0   \n",
       "17  ...          Excellent                   Medium                 0   \n",
       "\n",
       "   TotalWorkingYears TrainingTimesLastYear WorkLifeBalance  YearsAtCompany  \\\n",
       "0                  0                     6          Better               0   \n",
       "5                  0                     6            Good               0   \n",
       "6                  0                     2          Better               0   \n",
       "10                 0                     4             Bad               0   \n",
       "17                 1                     4          Better               1   \n",
       "\n",
       "    YearsInCurrentRole  YearsSinceLastPromotion YearsWithCurrManager  \n",
       "0                    0                        0                    0  \n",
       "5                    0                        0                    0  \n",
       "6                    0                        0                    0  \n",
       "10                   0                        0                    0  \n",
       "17                   1                        1                    0  \n",
       "\n",
       "[5 rows x 31 columns]"
      ]
     },
     "execution_count": 83,
     "metadata": {},
     "output_type": "execute_result"
    }
   ],
   "source": [
    "# Filter for rows where JobRole is in job_roles_samp\n",
    "jobrole_condition = attrition_pop['JobRole'].isin(job_roles_samp)\n",
    "attrition_filtered = attrition_pop[jobrole_condition]\n",
    "\n",
    "# Print the result\n",
    "attrition_filtered.head()"
   ]
  },
  {
   "cell_type": "code",
   "execution_count": 84,
   "id": "e3d2c1fe-922c-4b46-8ef4-6ac2663a231e",
   "metadata": {},
   "outputs": [
    {
     "data": {
      "text/plain": [
       "Index(['Healthcare_Representative', 'Human_Resources', 'Laboratory_Technician',\n",
       "       'Manager', 'Manufacturing_Director', 'Research_Director',\n",
       "       'Research_Scientist', 'Sales_Executive', 'Sales_Representative'],\n",
       "      dtype='object')"
      ]
     },
     "execution_count": 84,
     "metadata": {},
     "output_type": "execute_result"
    }
   ],
   "source": [
    "attrition_filtered['JobRole'].cat.categories"
   ]
  },
  {
   "cell_type": "markdown",
   "id": "4e3d4eb8-c129-496f-8c4a-659cff05608d",
   "metadata": {},
   "source": [
    "Other JobRole are included after sampling just 4"
   ]
  },
  {
   "cell_type": "code",
   "execution_count": 86,
   "id": "6c1bcc92-b70f-44fe-ac48-ee0d50aca758",
   "metadata": {},
   "outputs": [],
   "source": [
    "# Remove categories with no rows\n",
    "attrition_filtered = attrition_filtered.copy()\n",
    "attrition_filtered['JobRole'] = attrition_filtered['JobRole'].cat.remove_unused_categories()"
   ]
  },
  {
   "cell_type": "code",
   "execution_count": 87,
   "id": "8571b969-6918-4c21-a95d-8c3e2c5c4f1a",
   "metadata": {},
   "outputs": [
    {
     "data": {
      "text/plain": [
       "Index(['Human_Resources', 'Manager', 'Research_Director',\n",
       "       'Research_Scientist'],\n",
       "      dtype='object')"
      ]
     },
     "execution_count": 87,
     "metadata": {},
     "output_type": "execute_result"
    }
   ],
   "source": [
    "attrition_filtered['JobRole'].cat.categories"
   ]
  },
  {
   "cell_type": "markdown",
   "id": "e42acb53-a3e5-4463-a4f5-d4707dd92ad9",
   "metadata": {},
   "source": [
    "Now only the filtered JobRole are included"
   ]
  },
  {
   "cell_type": "code",
   "execution_count": 89,
   "id": "ae97b57e-f02a-4773-80a2-44b46da6b143",
   "metadata": {},
   "outputs": [
    {
     "data": {
      "text/html": [
       "<div>\n",
       "<style scoped>\n",
       "    .dataframe tbody tr th:only-of-type {\n",
       "        vertical-align: middle;\n",
       "    }\n",
       "\n",
       "    .dataframe tbody tr th {\n",
       "        vertical-align: top;\n",
       "    }\n",
       "\n",
       "    .dataframe thead th {\n",
       "        text-align: right;\n",
       "    }\n",
       "</style>\n",
       "<table border=\"1\" class=\"dataframe\">\n",
       "  <thead>\n",
       "    <tr style=\"text-align: right;\">\n",
       "      <th></th>\n",
       "      <th>Age</th>\n",
       "      <th>Attrition</th>\n",
       "      <th>BusinessTravel</th>\n",
       "      <th>DailyRate</th>\n",
       "      <th>Department</th>\n",
       "      <th>DistanceFromHome</th>\n",
       "      <th>Education</th>\n",
       "      <th>EducationField</th>\n",
       "      <th>EnvironmentSatisfaction</th>\n",
       "      <th>Gender</th>\n",
       "      <th>...</th>\n",
       "      <th>PerformanceRating</th>\n",
       "      <th>RelationshipSatisfaction</th>\n",
       "      <th>StockOptionLevel</th>\n",
       "      <th>TotalWorkingYears</th>\n",
       "      <th>TrainingTimesLastYear</th>\n",
       "      <th>WorkLifeBalance</th>\n",
       "      <th>YearsAtCompany</th>\n",
       "      <th>YearsInCurrentRole</th>\n",
       "      <th>YearsSinceLastPromotion</th>\n",
       "      <th>YearsWithCurrManager</th>\n",
       "    </tr>\n",
       "  </thead>\n",
       "  <tbody>\n",
       "    <tr>\n",
       "      <th>1348</th>\n",
       "      <td>44</td>\n",
       "      <td>1.0</td>\n",
       "      <td>Travel_Rarely</td>\n",
       "      <td>1376</td>\n",
       "      <td>Human_Resources</td>\n",
       "      <td>1</td>\n",
       "      <td>College</td>\n",
       "      <td>Medical</td>\n",
       "      <td>Medium</td>\n",
       "      <td>Male</td>\n",
       "      <td>...</td>\n",
       "      <td>Excellent</td>\n",
       "      <td>Very_High</td>\n",
       "      <td>1</td>\n",
       "      <td>24</td>\n",
       "      <td>1</td>\n",
       "      <td>Better</td>\n",
       "      <td>20</td>\n",
       "      <td>6</td>\n",
       "      <td>3</td>\n",
       "      <td>6</td>\n",
       "    </tr>\n",
       "    <tr>\n",
       "      <th>886</th>\n",
       "      <td>41</td>\n",
       "      <td>0.0</td>\n",
       "      <td>Non-Travel</td>\n",
       "      <td>552</td>\n",
       "      <td>Human_Resources</td>\n",
       "      <td>4</td>\n",
       "      <td>Bachelor</td>\n",
       "      <td>Human_Resources</td>\n",
       "      <td>High</td>\n",
       "      <td>Male</td>\n",
       "      <td>...</td>\n",
       "      <td>Excellent</td>\n",
       "      <td>Medium</td>\n",
       "      <td>1</td>\n",
       "      <td>10</td>\n",
       "      <td>4</td>\n",
       "      <td>Better</td>\n",
       "      <td>3</td>\n",
       "      <td>2</td>\n",
       "      <td>1</td>\n",
       "      <td>2</td>\n",
       "    </tr>\n",
       "    <tr>\n",
       "      <th>983</th>\n",
       "      <td>39</td>\n",
       "      <td>0.0</td>\n",
       "      <td>Travel_Rarely</td>\n",
       "      <td>141</td>\n",
       "      <td>Human_Resources</td>\n",
       "      <td>3</td>\n",
       "      <td>Bachelor</td>\n",
       "      <td>Human_Resources</td>\n",
       "      <td>High</td>\n",
       "      <td>Female</td>\n",
       "      <td>...</td>\n",
       "      <td>Excellent</td>\n",
       "      <td>High</td>\n",
       "      <td>1</td>\n",
       "      <td>12</td>\n",
       "      <td>3</td>\n",
       "      <td>Bad</td>\n",
       "      <td>8</td>\n",
       "      <td>3</td>\n",
       "      <td>3</td>\n",
       "      <td>6</td>\n",
       "    </tr>\n",
       "    <tr>\n",
       "      <th>88</th>\n",
       "      <td>27</td>\n",
       "      <td>1.0</td>\n",
       "      <td>Travel_Frequently</td>\n",
       "      <td>1337</td>\n",
       "      <td>Human_Resources</td>\n",
       "      <td>22</td>\n",
       "      <td>Bachelor</td>\n",
       "      <td>Human_Resources</td>\n",
       "      <td>Low</td>\n",
       "      <td>Female</td>\n",
       "      <td>...</td>\n",
       "      <td>Excellent</td>\n",
       "      <td>Low</td>\n",
       "      <td>0</td>\n",
       "      <td>1</td>\n",
       "      <td>2</td>\n",
       "      <td>Better</td>\n",
       "      <td>1</td>\n",
       "      <td>0</td>\n",
       "      <td>0</td>\n",
       "      <td>0</td>\n",
       "    </tr>\n",
       "    <tr>\n",
       "      <th>189</th>\n",
       "      <td>34</td>\n",
       "      <td>0.0</td>\n",
       "      <td>Travel_Rarely</td>\n",
       "      <td>829</td>\n",
       "      <td>Human_Resources</td>\n",
       "      <td>3</td>\n",
       "      <td>College</td>\n",
       "      <td>Human_Resources</td>\n",
       "      <td>High</td>\n",
       "      <td>Male</td>\n",
       "      <td>...</td>\n",
       "      <td>Excellent</td>\n",
       "      <td>High</td>\n",
       "      <td>1</td>\n",
       "      <td>4</td>\n",
       "      <td>1</td>\n",
       "      <td>Bad</td>\n",
       "      <td>3</td>\n",
       "      <td>2</td>\n",
       "      <td>0</td>\n",
       "      <td>2</td>\n",
       "    </tr>\n",
       "  </tbody>\n",
       "</table>\n",
       "<p>5 rows × 31 columns</p>\n",
       "</div>"
      ],
      "text/plain": [
       "      Age  Attrition     BusinessTravel  DailyRate       Department  \\\n",
       "1348   44        1.0      Travel_Rarely       1376  Human_Resources   \n",
       "886    41        0.0         Non-Travel        552  Human_Resources   \n",
       "983    39        0.0      Travel_Rarely        141  Human_Resources   \n",
       "88     27        1.0  Travel_Frequently       1337  Human_Resources   \n",
       "189    34        0.0      Travel_Rarely        829  Human_Resources   \n",
       "\n",
       "      DistanceFromHome Education   EducationField EnvironmentSatisfaction  \\\n",
       "1348                 1   College          Medical                  Medium   \n",
       "886                  4  Bachelor  Human_Resources                    High   \n",
       "983                  3  Bachelor  Human_Resources                    High   \n",
       "88                  22  Bachelor  Human_Resources                     Low   \n",
       "189                  3   College  Human_Resources                    High   \n",
       "\n",
       "      Gender  ...  PerformanceRating RelationshipSatisfaction  \\\n",
       "1348    Male  ...          Excellent                Very_High   \n",
       "886     Male  ...          Excellent                   Medium   \n",
       "983   Female  ...          Excellent                     High   \n",
       "88    Female  ...          Excellent                      Low   \n",
       "189     Male  ...          Excellent                     High   \n",
       "\n",
       "      StockOptionLevel TotalWorkingYears TrainingTimesLastYear  \\\n",
       "1348                 1                24                     1   \n",
       "886                  1                10                     4   \n",
       "983                  1                12                     3   \n",
       "88                   0                 1                     2   \n",
       "189                  1                 4                     1   \n",
       "\n",
       "     WorkLifeBalance  YearsAtCompany  YearsInCurrentRole  \\\n",
       "1348          Better              20                   6   \n",
       "886           Better               3                   2   \n",
       "983              Bad               8                   3   \n",
       "88            Better               1                   0   \n",
       "189              Bad               3                   2   \n",
       "\n",
       "      YearsSinceLastPromotion YearsWithCurrManager  \n",
       "1348                        3                    6  \n",
       "886                         1                    2  \n",
       "983                         3                    6  \n",
       "88                          0                    0  \n",
       "189                         0                    2  \n",
       "\n",
       "[5 rows x 31 columns]"
      ]
     },
     "execution_count": 89,
     "metadata": {},
     "output_type": "execute_result"
    }
   ],
   "source": [
    "# Randomly sample 10 employees from each sampled job role\n",
    "attrition_clust = attrition_filtered.groupby('JobRole',  observed=False).sample(10, random_state=2022)\n",
    "\n",
    "# Print the sample\n",
    "attrition_clust.head()"
   ]
  },
  {
   "cell_type": "markdown",
   "id": "68b5c383-124e-402a-ba61-4dd28b008f1e",
   "metadata": {},
   "source": [
    "> The two-stage sampling technique gives you control over sampling both between subgroups and within subgroups."
   ]
  },
  {
   "cell_type": "markdown",
   "id": "04d9a6b8-d339-41fe-a1b5-0442682aa953",
   "metadata": {},
   "source": [
    "## 3 kinds of sampling\n",
    "You're going to compare the performance of point estimates using simple, stratified, and cluster sampling. Before doing that, you'll have to set up the samples.\n",
    "\n",
    "You'll use the `RelationshipSatisfaction` column of the `attrition_pop` dataset, which categorizes the employee's relationship with the company. It has four levels: `Low`, `Medium`, `High`, and `Very_High`."
   ]
  },
  {
   "cell_type": "code",
   "execution_count": 92,
   "id": "064d3629-d0bb-45d2-8643-7562e92196d1",
   "metadata": {},
   "outputs": [],
   "source": [
    "# Perform simple random sampling to get 0.25 of the population\n",
    "attrition_srs = attrition_pop.sample(frac=0.25, random_state=2022)"
   ]
  },
  {
   "cell_type": "code",
   "execution_count": 93,
   "id": "c734e511-e9ba-4c83-8faf-357ba5465c1a",
   "metadata": {},
   "outputs": [],
   "source": [
    "# Perform stratified sampling to get 0.25 of each relationship group\n",
    "attrition_strat = attrition_pop.groupby('RelationshipSatisfaction', observed=False).sample(frac=0.25, random_state=2022)"
   ]
  },
  {
   "cell_type": "code",
   "execution_count": 94,
   "id": "fbce7f5d-4cb7-4413-adef-6127f9a3cc7b",
   "metadata": {},
   "outputs": [
    {
     "data": {
      "text/plain": [
       "['Very_High', 'High', 'Low', 'Medium']"
      ]
     },
     "execution_count": 94,
     "metadata": {},
     "output_type": "execute_result"
    }
   ],
   "source": [
    "# Create a list of unique RelationshipSatisfaction values\n",
    "satisfaction_unique = list(attrition_pop['RelationshipSatisfaction'].unique())\n",
    "satisfaction_unique"
   ]
  },
  {
   "cell_type": "code",
   "execution_count": 95,
   "id": "ee7f001b-8e15-4b53-a950-756a2fb55087",
   "metadata": {},
   "outputs": [
    {
     "data": {
      "text/plain": [
       "['High', 'Low']"
      ]
     },
     "execution_count": 95,
     "metadata": {},
     "output_type": "execute_result"
    }
   ],
   "source": [
    "# Randomly sample 2 unique satisfaction values\n",
    "satisfaction_samp = random.sample(satisfaction_unique, k=2)\n",
    "satisfaction_samp"
   ]
  },
  {
   "cell_type": "code",
   "execution_count": 96,
   "id": "9afeefcd-7c3f-4f0c-8d96-25f1c3ecabfc",
   "metadata": {},
   "outputs": [
    {
     "data": {
      "text/plain": [
       "Index(['Low', 'Medium', 'High', 'Very_High'], dtype='object')"
      ]
     },
     "execution_count": 96,
     "metadata": {},
     "output_type": "execute_result"
    }
   ],
   "source": [
    "# Filter for satisfaction_samp and clear unused categories from RelationshipSatisfaction\n",
    "satis_condition = attrition_pop['RelationshipSatisfaction'].isin(satisfaction_samp)\n",
    "attrition_clust_prep = attrition_pop[satis_condition]\n",
    "\n",
    "attrition_clust_prep['RelationshipSatisfaction'].cat.categories"
   ]
  },
  {
   "cell_type": "code",
   "execution_count": 97,
   "id": "d3ad8e89-d623-41d3-b6fe-69489817d68d",
   "metadata": {},
   "outputs": [
    {
     "data": {
      "text/plain": [
       "Index(['Low', 'High'], dtype='object')"
      ]
     },
     "execution_count": 97,
     "metadata": {},
     "output_type": "execute_result"
    }
   ],
   "source": [
    "attrition_clust_prep = attrition_clust_prep.copy()\n",
    "\n",
    "attrition_clust_prep['RelationshipSatisfaction'] = attrition_clust_prep['RelationshipSatisfaction'].cat.remove_unused_categories()\n",
    "\n",
    "attrition_clust_prep['RelationshipSatisfaction'] .cat.categories"
   ]
  },
  {
   "cell_type": "code",
   "execution_count": 98,
   "id": "d43d059f-ba35-4807-a798-9c729ee422f9",
   "metadata": {},
   "outputs": [],
   "source": [
    "# Perform cluster sampling on the selected group, getting 0.25 of attrition_pop\n",
    "attrition_clust = attrition_clust_prep.groupby(\"RelationshipSatisfaction\",  observed=False)\\\n",
    ".sample(n=len(attrition_pop) // 4, random_state=2022, replace=True)"
   ]
  },
  {
   "cell_type": "code",
   "execution_count": 99,
   "id": "d1d49fe0-9ab2-40f3-b659-9872d23ed308",
   "metadata": {},
   "outputs": [
    {
     "data": {
      "text/html": [
       "<div>\n",
       "<style scoped>\n",
       "    .dataframe tbody tr th:only-of-type {\n",
       "        vertical-align: middle;\n",
       "    }\n",
       "\n",
       "    .dataframe tbody tr th {\n",
       "        vertical-align: top;\n",
       "    }\n",
       "\n",
       "    .dataframe thead th {\n",
       "        text-align: right;\n",
       "    }\n",
       "</style>\n",
       "<table border=\"1\" class=\"dataframe\">\n",
       "  <thead>\n",
       "    <tr style=\"text-align: right;\">\n",
       "      <th></th>\n",
       "      <th>Age</th>\n",
       "      <th>Attrition</th>\n",
       "      <th>BusinessTravel</th>\n",
       "      <th>DailyRate</th>\n",
       "      <th>Department</th>\n",
       "      <th>DistanceFromHome</th>\n",
       "      <th>Education</th>\n",
       "      <th>EducationField</th>\n",
       "      <th>EnvironmentSatisfaction</th>\n",
       "      <th>Gender</th>\n",
       "      <th>...</th>\n",
       "      <th>PerformanceRating</th>\n",
       "      <th>RelationshipSatisfaction</th>\n",
       "      <th>StockOptionLevel</th>\n",
       "      <th>TotalWorkingYears</th>\n",
       "      <th>TrainingTimesLastYear</th>\n",
       "      <th>WorkLifeBalance</th>\n",
       "      <th>YearsAtCompany</th>\n",
       "      <th>YearsInCurrentRole</th>\n",
       "      <th>YearsSinceLastPromotion</th>\n",
       "      <th>YearsWithCurrManager</th>\n",
       "    </tr>\n",
       "  </thead>\n",
       "  <tbody>\n",
       "    <tr>\n",
       "      <th>1113</th>\n",
       "      <td>36</td>\n",
       "      <td>0.0</td>\n",
       "      <td>Non-Travel</td>\n",
       "      <td>301</td>\n",
       "      <td>Sales</td>\n",
       "      <td>15</td>\n",
       "      <td>Master</td>\n",
       "      <td>Marketing</td>\n",
       "      <td>Very_High</td>\n",
       "      <td>Male</td>\n",
       "      <td>...</td>\n",
       "      <td>Outstanding</td>\n",
       "      <td>Low</td>\n",
       "      <td>1</td>\n",
       "      <td>15</td>\n",
       "      <td>4</td>\n",
       "      <td>Good</td>\n",
       "      <td>15</td>\n",
       "      <td>12</td>\n",
       "      <td>11</td>\n",
       "      <td>11</td>\n",
       "    </tr>\n",
       "    <tr>\n",
       "      <th>885</th>\n",
       "      <td>32</td>\n",
       "      <td>0.0</td>\n",
       "      <td>Travel_Frequently</td>\n",
       "      <td>585</td>\n",
       "      <td>Research_Development</td>\n",
       "      <td>10</td>\n",
       "      <td>Bachelor</td>\n",
       "      <td>Life_Sciences</td>\n",
       "      <td>Low</td>\n",
       "      <td>Male</td>\n",
       "      <td>...</td>\n",
       "      <td>Excellent</td>\n",
       "      <td>Low</td>\n",
       "      <td>1</td>\n",
       "      <td>10</td>\n",
       "      <td>3</td>\n",
       "      <td>Good</td>\n",
       "      <td>5</td>\n",
       "      <td>2</td>\n",
       "      <td>1</td>\n",
       "      <td>3</td>\n",
       "    </tr>\n",
       "    <tr>\n",
       "      <th>592</th>\n",
       "      <td>33</td>\n",
       "      <td>0.0</td>\n",
       "      <td>Travel_Frequently</td>\n",
       "      <td>1111</td>\n",
       "      <td>Sales</td>\n",
       "      <td>5</td>\n",
       "      <td>Below_College</td>\n",
       "      <td>Life_Sciences</td>\n",
       "      <td>Medium</td>\n",
       "      <td>Male</td>\n",
       "      <td>...</td>\n",
       "      <td>Excellent</td>\n",
       "      <td>Low</td>\n",
       "      <td>0</td>\n",
       "      <td>8</td>\n",
       "      <td>2</td>\n",
       "      <td>Best</td>\n",
       "      <td>5</td>\n",
       "      <td>4</td>\n",
       "      <td>1</td>\n",
       "      <td>2</td>\n",
       "    </tr>\n",
       "    <tr>\n",
       "      <th>914</th>\n",
       "      <td>40</td>\n",
       "      <td>0.0</td>\n",
       "      <td>Travel_Frequently</td>\n",
       "      <td>692</td>\n",
       "      <td>Research_Development</td>\n",
       "      <td>11</td>\n",
       "      <td>Bachelor</td>\n",
       "      <td>Technical_Degree</td>\n",
       "      <td>Very_High</td>\n",
       "      <td>Female</td>\n",
       "      <td>...</td>\n",
       "      <td>Excellent</td>\n",
       "      <td>Low</td>\n",
       "      <td>1</td>\n",
       "      <td>10</td>\n",
       "      <td>2</td>\n",
       "      <td>Best</td>\n",
       "      <td>10</td>\n",
       "      <td>9</td>\n",
       "      <td>9</td>\n",
       "      <td>4</td>\n",
       "    </tr>\n",
       "    <tr>\n",
       "      <th>1234</th>\n",
       "      <td>40</td>\n",
       "      <td>0.0</td>\n",
       "      <td>Travel_Frequently</td>\n",
       "      <td>1395</td>\n",
       "      <td>Research_Development</td>\n",
       "      <td>26</td>\n",
       "      <td>Bachelor</td>\n",
       "      <td>Medical</td>\n",
       "      <td>Medium</td>\n",
       "      <td>Female</td>\n",
       "      <td>...</td>\n",
       "      <td>Excellent</td>\n",
       "      <td>Low</td>\n",
       "      <td>1</td>\n",
       "      <td>20</td>\n",
       "      <td>2</td>\n",
       "      <td>Better</td>\n",
       "      <td>20</td>\n",
       "      <td>7</td>\n",
       "      <td>2</td>\n",
       "      <td>13</td>\n",
       "    </tr>\n",
       "  </tbody>\n",
       "</table>\n",
       "<p>5 rows × 31 columns</p>\n",
       "</div>"
      ],
      "text/plain": [
       "      Age  Attrition     BusinessTravel  DailyRate            Department  \\\n",
       "1113   36        0.0         Non-Travel        301                 Sales   \n",
       "885    32        0.0  Travel_Frequently        585  Research_Development   \n",
       "592    33        0.0  Travel_Frequently       1111                 Sales   \n",
       "914    40        0.0  Travel_Frequently        692  Research_Development   \n",
       "1234   40        0.0  Travel_Frequently       1395  Research_Development   \n",
       "\n",
       "      DistanceFromHome      Education    EducationField  \\\n",
       "1113                15         Master         Marketing   \n",
       "885                 10       Bachelor     Life_Sciences   \n",
       "592                  5  Below_College     Life_Sciences   \n",
       "914                 11       Bachelor  Technical_Degree   \n",
       "1234                26       Bachelor           Medical   \n",
       "\n",
       "     EnvironmentSatisfaction  Gender  ...  PerformanceRating  \\\n",
       "1113               Very_High    Male  ...        Outstanding   \n",
       "885                      Low    Male  ...          Excellent   \n",
       "592                   Medium    Male  ...          Excellent   \n",
       "914                Very_High  Female  ...          Excellent   \n",
       "1234                  Medium  Female  ...          Excellent   \n",
       "\n",
       "     RelationshipSatisfaction  StockOptionLevel TotalWorkingYears  \\\n",
       "1113                      Low                 1                15   \n",
       "885                       Low                 1                10   \n",
       "592                       Low                 0                 8   \n",
       "914                       Low                 1                10   \n",
       "1234                      Low                 1                20   \n",
       "\n",
       "     TrainingTimesLastYear WorkLifeBalance  YearsAtCompany  \\\n",
       "1113                     4            Good              15   \n",
       "885                      3            Good               5   \n",
       "592                      2            Best               5   \n",
       "914                      2            Best              10   \n",
       "1234                     2          Better              20   \n",
       "\n",
       "      YearsInCurrentRole  YearsSinceLastPromotion YearsWithCurrManager  \n",
       "1113                  12                       11                   11  \n",
       "885                    2                        1                    3  \n",
       "592                    4                        1                    2  \n",
       "914                    9                        9                    4  \n",
       "1234                   7                        2                   13  \n",
       "\n",
       "[5 rows x 31 columns]"
      ]
     },
     "execution_count": 99,
     "metadata": {},
     "output_type": "execute_result"
    }
   ],
   "source": [
    "attrition_clust.head()"
   ]
  },
  {
   "cell_type": "markdown",
   "id": "20fcb7e2-4a39-4ba4-84ee-50d89ad1724f",
   "metadata": {},
   "source": [
    "## Comparing point estimates\n",
    "Now that you have three types of sample (***simple***, ***stratified***, and ***cluster***), you can compare point estimates from each sample to the population parameter. That is, you can calculate the same summary statistic on each sample and see how it compares to the summary statistic for the population.\n",
    "\n",
    "Here, we'll look at how satisfaction with the company affects whether or not the employee leaves the company. That is, you'll calculate the proportion of employees who left the company (they have an `Attrition` value of `1`) for each value of `RelationshipSatisfaction`."
   ]
  },
  {
   "cell_type": "code",
   "execution_count": 101,
   "id": "c49b3b0d-9b06-4813-ac5a-8ae97833e177",
   "metadata": {},
   "outputs": [
    {
     "name": "stdout",
     "output_type": "stream",
     "text": [
      "RelationshipSatisfaction\n",
      "Low          0.206522\n",
      "Medium       0.148515\n",
      "High         0.154684\n",
      "Very_High    0.148148\n",
      "Name: Attrition, dtype: float64\n"
     ]
    }
   ],
   "source": [
    "# Mean Attrition by RelationshipSatisfaction group\n",
    "mean_attrition_pop = attrition_pop.groupby('RelationshipSatisfaction', observed=False )['Attrition'].mean()\n",
    "\n",
    "# Print the result\n",
    "print(mean_attrition_pop)"
   ]
  },
  {
   "cell_type": "code",
   "execution_count": 102,
   "id": "bbb97b71-dea0-4c08-a1a9-7294e884d981",
   "metadata": {},
   "outputs": [
    {
     "name": "stdout",
     "output_type": "stream",
     "text": [
      "RelationshipSatisfaction\n",
      "Low          0.134328\n",
      "Medium       0.164179\n",
      "High         0.160000\n",
      "Very_High    0.155963\n",
      "Name: Attrition, dtype: float64\n"
     ]
    }
   ],
   "source": [
    "# Calculate the same thing for the simple random sample \n",
    "mean_attrition_srs = attrition_srs.groupby('RelationshipSatisfaction', observed=False )['Attrition'].mean()\n",
    "\n",
    "# Print the result\n",
    "print(mean_attrition_srs)"
   ]
  },
  {
   "cell_type": "code",
   "execution_count": 103,
   "id": "708a3235-2f22-48a1-bfb6-9671e84157b2",
   "metadata": {},
   "outputs": [
    {
     "name": "stdout",
     "output_type": "stream",
     "text": [
      "RelationshipSatisfaction\n",
      "Low          0.144928\n",
      "Medium       0.078947\n",
      "High         0.165217\n",
      "Very_High    0.129630\n",
      "Name: Attrition, dtype: float64\n"
     ]
    }
   ],
   "source": [
    "# Calculate the same thing for the stratified sample \n",
    "mean_attrition_strat =  attrition_strat.groupby('RelationshipSatisfaction', observed=False )['Attrition'].mean()\n",
    "\n",
    "# Print the result\n",
    "print(mean_attrition_strat)"
   ]
  },
  {
   "cell_type": "code",
   "execution_count": 104,
   "id": "b6417a00-b1c2-49b0-a69c-9ffa958d4dd0",
   "metadata": {},
   "outputs": [
    {
     "name": "stdout",
     "output_type": "stream",
     "text": [
      "RelationshipSatisfaction\n",
      "Low     0.204360\n",
      "High    0.155313\n",
      "Name: Attrition, dtype: float64\n"
     ]
    }
   ],
   "source": [
    "# Calculate the same thing for the cluster sample \n",
    "mean_attrition_clust = attrition_clust.groupby('RelationshipSatisfaction', observed=False )['Attrition'].mean()\n",
    "\n",
    "# Print the result\n",
    "print(mean_attrition_clust)"
   ]
  },
  {
   "cell_type": "markdown",
   "id": "8d7f6f6f-3078-406c-b997-1cb9a533024e",
   "metadata": {},
   "source": [
    ">The numbers are all fairly similar, with the notable exception that cluster sampling only gives results for the clusters included in the sample."
   ]
  },
  {
   "cell_type": "markdown",
   "id": "69886b05-fce9-4101-8bf7-d2d55dd8934c",
   "metadata": {},
   "source": [
    "## Calculating relative errors\n",
    "The size of the sample you take affects how accurately the point estimates reflect the corresponding population parameter. For example, when you calculate a sample mean, you want it to be close to the population mean. However, if your sample is too small, this might not be the case.\n",
    "\n",
    "The most common metric for assessing accuracy is ***relative error***. This is the absolute difference between the population parameter and the point estimate, all divided by the population parameter. It is sometimes expressed as a percentage.\n",
    "\n",
    "`relative error = abs(pop - sample)/pop * 100`"
   ]
  },
  {
   "cell_type": "code",
   "execution_count": 107,
   "id": "07d4897b-c8c0-4bb6-97a7-70bb4ee57895",
   "metadata": {},
   "outputs": [
    {
     "data": {
      "text/plain": [
       "0.16122448979591836"
      ]
     },
     "execution_count": 107,
     "metadata": {},
     "output_type": "execute_result"
    }
   ],
   "source": [
    "# Calculate the mean employee attrition in the pop\n",
    "mean_attrition_pop = attrition_pop['Attrition'].mean()\n",
    "\n",
    "mean_attrition_pop"
   ]
  },
  {
   "cell_type": "code",
   "execution_count": 108,
   "id": "b74851cd-418b-4653-8d46-9021c1f0b6a8",
   "metadata": {},
   "outputs": [
    {
     "data": {
      "text/plain": [
       "0.06"
      ]
     },
     "execution_count": 108,
     "metadata": {},
     "output_type": "execute_result"
    }
   ],
   "source": [
    "# Generate a simple random sample of 50 rows, with seed 2022\n",
    "attrition_srs50 = attrition_pop.sample(n=50, random_state=2022)\n",
    "\n",
    "# Calculate the mean employee attrition in the sample\n",
    "mean_attrition_srs50 = attrition_srs50['Attrition'].mean()\n",
    "\n",
    "mean_attrition_srs50"
   ]
  },
  {
   "cell_type": "code",
   "execution_count": 109,
   "id": "e2344d15-cae2-4cf5-b1a7-854c68683c5a",
   "metadata": {},
   "outputs": [
    {
     "data": {
      "text/plain": [
       "62.78481012658227"
      ]
     },
     "execution_count": 109,
     "metadata": {},
     "output_type": "execute_result"
    }
   ],
   "source": [
    "# Calculate the relative error percentage\n",
    "rel_error_pct50 = 100 * abs(mean_attrition_pop - mean_attrition_srs50)/mean_attrition_pop\n",
    "\n",
    "# Print rel_error_pct50\n",
    "rel_error_pct50"
   ]
  },
  {
   "cell_type": "code",
   "execution_count": 110,
   "id": "e4fe5328-af2d-4357-abd8-980a14a1d7ca",
   "metadata": {},
   "outputs": [
    {
     "name": "stdout",
     "output_type": "stream",
     "text": [
      "6.962025316455695\n"
     ]
    }
   ],
   "source": [
    "# Generate a simple random sample of 100 rows, with seed 2022\n",
    "attrition_srs100 = attrition_pop.sample(n=100, random_state=2022)\n",
    "\n",
    "# Calculate the mean employee attrition in the sample\n",
    "mean_attrition_srs100 = attrition_srs100['Attrition'].mean()\n",
    "\n",
    "# Calculate the relative error percentage\n",
    "rel_error_pct100 = 100 * abs(mean_attrition_pop - mean_attrition_srs100)/mean_attrition_pop\n",
    "\n",
    "# Print rel_error_pct100\n",
    "print(rel_error_pct100)"
   ]
  },
  {
   "cell_type": "markdown",
   "id": "d2609adf-1e90-4241-a3f2-4742522c68e6",
   "metadata": {},
   "source": [
    ">As you increase the sample size, the sample mean generally gets closer to the population mean, and the relative error decreases."
   ]
  },
  {
   "cell_type": "markdown",
   "id": "a645edb0-0838-43f4-966c-6af0017f57a9",
   "metadata": {},
   "source": [
    "## Replicating samples\n",
    "When you calculate a point estimate such as a sample mean, the value you calculate depends on the rows that were included in the sample. That means that there is some randomness in the answer. In order to quantify the variation caused by this randomness, you can create many samples and calculate the sample mean (or another statistic) for each sample."
   ]
  },
  {
   "cell_type": "code",
   "execution_count": 113,
   "id": "e6937812-3f6c-4211-99b9-50e76d643d1e",
   "metadata": {},
   "outputs": [
    {
     "name": "stdout",
     "output_type": "stream",
     "text": [
      "[0.16666666666666666, 0.18333333333333332, 0.1, 0.15, 0.18333333333333332]\n"
     ]
    }
   ],
   "source": [
    "# Create an empty list to store the means of randomly drawn samples\n",
    "mean_attritions = []\n",
    "\n",
    "# Repeat the process 500 times to simulate the sampling distribution of the mean\n",
    "for i in range(500):\n",
    "    # Randomly select 60 rows (without replacement by default) from the population DataFrame\n",
    "    # Then, take the mean of the 'Attrition' column in that sample\n",
    "    sample_mean = attrition_pop.sample(n=60)['Attrition'].mean()\n",
    "    \n",
    "    # Append the sample mean to the list\n",
    "    mean_attritions.append(sample_mean)\n",
    "\n",
    "# Display the first 5 sample means to check the result\n",
    "print(mean_attritions[0:5])"
   ]
  },
  {
   "cell_type": "code",
   "execution_count": 114,
   "id": "19b9f52d-ba25-4aaa-85ed-946387c48e18",
   "metadata": {},
   "outputs": [
    {
     "data": {
      "image/png": "[encoded data removed]",
      "text/plain": [
       "<Figure size 640x480 with 1 Axes>"
      ]
     },
     "metadata": {},
     "output_type": "display_data"
    }
   ],
   "source": [
    "# Create a histogram of the 500 sample means\n",
    "plt.hist(mean_attritions, bins=16)\n",
    "plt.show()"
   ]
  },
  {
   "cell_type": "markdown",
   "id": "59afb9ea-7f21-4049-beb3-40005d34b22a",
   "metadata": {},
   "source": [
    ">By generating the sample statistic many times with different samples, you can quantify the amount of variation in those statistics."
   ]
  },
  {
   "cell_type": "markdown",
   "id": "afa419f6-362d-4581-90c4-1f3ba804bc92",
   "metadata": {},
   "source": [
    "> As sample size increases, on average each sample mean has a lower relative error compared to the population mean, thus reducing the range of the distribution."
   ]
  },
  {
   "cell_type": "markdown",
   "id": "293d12d8-f0e0-4fc1-a4cc-ef9d131c2a21",
   "metadata": {},
   "source": [
    "## Exact sampling distribution\n",
    "To quantify how the point estimate (sample statistic) you are interested in varies, you need to know all the possible values it can take and how often. That is, you need to know its distribution.\n",
    "\n",
    "The distribution of a sample statistic is called the sampling distribution. When we can calculate this exactly, rather than using an approximation, it is known as the exact sampling distribution.\n",
    "\n",
    "Let's take another look at the sampling distribution of dice rolls. This time, we'll look at five eight-sided dice. (These have the numbers one to eight.)\n",
    "\n",
    "You're simulating every possible outcome of rolling 5 eight-sided dice — meaning you want to generate all combinations of one value from each die.\n",
    "\n",
    "Each die can roll a number between 1 and 8, and you want to know all the ways the 5 dice can land at once."
   ]
  },
  {
   "cell_type": "code",
   "execution_count": 118,
   "id": "e503750e-6749-4991-a0c3-9bc5735ee580",
   "metadata": {},
   "outputs": [
    {
     "data": {
      "text/html": [
       "<div>\n",
       "<style scoped>\n",
       "    .dataframe tbody tr th:only-of-type {\n",
       "        vertical-align: middle;\n",
       "    }\n",
       "\n",
       "    .dataframe tbody tr th {\n",
       "        vertical-align: top;\n",
       "    }\n",
       "\n",
       "    .dataframe thead th {\n",
       "        text-align: right;\n",
       "    }\n",
       "</style>\n",
       "<table border=\"1\" class=\"dataframe\">\n",
       "  <thead>\n",
       "    <tr style=\"text-align: right;\">\n",
       "      <th></th>\n",
       "      <th>die1</th>\n",
       "      <th>die2</th>\n",
       "      <th>die3</th>\n",
       "      <th>die4</th>\n",
       "      <th>die5</th>\n",
       "    </tr>\n",
       "  </thead>\n",
       "  <tbody>\n",
       "    <tr>\n",
       "      <th>0</th>\n",
       "      <td>1</td>\n",
       "      <td>1</td>\n",
       "      <td>1</td>\n",
       "      <td>1</td>\n",
       "      <td>1</td>\n",
       "    </tr>\n",
       "    <tr>\n",
       "      <th>1</th>\n",
       "      <td>1</td>\n",
       "      <td>1</td>\n",
       "      <td>1</td>\n",
       "      <td>1</td>\n",
       "      <td>2</td>\n",
       "    </tr>\n",
       "    <tr>\n",
       "      <th>2</th>\n",
       "      <td>1</td>\n",
       "      <td>1</td>\n",
       "      <td>1</td>\n",
       "      <td>1</td>\n",
       "      <td>3</td>\n",
       "    </tr>\n",
       "    <tr>\n",
       "      <th>3</th>\n",
       "      <td>1</td>\n",
       "      <td>1</td>\n",
       "      <td>1</td>\n",
       "      <td>1</td>\n",
       "      <td>4</td>\n",
       "    </tr>\n",
       "    <tr>\n",
       "      <th>4</th>\n",
       "      <td>1</td>\n",
       "      <td>1</td>\n",
       "      <td>1</td>\n",
       "      <td>1</td>\n",
       "      <td>5</td>\n",
       "    </tr>\n",
       "  </tbody>\n",
       "</table>\n",
       "</div>"
      ],
      "text/plain": [
       "   die1  die2  die3  die4  die5\n",
       "0     1     1     1     1     1\n",
       "1     1     1     1     1     2\n",
       "2     1     1     1     1     3\n",
       "3     1     1     1     1     4\n",
       "4     1     1     1     1     5"
      ]
     },
     "execution_count": 118,
     "metadata": {},
     "output_type": "execute_result"
    }
   ],
   "source": [
    "import pandas as pd\n",
    "import matplotlib.pyplot as plt\n",
    "import numpy as np\n",
    "import itertools\n",
    "\n",
    "# This function creates a DataFrame that contains all possible combinations\n",
    "# of values from the input dictionary. Each key in the dictionary represents\n",
    "# a variable (like a die), and the associated list represents possible values.\n",
    "def expand_grid(data_dict):\n",
    "    # Use itertools.product to compute the Cartesian product of the input lists.\n",
    "    # This gives all possible ways of selecting one value from each list.\n",
    "    # The * unpacks the lists so that itertools.product() sees them as separate arguments.\n",
    "    rows = itertools.product(*data_dict.values())\n",
    "    \n",
    "    # Convert the list of tuples (rows) into a DataFrame, with the dictionary\n",
    "    # keys as column names.\n",
    "    return pd.DataFrame.from_records(rows, columns=data_dict.keys())\n",
    "\n",
    "# Define the values for each of the five 8-sided dice.\n",
    "# Each die can roll a value from 1 to 8.\n",
    "dice_values = [1, 2, 3, 4, 5, 6, 7, 8]\n",
    "\n",
    "# Create a dictionary representing five dice, each with values from 1 to 8.\n",
    "# The keys will become column names in the final DataFrame.\n",
    "dice_dict = {\n",
    "    'die1': dice_values,\n",
    "    'die2': dice_values,\n",
    "    'die3': dice_values,\n",
    "    'die4': dice_values,\n",
    "    'die5': dice_values\n",
    "}\n",
    "\n",
    "# Generate all possible combinations of rolling five 8-sided dice.\n",
    "# There will be 8^5 = 32,768 combinations.\n",
    "dice = expand_grid(dice_dict)\n",
    "\n",
    "# Display the first few rows to see the structure\n",
    "#print(dice.head())\n",
    "\n",
    "# Optional: Add a column that shows the total sum of all five dice for each combination\n",
    "#dice['total'] = dice.sum(axis=1)\n",
    "\n",
    "# Display the first few rows again to include the 'total' column\n",
    "dice.head()"
   ]
  },
  {
   "cell_type": "code",
   "execution_count": 119,
   "id": "a1f09c61-5b40-42c9-9252-878fc5005a0e",
   "metadata": {},
   "outputs": [
    {
     "data": {
      "text/html": [
       "<div>\n",
       "<style scoped>\n",
       "    .dataframe tbody tr th:only-of-type {\n",
       "        vertical-align: middle;\n",
       "    }\n",
       "\n",
       "    .dataframe tbody tr th {\n",
       "        vertical-align: top;\n",
       "    }\n",
       "\n",
       "    .dataframe thead th {\n",
       "        text-align: right;\n",
       "    }\n",
       "</style>\n",
       "<table border=\"1\" class=\"dataframe\">\n",
       "  <thead>\n",
       "    <tr style=\"text-align: right;\">\n",
       "      <th></th>\n",
       "      <th>die1</th>\n",
       "      <th>die2</th>\n",
       "      <th>die3</th>\n",
       "      <th>die4</th>\n",
       "      <th>die5</th>\n",
       "      <th>mean_roll</th>\n",
       "    </tr>\n",
       "  </thead>\n",
       "  <tbody>\n",
       "    <tr>\n",
       "      <th>0</th>\n",
       "      <td>1</td>\n",
       "      <td>1</td>\n",
       "      <td>1</td>\n",
       "      <td>1</td>\n",
       "      <td>1</td>\n",
       "      <td>1.0</td>\n",
       "    </tr>\n",
       "    <tr>\n",
       "      <th>1</th>\n",
       "      <td>1</td>\n",
       "      <td>1</td>\n",
       "      <td>1</td>\n",
       "      <td>1</td>\n",
       "      <td>2</td>\n",
       "      <td>1.2</td>\n",
       "    </tr>\n",
       "    <tr>\n",
       "      <th>2</th>\n",
       "      <td>1</td>\n",
       "      <td>1</td>\n",
       "      <td>1</td>\n",
       "      <td>1</td>\n",
       "      <td>3</td>\n",
       "      <td>1.4</td>\n",
       "    </tr>\n",
       "    <tr>\n",
       "      <th>3</th>\n",
       "      <td>1</td>\n",
       "      <td>1</td>\n",
       "      <td>1</td>\n",
       "      <td>1</td>\n",
       "      <td>4</td>\n",
       "      <td>1.6</td>\n",
       "    </tr>\n",
       "    <tr>\n",
       "      <th>4</th>\n",
       "      <td>1</td>\n",
       "      <td>1</td>\n",
       "      <td>1</td>\n",
       "      <td>1</td>\n",
       "      <td>5</td>\n",
       "      <td>1.8</td>\n",
       "    </tr>\n",
       "  </tbody>\n",
       "</table>\n",
       "</div>"
      ],
      "text/plain": [
       "   die1  die2  die3  die4  die5 mean_roll\n",
       "0     1     1     1     1     1       1.0\n",
       "1     1     1     1     1     2       1.2\n",
       "2     1     1     1     1     3       1.4\n",
       "3     1     1     1     1     4       1.6\n",
       "4     1     1     1     1     5       1.8"
      ]
     },
     "execution_count": 119,
     "metadata": {},
     "output_type": "execute_result"
    }
   ],
   "source": [
    "# Add a column of mean rolls and convert to a categorical\n",
    "# dice['mean_roll'] = dice[['die1', 'die2', 'die3', 'die4', 'die5']].mean(axis=1)\n",
    "dice['mean_roll'] = dice['mean_roll'] = (dice['die1'] + dice['die2'] + \n",
    "                     dice['die3'] + dice['die4'] + \n",
    "                     dice['die5']) / 5 \n",
    "                     \n",
    "                    \n",
    "# Convert the mean_roll column to a categorical type\n",
    "dice['mean_roll'] = dice['mean_roll'].astype('category')\n",
    "\n",
    "# Print result\n",
    "dice.head()"
   ]
  },
  {
   "cell_type": "code",
   "execution_count": 120,
   "id": "b84f5c6b-c05c-4035-ae74-855f18670f33",
   "metadata": {},
   "outputs": [
    {
     "data": {
      "image/png": "[encoded data removed]",
      "text/plain": [
       "<Figure size 640x480 with 1 Axes>"
      ]
     },
     "metadata": {},
     "output_type": "display_data"
    }
   ],
   "source": [
    "# Draw a bar plot of mean_roll\n",
    "dice['mean_roll'].value_counts(sort=False).plot(kind=\"bar\")\n",
    "plt.show()"
   ]
  },
  {
   "cell_type": "markdown",
   "id": "09f33701-9c22-43b4-b609-564c31998d07",
   "metadata": {},
   "source": [
    ">The exact sampling distribution shows all possible variations of the point estimate that you are interested in."
   ]
  },
  {
   "cell_type": "markdown",
   "id": "21315fc6-fa2f-4865-a73a-c8e9d7552294",
   "metadata": {},
   "source": [
    "## Generating an approximate sampling distribution\n",
    "Calculating the exact sampling distribution is only possible in very simple situations. With just five eight-sided dice, the number of possible rolls is `8**5`, which is over thirty thousand. When the dataset is more complicated, for example, where a variable has hundreds or thousands of categories, the number of possible outcomes becomes too difficult to compute exactly.\n",
    "\n",
    "In this situation, you can calculate an approximate sampling distribution by simulating the exact sampling distribution. That is, you can repeat a procedure over and over again to simulate both the sampling process and the sample statistic calculation process."
   ]
  },
  {
   "cell_type": "code",
   "execution_count": 123,
   "id": "05e076aa-9bca-41a7-8ae2-c038fbb61141",
   "metadata": {},
   "outputs": [
    {
     "name": "stdout",
     "output_type": "stream",
     "text": [
      "[6 4 4 6 5]\n"
     ]
    }
   ],
   "source": [
    "# Sample one to eight, five times, with replacement\n",
    "five_rolls = np.random.choice(list(range(1, 9)), size=5, replace=True)\n",
    "print(five_rolls)"
   ]
  },
  {
   "cell_type": "code",
   "execution_count": 124,
   "id": "da034e80-f44d-4316-ad73-30a26b361d21",
   "metadata": {},
   "outputs": [
    {
     "name": "stdout",
     "output_type": "stream",
     "text": [
      "5.0\n"
     ]
    }
   ],
   "source": [
    "# Print the mean of five_rolls\n",
    "print(five_rolls.mean())"
   ]
  },
  {
   "cell_type": "code",
   "execution_count": 125,
   "id": "54c47733-1998-4a01-8afd-21198d8e4641",
   "metadata": {},
   "outputs": [
    {
     "name": "stdout",
     "output_type": "stream",
     "text": [
      "[6.0, 3.2, 4.4, 4.0, 4.4, 5.0, 5.0, 3.8, 4.4, 5.2]\n"
     ]
    }
   ],
   "source": [
    "# Replicate the sampling code 1000 times\n",
    "sample_means_1000 = []\n",
    "for i in range(1000):\n",
    "    sample_mean = np.random.choice(list(range(1, 9)), size=5, replace=True).mean()\n",
    "    sample_means_1000.append(sample_mean)\n",
    "    \n",
    "# Print the first 10 entries of the result\n",
    "print(sample_means_1000[0:10])"
   ]
  },
  {
   "cell_type": "code",
   "execution_count": 126,
   "id": "e6904dc2-6e95-4c0b-9440-5245d523b124",
   "metadata": {},
   "outputs": [
    {
     "data": {
      "image/png": "[encoded data removed]",
      "text/plain": [
       "<Figure size 640x480 with 1 Axes>"
      ]
     },
     "metadata": {},
     "output_type": "display_data"
    }
   ],
   "source": [
    "# Draw a histogram of sample_means_1000 with 20 bins\n",
    "plt.hist(sample_means_1000, bins=20)\n",
    "plt.show()"
   ]
  },
  {
   "cell_type": "markdown",
   "id": "671b910b-b0c7-4ddb-b9cd-f770e7b54441",
   "metadata": {},
   "source": [
    "> Once your dataset gets sufficiently big, exact sampling distributions cannot be calculated, so an approximate sampling distribution must be used. Notice that the histogram is close to but not exactly the same as the shape of the bar graph from the previous exercise."
   ]
  },
  {
   "cell_type": "markdown",
   "id": "613f5a9f-9497-49aa-9366-ac43149c2205",
   "metadata": {},
   "source": [
    "> The exact sampling distribution can only be calculated if you know what the population is and if the problems are small and simple enough to compute. Otherwise, the approximate sampling distribution must be used."
   ]
  },
  {
   "cell_type": "markdown",
   "id": "abf0b5d7-73fe-42e7-a612-938c67c03278",
   "metadata": {},
   "source": [
    "## Population & sampling distribution means\n",
    "One of the useful features of sampling distributions is that you can quantify them. Specifically, you can calculate summary statistics on them. Here, you'll look at the relationship between the mean of the sampling distribution and the population parameter's mean.\n",
    "\n",
    "Three sampling distributions are provided. For each, the employee attrition dataset was sampled using simple random sampling, then the mean attrition was calculated. This was done 1000 times to get a sampling distribution of mean attritions. One sampling distribution used a sample size of 5 for each replicate, one used 50, and one used 500."
   ]
  },
  {
   "cell_type": "code",
   "execution_count": 197,
   "id": "1568163a-23c3-476f-a05a-0e94defffbc4",
   "metadata": {},
   "outputs": [
    {
     "data": {
      "text/plain": [
       "[0.0, 0.2, 0.4, 0.4, 0.0]"
      ]
     },
     "execution_count": 197,
     "metadata": {},
     "output_type": "execute_result"
    }
   ],
   "source": [
    "# 5 sample distributions \n",
    "sampling_distribution_5 = []\n",
    "\n",
    "for i in range(1000):\n",
    "    att_sample = attrition_pop['Attrition'].sample(n=5).mean()\n",
    "    sampling_distribution_5.append(att_sample)\n",
    "    \n",
    "sampling_distribution_5[0:5]"
   ]
  },
  {
   "cell_type": "code",
   "execution_count": 199,
   "id": "d1484eb4-da07-40a5-ac7f-6bb1f8bc6b89",
   "metadata": {},
   "outputs": [
    {
     "data": {
      "text/plain": [
       "[0.1, 0.12, 0.2, 0.2, 0.22]"
      ]
     },
     "execution_count": 199,
     "metadata": {},
     "output_type": "execute_result"
    }
   ],
   "source": [
    "# 50 sample distributions \n",
    "sampling_distribution_50 = []\n",
    "\n",
    "for i in range(1000):\n",
    "    att_sample50 = attrition_pop['Attrition'].sample(n=50).mean()\n",
    "    sampling_distribution_50.append(att_sample50)\n",
    "    \n",
    "sampling_distribution_50[0:5]"
   ]
  },
  {
   "cell_type": "code",
   "execution_count": 201,
   "id": "8848ae91-d05a-4472-a5db-96070942f98a",
   "metadata": {},
   "outputs": [
    {
     "data": {
      "text/plain": [
       "[0.174, 0.156, 0.148, 0.132, 0.184]"
      ]
     },
     "execution_count": 201,
     "metadata": {},
     "output_type": "execute_result"
    }
   ],
   "source": [
    "# 500 sample distributions \n",
    "sampling_distribution_500 = []\n",
    "\n",
    "for i in range(1000):\n",
    "    att_sample500 = attrition_pop['Attrition'].sample(n=500).mean()\n",
    "    sampling_distribution_500.append(att_sample500)\n",
    "    \n",
    "sampling_distribution_500[0:5]"
   ]
  },
  {
   "cell_type": "code",
   "execution_count": 203,
   "id": "33f37353-2e5f-43c5-8bf1-df71e561a24f",
   "metadata": {},
   "outputs": [
    {
     "name": "stdout",
     "output_type": "stream",
     "text": [
      "0.16760000000000003\n",
      "0.16340000000000005\n",
      "0.161334\n"
     ]
    }
   ],
   "source": [
    "# Calculate the mean of the mean attritions for each sampling distribution\n",
    "mean_of_means_5 = np.mean(sampling_distribution_5)\n",
    "mean_of_means_50 = np.mean(sampling_distribution_50)\n",
    "mean_of_means_500 = np.mean(sampling_distribution_500)\n",
    "\n",
    "# Print the results\n",
    "print(mean_of_means_5)\n",
    "print(mean_of_means_50)\n",
    "print(mean_of_means_500)"
   ]
  },
  {
   "cell_type": "code",
   "execution_count": 208,
   "id": "bb300be6-5608-4b17-be82-41bd0e772065",
   "metadata": {},
   "outputs": [
    {
     "data": {
      "text/plain": [
       "0.16122448979591836"
      ]
     },
     "execution_count": 208,
     "metadata": {},
     "output_type": "execute_result"
    }
   ],
   "source": [
    "# Population mean\n",
    "attrition_pop['Attrition'].mean()"
   ]
  },
  {
   "cell_type": "markdown",
   "id": "cf3d6fa6-4e20-4f94-8734-4da712159498",
   "metadata": {},
   "source": [
    "Even for small sample sizes, the mean of the sampling distribution is a good approximation of the population mean."
   ]
  },
  {
   "cell_type": "markdown",
   "id": "3ddef4a9-d757-467b-8aec-4c14e0d9c324",
   "metadata": {},
   "source": [
    "## Population & sampling distribution variation\n",
    "You just calculated the mean of the sampling distribution and saw how it is an estimate of the corresponding population parameter. Similarly, as a result of the `central limit theorem`, the standard deviation of the sampling distribution has an interesting relationship with the population parameter's standard deviation and the sample size."
   ]
  },
  {
   "cell_type": "code",
   "execution_count": 216,
   "id": "e289128f-f54c-4e7c-8d9d-9b3b888127e3",
   "metadata": {},
   "outputs": [
    {
     "name": "stdout",
     "output_type": "stream",
     "text": [
      "0.16786428571443784\n",
      "0.050610289481501695\n",
      "0.01298649656732304\n"
     ]
    }
   ],
   "source": [
    "# Calculate the std. dev. of the mean attritions for each sampling distribution\n",
    "sd_of_means_5 = np.std(sampling_distribution_5, ddof=1)\n",
    "sd_of_means_50 = np.std(sampling_distribution_50, ddof=1)\n",
    "sd_of_means_500 = np.std(sampling_distribution_500, ddof=1)\n",
    "\n",
    "# Print the results\n",
    "print(sd_of_means_5)\n",
    "print(sd_of_means_50)\n",
    "print(sd_of_means_500)"
   ]
  },
  {
   "cell_type": "code",
   "execution_count": 218,
   "id": "51cebd6a-ad64-4a7c-8971-b22b06896a4e",
   "metadata": {},
   "outputs": [
    {
     "data": {
      "text/plain": [
       "0.36786303197196485"
      ]
     },
     "execution_count": 218,
     "metadata": {},
     "output_type": "execute_result"
    }
   ],
   "source": [
    "# Population std\n",
    "attrition_pop['Attrition'].std()"
   ]
  },
  {
   "cell_type": "markdown",
   "id": "69011536-bf12-4c5f-93f2-dd68415a176d",
   "metadata": {},
   "source": [
    ">The amount of variation in the sampling distribution is related to the amount of variation in the population and the sample size. This is another consequence of the Central Limit Theorem."
   ]
  },
  {
   "cell_type": "markdown",
   "id": "e0d3d6cc-548c-46c1-ab05-8af1c51c532c",
   "metadata": {},
   "source": [
    "> The standard deviation of the sampling distribution is approximately equal to the population standard deviation divided by the square root of the sample size."
   ]
  },
  {
   "cell_type": "code",
   "execution_count": null,
   "id": "4a609d8a-4a12-4c35-aa6d-19d87815de52",
   "metadata": {},
   "outputs": [],
   "source": []
  }
 ],
 "metadata": {
  "kernelspec": {
   "display_name": "Python [conda env:base] *",
   "language": "python",
   "name": "conda-base-py"
  },
  "language_info": {
   "codemirror_mode": {
    "name": "ipython",
    "version": 3
   },
   "file_extension": ".py",
   "mimetype": "text/x-python",
   "name": "python",
   "nbconvert_exporter": "python",
   "pygments_lexer": "ipython3",
   "version": "3.12.3"
  }
 },
 "nbformat": 4,
 "nbformat_minor": 5
}
