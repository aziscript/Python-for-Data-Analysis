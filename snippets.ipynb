{
 "cells": [
  {
   "cell_type": "markdown",
   "id": "11d9bfc3-1985-42be-8ebd-417a47020e06",
   "metadata": {},
   "source": [
    "## Saving dataset from Datacamp"
   ]
  },
  {
   "cell_type": "code",
   "execution_count": null,
   "id": "3fef21ce-4936-49e9-afce-c87b23763d37",
   "metadata": {
    "collapsed": true,
    "jupyter": {
     "outputs_hidden": true
    }
   },
   "outputs": [],
   "source": [
    "salaries.to_csv(\"salaries.csv\", index=False)"
   ]
  },
  {
   "cell_type": "code",
   "execution_count": null,
   "id": "94ebc4d1-b0af-4034-8c37-c1a7077686e8",
   "metadata": {},
   "outputs": [],
   "source": [
    "with open(\"salaries.csv\", \"r\") as file:\n",
    "    print(file.read())"
   ]
  },
  {
   "cell_type": "markdown",
   "id": "d3c46de0-dcb5-4849-af56-ba70f2426ac6",
   "metadata": {},
   "source": [
    "## Select columns with a particular dtypes"
   ]
  },
  {
   "cell_type": "code",
   "execution_count": null,
   "id": "ee325687-022a-423d-9af0-32d98df50aa3",
   "metadata": {},
   "outputs": [],
   "source": [
    "# Select columns with only 'float' and 'int' data type\n",
    "divorce_num = divorce.select_dtypes(['float', 'int'])\n",
    "divorce_num.head()"
   ]
  }
 ],
 "metadata": {
  "kernelspec": {
   "display_name": "Python 3 (ipykernel)",
   "language": "python",
   "name": "python3"
  },
  "language_info": {
   "codemirror_mode": {
    "name": "ipython",
    "version": 3
   },
   "file_extension": ".py",
   "mimetype": "text/x-python",
   "name": "python",
   "nbconvert_exporter": "python",
   "pygments_lexer": "ipython3",
   "version": "3.12.4"
  }
 },
 "nbformat": 4,
 "nbformat_minor": 5
}
