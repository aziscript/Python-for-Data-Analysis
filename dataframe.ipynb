{
 "cells": [
  {
   "cell_type": "code",
   "execution_count": 5,
   "id": "39376f6e-efb1-44a3-b74f-839b6d033a08",
   "metadata": {},
   "outputs": [],
   "source": [
    "my_list = [20, 50, 70, 80, 90, 40]"
   ]
  },
  {
   "cell_type": "code",
   "execution_count": 7,
   "id": "e85139e2-cb4e-4ee7-bbfb-39cb13c4e1f4",
   "metadata": {
    "panel-layout": {
     "height": 0,
     "visible": true,
     "width": 100
    }
   },
   "outputs": [
    {
     "name": "stdout",
     "output_type": "stream",
     "text": [
      "[20, 50, 70, 80, 90, 40]\n"
     ]
    }
   ],
   "source": [
    "print(my_list)"
   ]
  },
  {
   "cell_type": "code",
   "execution_count": 9,
   "id": "cd4ee207-469b-47ad-8777-7dae0d2b1648",
   "metadata": {},
   "outputs": [
    {
     "name": "stdout",
     "output_type": "stream",
     "text": [
      "20\n",
      "50\n",
      "70\n",
      "80\n",
      "90\n",
      "40\n"
     ]
    }
   ],
   "source": [
    "# interating over list\n",
    "for x in my_list: \n",
    "    print(x)"
   ]
  },
  {
   "cell_type": "code",
   "execution_count": 13,
   "id": "5b32425e-3cd9-409a-8d6f-87de242a710c",
   "metadata": {},
   "outputs": [
    {
     "name": "stdout",
     "output_type": "stream",
     "text": [
      "index 0: 20\n",
      "index 1: 50\n",
      "index 2: 70\n",
      "index 3: 80\n",
      "index 4: 90\n",
      "index 5: 40\n"
     ]
    }
   ],
   "source": [
    "for x, y in enumerate(my_list):\n",
    "    print(f\"index {x}: {y}\")"
   ]
  },
  {
   "cell_type": "code",
   "execution_count": 15,
   "id": "f0dd61d7-784a-4c48-9725-402b752e419b",
   "metadata": {},
   "outputs": [
    {
     "name": "stdout",
     "output_type": "stream",
     "text": [
      "Room 1: 20\n",
      "Room 2: 50\n",
      "Room 3: 70\n",
      "Room 4: 80\n",
      "Room 5: 90\n",
      "Room 6: 40\n"
     ]
    }
   ],
   "source": [
    "for x, y in enumerate(my_list):\n",
    "    print(f\"Room {x+1}: {y}\")"
   ]
  },
  {
   "cell_type": "code",
   "execution_count": 17,
   "id": "23bfa438-0555-436e-a9b3-0e0f36033e8e",
   "metadata": {},
   "outputs": [],
   "source": [
    "import numpy as np"
   ]
  },
  {
   "cell_type": "code",
   "execution_count": 19,
   "id": "72077dbb-8e1d-43a8-9f31-736011a916cf",
   "metadata": {},
   "outputs": [],
   "source": [
    "my_list = [56, 18, 24, 19, 20, 62]\n",
    "np_weight = np.array(my_list)"
   ]
  },
  {
   "cell_type": "code",
   "execution_count": 21,
   "id": "ed272d46-2f71-4092-8ca4-e0bdcfd35bbe",
   "metadata": {
    "panel-layout": {
     "height": 0,
     "visible": true,
     "width": 100
    }
   },
   "outputs": [
    {
     "name": "stdout",
     "output_type": "stream",
     "text": [
      "[56 18 24 19 20 62]\n"
     ]
    }
   ],
   "source": [
    "print(np_weight)"
   ]
  },
  {
   "cell_type": "code",
   "execution_count": 29,
   "id": "d10aee2e-d6bf-45ff-ae5a-eb520d22fd32",
   "metadata": {},
   "outputs": [
    {
     "name": "stdout",
     "output_type": "stream",
     "text": [
      "56\n",
      "18\n",
      "24\n",
      "19\n",
      "20\n",
      "62\n"
     ]
    }
   ],
   "source": [
    "for x in np.nditer(np_weight) :\n",
    "    print(x)"
   ]
  },
  {
   "cell_type": "code",
   "execution_count": 31,
   "id": "aaea997e-1126-43d3-a10d-fd62c117fc57",
   "metadata": {},
   "outputs": [
    {
     "name": "stdout",
     "output_type": "stream",
     "text": [
      "Position (0,): 56\n",
      "Position (1,): 18\n",
      "Position (2,): 24\n",
      "Position (3,): 19\n",
      "Position (4,): 20\n",
      "Position (5,): 62\n"
     ]
    }
   ],
   "source": [
    "for index, value in np.ndenumerate(np_weight):\n",
    "    print(f\"Position {index}: {value}\")"
   ]
  },
  {
   "cell_type": "code",
   "execution_count": 33,
   "id": "dc4cbb1f-abab-410e-96c4-5a64f105675b",
   "metadata": {},
   "outputs": [],
   "source": [
    "size = [['Kitchen', 20],\n",
    "       ['Bedroom', 40],\n",
    "       ['Hallway', 30],\n",
    "       ['Parlor', 50],\n",
    "       ['Dinning', 60]]"
   ]
  },
  {
   "cell_type": "code",
   "execution_count": 35,
   "id": "58bfd8ef-528e-4067-a200-dd61b9de6ac3",
   "metadata": {
    "panel-layout": {
     "height": 0,
     "visible": true,
     "width": 100
    }
   },
   "outputs": [
    {
     "name": "stdout",
     "output_type": "stream",
     "text": [
      "[['Kitchen', 20], ['Bedroom', 40], ['Hallway', 30], ['Parlor', 50], ['Dinning', 60]]\n"
     ]
    }
   ],
   "source": [
    "print(size)"
   ]
  },
  {
   "cell_type": "code",
   "execution_count": 37,
   "id": "e70ef3e3-d3be-475d-a7d2-bebf1c08130e",
   "metadata": {},
   "outputs": [
    {
     "name": "stdout",
     "output_type": "stream",
     "text": [
      "Kitchen 20\n",
      "Bedroom 40\n",
      "Hallway 30\n",
      "Parlor 50\n",
      "Dinning 60\n"
     ]
    }
   ],
   "source": [
    "for x, y in size :\n",
    "    print(x, y)"
   ]
  },
  {
   "cell_type": "code",
   "execution_count": 39,
   "id": "41444ca5-a882-4704-bc98-9a011d2dbee5",
   "metadata": {},
   "outputs": [
    {
     "name": "stdout",
     "output_type": "stream",
     "text": [
      "the size of Kitchen is 20\n",
      "the size of Bedroom is 40\n",
      "the size of Hallway is 30\n",
      "the size of Parlor is 50\n",
      "the size of Dinning is 60\n"
     ]
    }
   ],
   "source": [
    "for x, y in size :\n",
    "    print(f\"the size of {x} is {y}\")"
   ]
  },
  {
   "cell_type": "code",
   "execution_count": 41,
   "id": "b60a4041-129c-49ed-992d-c019dc6636d6",
   "metadata": {},
   "outputs": [],
   "source": [
    "nigeria = {\"Imo\": \"Owerri\",\n",
    "          \"Delta\" : \"Asaba\",\n",
    "          \"Edo\": \"Benin\",\n",
    "          \"Lagos\": \"Ikega\",\n",
    "          \"Ibadan\": \"Oyo\"}"
   ]
  },
  {
   "cell_type": "code",
   "execution_count": 43,
   "id": "6948ca4d-4aef-4f60-8ca3-ad1e233fecfc",
   "metadata": {
    "panel-layout": {
     "height": 0,
     "visible": true,
     "width": 100
    }
   },
   "outputs": [
    {
     "name": "stdout",
     "output_type": "stream",
     "text": [
      "{'Imo': 'Owerri', 'Delta': 'Asaba', 'Edo': 'Benin', 'Lagos': 'Ikega', 'Ibadan': 'Oyo'}\n"
     ]
    }
   ],
   "source": [
    "print(nigeria)"
   ]
  },
  {
   "cell_type": "code",
   "execution_count": 45,
   "id": "29c9de1f-f3ee-466f-b75f-ddefb349a49c",
   "metadata": {
    "panel-layout": {
     "height": 0,
     "visible": true,
     "width": 100
    }
   },
   "outputs": [
    {
     "name": "stdout",
     "output_type": "stream",
     "text": [
      "<class 'dict'>\n"
     ]
    }
   ],
   "source": [
    "print(type(nigeria))"
   ]
  },
  {
   "cell_type": "code",
   "execution_count": 49,
   "id": "4ed78ada-6421-4d74-a413-08b739a0dd2e",
   "metadata": {},
   "outputs": [
    {
     "name": "stdout",
     "output_type": "stream",
     "text": [
      "the capital Imo is Owerri\n",
      "the capital Delta is Asaba\n",
      "the capital Edo is Benin\n",
      "the capital Lagos is Ikega\n",
      "the capital Ibadan is Oyo\n"
     ]
    }
   ],
   "source": [
    "for state, capital in nigeria.items():\n",
    "    print(f\"the capital {state} is {capital}\")"
   ]
  },
  {
   "cell_type": "code",
   "execution_count": 51,
   "id": "d33a25ce-f7b2-401f-9d9c-f8751a841660",
   "metadata": {
    "panel-layout": {
     "height": 0,
     "visible": true,
     "width": 100
    }
   },
   "outputs": [
    {
     "name": "stdout",
     "output_type": "stream",
     "text": [
      "      Name  Age  Salary   Department\n",
      "0     John   28   65000           HR\n",
      "1     Emma   34   78000    Marketing\n",
      "2  Michael   42  120000  Engineering\n",
      "3   Sophia   31   95000        Sales\n",
      "4  William   25   54000           IT\n"
     ]
    }
   ],
   "source": [
    "# Import pandas library\n",
    "import pandas as pd\n",
    "import numpy as np\n",
    "\n",
    "# Create a sample DataFrame with 4 columns\n",
    "data = {\n",
    "    'Name': ['John', 'Emma', 'Michael', 'Sophia', 'William'],\n",
    "    'Age': [28, 34, 42, 31, 25],\n",
    "    'Salary': [65000, 78000, 120000, 95000, 54000],\n",
    "    'Department': ['HR', 'Marketing', 'Engineering', 'Sales', 'IT']\n",
    "}\n",
    "\n",
    "# Create the DataFrame\n",
    "df = pd.DataFrame(data)\n",
    "\n",
    "# Display the DataFrame\n",
    "print(df)"
   ]
  },
  {
   "cell_type": "code",
   "execution_count": 107,
   "id": "c1fc47bf-aa5b-48a7-a1f3-c44919bc0878",
   "metadata": {
    "panel-layout": {
     "height": 0,
     "visible": true,
     "width": 100
    }
   },
   "outputs": [
    {
     "name": "stdout",
     "output_type": "stream",
     "text": [
      "           Country          Capital      Continent  Population_M  Area_sqkm\n",
      "US   United States  Washington D.C.  North America         331.0    9833517\n",
      "CN           China          Beijing           Asia        1441.0    9596961\n",
      "IN           India        New Delhi           Asia        1380.0    3287263\n",
      "BR          Brazil         Brasília  South America         212.6    8515767\n",
      "RU          Russia           Moscow    Europe/Asia         145.9   17098246\n",
      "JP           Japan            Tokyo           Asia         126.5     377975\n",
      "DE         Germany           Berlin         Europe          83.2     357114\n",
      "GB  United Kingdom           London         Europe          67.9     243610\n",
      "FR          France            Paris         Europe          65.3     551695\n",
      "IT           Italy             Rome         Europe          60.5     301340\n"
     ]
    }
   ],
   "source": [
    "import pandas as pd\n",
    "\n",
    "# Creating a DataFrame with country information\n",
    "countries_data = {\n",
    "    'Country': ['United States', 'China', 'India', 'Brazil', 'Russia', 'Japan', \n",
    "                'Germany', 'United Kingdom', 'France', 'Italy'],\n",
    "    'Capital': ['Washington D.C.', 'Beijing', 'New Delhi', 'Brasília', 'Moscow', \n",
    "                'Tokyo', 'Berlin', 'London', 'Paris', 'Rome'],\n",
    "    'Continent': ['North America', 'Asia', 'Asia', 'South America', 'Europe/Asia', \n",
    "                  'Asia', 'Europe', 'Europe', 'Europe', 'Europe'],\n",
    "    'Population_M': [331.0, 1441.0, 1380.0, 212.6, 145.9, 126.5, 83.2, 67.9, 65.3, 60.5],\n",
    "    'Area_sqkm': [9833517, 9596961, 3287263, 8515767, 17098246, 377975, 357114, 243610, 551695, 301340]\n",
    "}\n",
    "\n",
    "# Define country codes to use as index\n",
    "country_codes = ['US', 'CN', 'IN', 'BR', 'RU', 'JP', 'DE', 'GB', 'FR', 'IT']\n",
    "\n",
    "# Create the DataFrame first\n",
    "countries_df = pd.DataFrame(countries_data)\n",
    "\n",
    "# Set the country codes as the index\n",
    "countries_df.index = country_codes\n",
    "\n",
    "# Display the DataFrame\n",
    "print(countries_df)"
   ]
  },
  {
   "cell_type": "code",
   "execution_count": 109,
   "id": "d873ec59-fb43-41f3-9c19-fb91a4a32e90",
   "metadata": {
    "panel-layout": {
     "height": 0,
     "visible": true,
     "width": 100
    }
   },
   "outputs": [
    {
     "name": "stdout",
     "output_type": "stream",
     "text": [
      "          Country  Population_M\n",
      "US  United States         331.0\n"
     ]
    }
   ],
   "source": [
    "print(countries_df.loc[[\"US\"], ['Country', 'Population_M']])"
   ]
  },
  {
   "cell_type": "code",
   "execution_count": 111,
   "id": "348a7927-cb42-48d4-8905-7282f859c0c7",
   "metadata": {
    "panel-layout": {
     "height": 0,
     "visible": true,
     "width": 100
    }
   },
   "outputs": [
    {
     "name": "stdout",
     "output_type": "stream",
     "text": [
      "          Country  Population_M\n",
      "US  United States         331.0\n",
      "CN          China        1441.0\n"
     ]
    }
   ],
   "source": [
    "print(countries_df.loc[['US', 'CN'], ['Country', 'Population_M']])"
   ]
  },
  {
   "cell_type": "code",
   "execution_count": 113,
   "id": "eba1685b-2f7f-40c9-99dc-27dc1b918182",
   "metadata": {
    "panel-layout": {
     "height": 0,
     "visible": true,
     "width": 100
    }
   },
   "outputs": [
    {
     "name": "stdout",
     "output_type": "stream",
     "text": [
      "          Country  Population_M\n",
      "US  United States         331.0\n",
      "CN          China        1441.0\n",
      "IN          India        1380.0\n",
      "RU         Russia         145.9\n"
     ]
    }
   ],
   "source": [
    "print(countries_df.loc[['US', 'CN','IN', 'RU'], ['Country', 'Population_M']])"
   ]
  },
  {
   "cell_type": "code",
   "execution_count": 115,
   "id": "3d5c3906-4e9d-4fe2-8d49-f321f225dfa6",
   "metadata": {
    "panel-layout": {
     "height": 0,
     "visible": true,
     "width": 100
    }
   },
   "outputs": [
    {
     "name": "stdout",
     "output_type": "stream",
     "text": [
      "          Country          Capital  Population_M\n",
      "US  United States  Washington D.C.         331.0\n"
     ]
    }
   ],
   "source": [
    "print(countries_df.loc[[\"US\"], ['Country', 'Capital', 'Population_M']])"
   ]
  },
  {
   "cell_type": "code",
   "execution_count": 117,
   "id": "3ae98a81-606d-4224-93a0-ded3f2ad69e9",
   "metadata": {
    "panel-layout": {
     "height": 0,
     "visible": true,
     "width": 100
    }
   },
   "outputs": [
    {
     "name": "stdout",
     "output_type": "stream",
     "text": [
      "Country           United States\n",
      "Capital         Washington D.C.\n",
      "Population_M              331.0\n",
      "Name: US, dtype: object\n"
     ]
    }
   ],
   "source": [
    "print(countries_df.loc[\"US\", ['Country', 'Capital', 'Population_M']])"
   ]
  },
  {
   "cell_type": "code",
   "execution_count": 119,
   "id": "169b7d56-9ebf-43f4-8ae4-0df741beba6b",
   "metadata": {
    "panel-layout": {
     "height": 0,
     "visible": true,
     "width": 100
    }
   },
   "outputs": [
    {
     "name": "stdout",
     "output_type": "stream",
     "text": [
      "           Country          Capital  Population_M\n",
      "US   United States  Washington D.C.         331.0\n",
      "CN           China          Beijing        1441.0\n",
      "IN           India        New Delhi        1380.0\n",
      "BR          Brazil         Brasília         212.6\n",
      "RU          Russia           Moscow         145.9\n",
      "JP           Japan            Tokyo         126.5\n",
      "DE         Germany           Berlin          83.2\n",
      "GB  United Kingdom           London          67.9\n",
      "FR          France            Paris          65.3\n",
      "IT           Italy             Rome          60.5\n"
     ]
    }
   ],
   "source": [
    "print(countries_df.loc[:, ['Country', 'Capital', 'Population_M']])"
   ]
  },
  {
   "cell_type": "code",
   "execution_count": 121,
   "id": "029af8bd-4c95-4a78-a6b3-9ddc1b62a0eb",
   "metadata": {
    "panel-layout": {
     "height": 0,
     "visible": true,
     "width": 100
    }
   },
   "outputs": [
    {
     "name": "stdout",
     "output_type": "stream",
     "text": [
      "          Country          Capital      Continent  Population_M  Area_sqkm\n",
      "US  United States  Washington D.C.  North America         331.0    9833517\n",
      "CN          China          Beijing           Asia        1441.0    9596961\n"
     ]
    }
   ],
   "source": [
    "print(countries_df.loc[['US', 'CN'], :])"
   ]
  },
  {
   "cell_type": "code",
   "execution_count": 123,
   "id": "a38e549e-1674-4efd-8fe7-0269f525b7ae",
   "metadata": {
    "panel-layout": {
     "height": 0,
     "visible": true,
     "width": 100
    }
   },
   "outputs": [
    {
     "name": "stdout",
     "output_type": "stream",
     "text": [
      "331.0\n"
     ]
    }
   ],
   "source": [
    "print(countries_df.loc['US', 'Population_M'])"
   ]
  },
  {
   "cell_type": "code",
   "execution_count": 129,
   "id": "95224e90-16be-497c-926d-03f3d0dc94fb",
   "metadata": {
    "panel-layout": {
     "height": 0,
     "visible": true,
     "width": 100
    }
   },
   "outputs": [
    {
     "name": "stdout",
     "output_type": "stream",
     "text": [
      "126.5\n"
     ]
    }
   ],
   "source": [
    "print(countries_df.loc['JP', 'Population_M'])"
   ]
  },
  {
   "cell_type": "code",
   "execution_count": 131,
   "id": "b960f14b-a9eb-432c-9ea6-6b7a79e5cd78",
   "metadata": {},
   "outputs": [],
   "source": [
    "# for lab, row in countries_df.iterrows():\n",
    "# countries_df.loc[lab, 'COUNTRY'] = row['Country'].upper()"
   ]
  },
  {
   "cell_type": "code",
   "execution_count": 134,
   "id": "43faa22b-d347-4a1e-acbf-284b1dbf3fd0",
   "metadata": {
    "panel-layout": {
     "height": 0,
     "visible": true,
     "width": 100
    }
   },
   "outputs": [
    {
     "name": "stdout",
     "output_type": "stream",
     "text": [
      "           Country          Capital      Continent  Population_M  Area_sqkm\n",
      "US   United States  Washington D.C.  North America         331.0    9833517\n",
      "CN           China          Beijing           Asia        1441.0    9596961\n",
      "IN           India        New Delhi           Asia        1380.0    3287263\n",
      "BR          Brazil         Brasília  South America         212.6    8515767\n",
      "RU          Russia           Moscow    Europe/Asia         145.9   17098246\n",
      "JP           Japan            Tokyo           Asia         126.5     377975\n",
      "DE         Germany           Berlin         Europe          83.2     357114\n",
      "GB  United Kingdom           London         Europe          67.9     243610\n",
      "FR          France            Paris         Europe          65.3     551695\n",
      "IT           Italy             Rome         Europe          60.5     301340\n"
     ]
    }
   ],
   "source": [
    "print(countries_df)"
   ]
  },
  {
   "cell_type": "code",
   "execution_count": 136,
   "id": "0d521a48-be98-4263-ab17-16dc93d70d17",
   "metadata": {},
   "outputs": [],
   "source": [
    "countries_df['COUNTRY'] = countries_df['Country'].str.upper()"
   ]
  },
  {
   "cell_type": "code",
   "execution_count": 138,
   "id": "520b4059-a04c-4f66-87a3-4dc6b0da1e6b",
   "metadata": {
    "panel-layout": {
     "height": 0,
     "visible": true,
     "width": 100
    }
   },
   "outputs": [
    {
     "name": "stdout",
     "output_type": "stream",
     "text": [
      "           Country          Capital      Continent  Population_M  Area_sqkm  \\\n",
      "US   United States  Washington D.C.  North America         331.0    9833517   \n",
      "CN           China          Beijing           Asia        1441.0    9596961   \n",
      "IN           India        New Delhi           Asia        1380.0    3287263   \n",
      "BR          Brazil         Brasília  South America         212.6    8515767   \n",
      "RU          Russia           Moscow    Europe/Asia         145.9   17098246   \n",
      "JP           Japan            Tokyo           Asia         126.5     377975   \n",
      "DE         Germany           Berlin         Europe          83.2     357114   \n",
      "GB  United Kingdom           London         Europe          67.9     243610   \n",
      "FR          France            Paris         Europe          65.3     551695   \n",
      "IT           Italy             Rome         Europe          60.5     301340   \n",
      "\n",
      "           COUNTRY  \n",
      "US   UNITED STATES  \n",
      "CN           CHINA  \n",
      "IN           INDIA  \n",
      "BR          BRAZIL  \n",
      "RU          RUSSIA  \n",
      "JP           JAPAN  \n",
      "DE         GERMANY  \n",
      "GB  UNITED KINGDOM  \n",
      "FR          FRANCE  \n",
      "IT           ITALY  \n"
     ]
    }
   ],
   "source": [
    "print(countries_df)"
   ]
  },
  {
   "cell_type": "code",
   "execution_count": 2,
   "id": "a326ef01-3af4-402a-94c8-1d194e8d42bf",
   "metadata": {
    "panel-layout": {
     "height": 0,
     "visible": true,
     "width": 100
    }
   },
   "outputs": [
    {
     "name": "stdout",
     "output_type": "stream",
     "text": [
      "berlin\n"
     ]
    }
   ],
   "source": [
    "# Definition of countries and capital\n",
    "countries = ['spain', 'france', 'germany', 'norway']\n",
    "capitals = ['madrid', 'paris', 'berlin', 'oslo']\n",
    "\n",
    "# Get index of 'germany': ind_ger\n",
    "ind_ger = countries.index('germany')\n",
    "\n",
    "# Use ind_ger to print out capital of Germany\n",
    "print(capitals[ind_ger])"
   ]
  },
  {
   "cell_type": "code",
   "execution_count": 4,
   "id": "5c204fe2-a2ad-4ee7-9904-17af1b34f345",
   "metadata": {
    "panel-layout": {
     "height": 0,
     "visible": true,
     "width": 100
    }
   },
   "outputs": [
    {
     "name": "stdout",
     "output_type": "stream",
     "text": [
      "2\n"
     ]
    }
   ],
   "source": [
    "print(ind_ger)"
   ]
  },
  {
   "cell_type": "code",
   "execution_count": 6,
   "id": "52730a61-bc7e-4457-be1e-422489ba637d",
   "metadata": {
    "panel-layout": {
     "height": 0,
     "visible": true,
     "width": 100
    }
   },
   "outputs": [
    {
     "name": "stdout",
     "output_type": "stream",
     "text": [
      "berlin\n"
     ]
    }
   ],
   "source": [
    "print(capitals[2])"
   ]
  },
  {
   "cell_type": "markdown",
   "id": "59571881-bafc-46af-a25c-49248d7ae8f6",
   "metadata": {
    "panel-layout": {
     "height": 50.796875,
     "visible": true,
     "width": 100
    }
   },
   "source": [
    "## Slicing and Indexing DataFrame"
   ]
  },
  {
   "cell_type": "code",
   "execution_count": 25,
   "id": "c99047b3-bf71-4d3a-82a8-8613fd5e108c",
   "metadata": {
    "panel-layout": {
     "height": 0,
     "visible": true,
     "width": 100
    }
   },
   "outputs": [
    {
     "name": "stdout",
     "output_type": "stream",
     "text": [
      "Original temperatures DataFrame:\n",
      "    country              city        date  temperature_c\n",
      "0    Russia            Moscow  2021-01-01           -5.0\n",
      "1    Russia  Saint Petersburg  2021-01-01          -10.0\n",
      "2    Brazil    Rio De Janeiro  2021-01-01           25.0\n",
      "3  Pakistan            Lahore  2021-01-01           15.0\n",
      "4    Russia            Moscow  2021-01-02           -3.0\n",
      "5    Brazil    Rio De Janeiro  2021-01-02           26.0\n"
     ]
    }
   ],
   "source": [
    "import pandas as pd\n",
    "\n",
    "# Create a sample temperatures DataFrame\n",
    "data = {\n",
    "    \"country\": [\"Russia\", \"Russia\", \"Brazil\", \"Pakistan\", \"Russia\", \"Brazil\"],\n",
    "    \"city\": [\"Moscow\", \"Saint Petersburg\", \"Rio De Janeiro\", \"Lahore\", \"Moscow\", \"Rio De Janeiro\"],\n",
    "    \"date\": [\"2021-01-01\", \"2021-01-01\", \"2021-01-01\", \"2021-01-01\", \"2021-01-02\", \"2021-01-02\"],\n",
    "    \"temperature_c\": [-5.0, -10.0, 25.0, 15.0, -3.0, 26.0]\n",
    "}\n",
    "\n",
    "temperatures = pd.DataFrame(data)\n",
    "\n",
    "# Show the sample DataFrame\n",
    "print(\"Original temperatures DataFrame:\")\n",
    "print(temperatures)"
   ]
  },
  {
   "cell_type": "code",
   "execution_count": 27,
   "id": "2f72b897-57fa-4625-8937-1c0a82c6d217",
   "metadata": {
    "panel-layout": {
     "height": 0,
     "visible": true,
     "width": 100
    }
   },
   "outputs": [
    {
     "name": "stdout",
     "output_type": "stream",
     "text": [
      "\n",
      "Subset using square brackets (city in ['Moscow', 'Saint Petersburg']):\n",
      "  country              city        date  temperature_c\n",
      "0  Russia            Moscow  2021-01-01           -5.0\n",
      "1  Russia  Saint Petersburg  2021-01-01          -10.0\n",
      "4  Russia            Moscow  2021-01-02           -3.0\n"
     ]
    }
   ],
   "source": [
    "# Make a list of cities to subset on\n",
    "cities = [\"Moscow\", \"Saint Petersburg\"]\n",
    "\n",
    "# Subset using square brackets\n",
    "print(\"\\nSubset using square brackets (city in ['Moscow', 'Saint Petersburg']):\")\n",
    "print(temperatures[temperatures[\"city\"].isin(cities)])"
   ]
  },
  {
   "cell_type": "code",
   "execution_count": 29,
   "id": "96ecfd17-be63-4746-b2cb-cea34e0a3ffc",
   "metadata": {
    "panel-layout": {
     "height": 0,
     "visible": true,
     "width": 100
    }
   },
   "outputs": [
    {
     "name": "stdout",
     "output_type": "stream",
     "text": [
      "                                 date  temperature_c\n",
      "country  city                                       \n",
      "Russia   Moscow            2021-01-01           -5.0\n",
      "         Saint Petersburg  2021-01-01          -10.0\n",
      "Brazil   Rio De Janeiro    2021-01-01           25.0\n",
      "Pakistan Lahore            2021-01-01           15.0\n",
      "Russia   Moscow            2021-01-02           -3.0\n",
      "Brazil   Rio De Janeiro    2021-01-02           26.0\n"
     ]
    }
   ],
   "source": [
    "# Index by country and city\n",
    "temperatures_ind = temperatures.set_index([\"country\", \"city\"])\n",
    "print(temperatures_ind)"
   ]
  },
  {
   "cell_type": "code",
   "execution_count": 31,
   "id": "af7c6690-b60c-42f1-8036-948d8609de17",
   "metadata": {
    "panel-layout": {
     "height": 0,
     "visible": true,
     "width": 100
    }
   },
   "outputs": [
    {
     "name": "stdout",
     "output_type": "stream",
     "text": [
      "\n",
      "Subset using .loc[] with city names (only works if city is a single index level):\n",
      "                      date  temperature_c\n",
      "country city                             \n",
      "Russia  Moscow  2021-01-01           -5.0\n",
      "        Moscow  2021-01-02           -3.0\n"
     ]
    },
    {
     "name": "stderr",
     "output_type": "stream",
     "text": [
      "C:\\Users\\NAS\\AppData\\Local\\Temp\\ipykernel_10628\\4182256053.py:3: PerformanceWarning: indexing past lexsort depth may impact performance.\n",
      "  print(temperatures_ind.loc[(\"Russia\", \"Moscow\")])  # example for 1 row\n"
     ]
    }
   ],
   "source": [
    "# Subset using .loc[] with cities\n",
    "print(\"\\nSubset using .loc[] with city names (only works if city is a single index level):\")\n",
    "print(temperatures_ind.loc[(\"Russia\", \"Moscow\")])  # example for 1 row"
   ]
  },
  {
   "cell_type": "code",
   "execution_count": 33,
   "id": "02b36f3d-11f4-460f-b5f0-8e5b3ede0818",
   "metadata": {
    "panel-layout": {
     "height": 0,
     "visible": true,
     "width": 100
    }
   },
   "outputs": [
    {
     "name": "stdout",
     "output_type": "stream",
     "text": [
      "\n",
      "Subset using .loc[] with multiple (country, city) pairs:\n",
      "                               date  temperature_c\n",
      "country  city                                     \n",
      "Brazil   Rio De Janeiro  2021-01-01           25.0\n",
      "         Rio De Janeiro  2021-01-02           26.0\n",
      "Pakistan Lahore          2021-01-01           15.0\n"
     ]
    }
   ],
   "source": [
    "# List of country-city pairs\n",
    "rows_to_keep = [(\"Brazil\", \"Rio De Janeiro\"), (\"Pakistan\", \"Lahore\")]\n",
    "\n",
    "# Subset for specific country/city pairs\n",
    "print(\"\\nSubset using .loc[] with multiple (country, city) pairs:\")\n",
    "print(temperatures_ind.loc[rows_to_keep])"
   ]
  },
  {
   "cell_type": "code",
   "execution_count": 35,
   "id": "0808a132-03fd-4247-a2e0-065f64c04674",
   "metadata": {
    "panel-layout": {
     "height": 0,
     "visible": true,
     "width": 100
    }
   },
   "outputs": [
    {
     "name": "stdout",
     "output_type": "stream",
     "text": [
      "                               date  temperature_c\n",
      "country  city                                     \n",
      "Brazil   Rio De Janeiro  2021-01-01           25.0\n",
      "         Rio De Janeiro  2021-01-02           26.0\n",
      "Pakistan Lahore          2021-01-01           15.0\n"
     ]
    }
   ],
   "source": [
    "print(temperatures_ind.loc[[(\"Brazil\", \"Rio De Janeiro\"), (\"Pakistan\", \"Lahore\")]])"
   ]
  },
  {
   "cell_type": "code",
   "execution_count": 37,
   "id": "e8fb65da-6dbf-450d-8858-dd1163ef61ce",
   "metadata": {
    "panel-layout": {
     "height": 0,
     "visible": true,
     "width": 100
    }
   },
   "outputs": [
    {
     "name": "stdout",
     "output_type": "stream",
     "text": [
      "                                 date  temperature_c\n",
      "country  city                                       \n",
      "Pakistan Lahore            2021-01-01           15.0\n",
      "Russia   Moscow            2021-01-01           -5.0\n",
      "         Moscow            2021-01-02           -3.0\n",
      "         Saint Petersburg  2021-01-01          -10.0\n"
     ]
    }
   ],
   "source": [
    "# Sort the index of the DataFrame so we can do label-based slicing\n",
    "temperatures_srt = temperatures_ind.sort_index()\n",
    "\n",
    "# Subset all rows starting from the first country = 'Pakistan' to the last country = 'Russia'\n",
    "# This works because the index is sorted, and it uses only the first level of the MultiIndex (country)\n",
    "print(temperatures_srt.loc['Pakistan':'Russia'])"
   ]
  },
  {
   "cell_type": "code",
   "execution_count": 39,
   "id": "3b17cadc-a30d-4684-b4cd-c23329d0749e",
   "metadata": {
    "panel-layout": {
     "height": 0,
     "visible": true,
     "width": 100
    }
   },
   "outputs": [
    {
     "name": "stdout",
     "output_type": "stream",
     "text": [
      "Empty DataFrame\n",
      "Columns: [date, temperature_c]\n",
      "Index: []\n"
     ]
    }
   ],
   "source": [
    "# Try to subset rows from 'Lahore' to 'Moscow'\n",
    "# This will raise an error because the index is MultiIndex (country, city),\n",
    "# and 'Lahore' and 'Moscow' are not valid keys at the top (country) level\n",
    "print(temperatures_srt.loc['Lahore':'Moscow'])"
   ]
  },
  {
   "cell_type": "code",
   "execution_count": 45,
   "id": "6d1dcb20-dbad-425f-860a-bf13acfe1d6a",
   "metadata": {
    "panel-layout": {
     "height": 0,
     "visible": true,
     "width": 100
    }
   },
   "outputs": [
    {
     "name": "stdout",
     "output_type": "stream",
     "text": [
      "                       date  temperature_c\n",
      "country  city                             \n",
      "Pakistan Lahore  2021-01-01           15.0\n",
      "Russia   Moscow  2021-01-01           -5.0\n",
      "         Moscow  2021-01-02           -3.0\n"
     ]
    }
   ],
   "source": [
    "# Correct way: Subset rows from ('Pakistan', 'Lahore') to ('Russia', 'Moscow')\n",
    "# This accesses the MultiIndex properly using tuples\n",
    "print(temperatures_srt.loc[('Pakistan', 'Lahore'):('Russia', 'Moscow')])"
   ]
  },
  {
   "cell_type": "code",
   "execution_count": 47,
   "id": "efaaf6bf-baa7-4b14-a432-3fd4f519e8db",
   "metadata": {
    "panel-layout": {
     "height": 0,
     "visible": true,
     "width": 100
    }
   },
   "outputs": [
    {
     "name": "stdout",
     "output_type": "stream",
     "text": [
      "                       date  temperature_c\n",
      "country  city                             \n",
      "Pakistan Lahore  2021-01-01           15.0\n",
      "Russia   Moscow  2021-01-01           -5.0\n",
      "         Moscow  2021-01-02           -3.0\n"
     ]
    }
   ],
   "source": [
    "print(temperatures_srt.loc[[('Pakistan', 'Lahore'),('Russia', 'Moscow')]])"
   ]
  },
  {
   "cell_type": "code",
   "execution_count": null,
   "id": "891e99f0-770d-4fac-b8ed-e998ca7e7b8c",
   "metadata": {},
   "outputs": [],
   "source": []
  },
  {
   "cell_type": "code",
   "execution_count": 49,
   "id": "ee153995-a905-4a35-9046-d65f2638581f",
   "metadata": {
    "panel-layout": {
     "height": 0,
     "visible": true,
     "width": 100
    }
   },
   "outputs": [
    {
     "name": "stdout",
     "output_type": "stream",
     "text": [
      "FULL DataFrame:\n",
      "\n",
      "                           temperature_c\n",
      "country  city                           \n",
      "Brazil   Rio De Janeiro             25.0\n",
      "         São Paulo                  26.0\n",
      "Pakistan Lahore                     15.0\n",
      "         Multan                     16.5\n",
      "Russia   Moscow                     -5.0\n",
      "         Saint Petersburg           -3.0\n"
     ]
    }
   ],
   "source": [
    "import pandas as pd\n",
    "\n",
    "# Step 1: Create the initial DataFrame with country and city as columns\n",
    "data = {\n",
    "    \"country\": [\"Pakistan\", \"Pakistan\", \"Brazil\", \"Brazil\", \"Russia\", \"Russia\"],\n",
    "    \"city\": [\"Lahore\", \"Multan\", \"Rio De Janeiro\", \"São Paulo\", \"Moscow\", \"Saint Petersburg\"],\n",
    "    \"temperature_c\": [15.0, 16.5, 25.0, 26.0, -5.0, -3.0]\n",
    "}\n",
    "\n",
    "temperatures = pd.DataFrame(data)\n",
    "\n",
    "# Step 2: Set the index to [\"country\", \"city\"]\n",
    "temperatures_ind = temperatures.set_index([\"country\", \"city\"])\n",
    "\n",
    "# Step 3: Sort the index to enable slicing\n",
    "temperatures_srt = temperatures_ind.sort_index()\n",
    "\n",
    "# Step 4: Print the full DataFrame\n",
    "print(\"FULL DataFrame:\\n\")\n",
    "print(temperatures_srt)"
   ]
  },
  {
   "cell_type": "code",
   "execution_count": 51,
   "id": "0f4e6b4b-197c-41ef-b2c0-e86dbaad9f38",
   "metadata": {
    "panel-layout": {
     "height": 0,
     "visible": true,
     "width": 100
    }
   },
   "outputs": [
    {
     "name": "stdout",
     "output_type": "stream",
     "text": [
      "\n",
      "--- Range slice from ('Pakistan', 'Lahore') to ('Russia', 'Moscow') ---\n",
      "                 temperature_c\n",
      "country  city                 \n",
      "Pakistan Lahore           15.0\n",
      "         Multan           16.5\n",
      "Russia   Moscow           -5.0\n"
     ]
    }
   ],
   "source": [
    "# Step 5: Range slicing from ('Pakistan', 'Lahore') to ('Russia', 'Moscow')\n",
    "print(\"\\n--- Range slice from ('Pakistan', 'Lahore') to ('Russia', 'Moscow') ---\")\n",
    "print(temperatures_srt.loc[('Pakistan', 'Lahore'):('Russia', 'Moscow')])"
   ]
  },
  {
   "cell_type": "code",
   "execution_count": 53,
   "id": "7fe2f815-e8ed-4c5d-b803-d850dae5326e",
   "metadata": {
    "panel-layout": {
     "height": 0,
     "visible": true,
     "width": 100
    }
   },
   "outputs": [
    {
     "name": "stdout",
     "output_type": "stream",
     "text": [
      "\n",
      "--- Exact match for just ('Pakistan', 'Lahore') and ('Russia', 'Moscow') ---\n",
      "                 temperature_c\n",
      "country  city                 \n",
      "Pakistan Lahore           15.0\n",
      "Russia   Moscow           -5.0\n"
     ]
    }
   ],
   "source": [
    "# Step 6: Selecting exact rows using a list of tuples\n",
    "print(\"\\n--- Exact match for just ('Pakistan', 'Lahore') and ('Russia', 'Moscow') ---\")\n",
    "print(temperatures_srt.loc[[('Pakistan', 'Lahore'), ('Russia', 'Moscow')]])"
   ]
  },
  {
   "cell_type": "code",
   "execution_count": 55,
   "id": "8046d48d-c4bd-4740-a10e-c5c382c79665",
   "metadata": {
    "panel-layout": {
     "height": 0,
     "visible": true,
     "width": 100
    }
   },
   "outputs": [
    {
     "name": "stdout",
     "output_type": "stream",
     "text": [
      "  country              city        date  avg_temp_c\n",
      "0   India         Hyderabad  2021-01-01          28\n",
      "1   India             Delhi  2021-01-02          30\n",
      "2    Iraq           Baghdad  2021-01-01          15\n",
      "3    Iraq             Basra  2021-01-02          18\n",
      "4  Russia            Moscow  2021-01-01          -5\n",
      "5  Russia  Saint Petersburg  2021-01-02          -3\n"
     ]
    }
   ],
   "source": [
    "import pandas as pd\n",
    "\n",
    "# Create a sample DataFrame with country, city, date, and avg_temp_c\n",
    "data = {\n",
    "    \"country\": [\"India\", \"India\", \"Iraq\", \"Iraq\", \"Russia\", \"Russia\"],\n",
    "    \"city\": [\"Hyderabad\", \"Delhi\", \"Baghdad\", \"Basra\", \"Moscow\", \"Saint Petersburg\"],\n",
    "    \"date\": [\"2021-01-01\", \"2021-01-02\", \"2021-01-01\", \"2021-01-02\", \"2021-01-01\", \"2021-01-02\"],\n",
    "    \"avg_temp_c\": [28, 30, 15, 18, -5, -3]\n",
    "}\n",
    "\n",
    "# Create the DataFrame and set the index to [\"country\", \"city\"]\n",
    "temperatures = pd.DataFrame(data)\n",
    "print(temperatures)"
   ]
  },
  {
   "cell_type": "code",
   "execution_count": 57,
   "id": "d9ab1a26-0022-4eed-8363-10d6ecd77d4f",
   "metadata": {
    "panel-layout": {
     "height": 0,
     "visible": true,
     "width": 100
    }
   },
   "outputs": [
    {
     "name": "stdout",
     "output_type": "stream",
     "text": [
      "Full DataFrame (temperatures_srt):\n",
      "                                date  avg_temp_c\n",
      "country city                                    \n",
      "India   Delhi             2021-01-02          30\n",
      "        Hyderabad         2021-01-01          28\n",
      "Iraq    Baghdad           2021-01-01          15\n",
      "        Basra             2021-01-02          18\n",
      "Russia  Moscow            2021-01-01          -5\n",
      "        Saint Petersburg  2021-01-02          -3\n"
     ]
    }
   ],
   "source": [
    "temperatures_srt = temperatures.set_index([\"country\", \"city\"]).sort_index()\n",
    "\n",
    "# Show the full DataFrame and apply the subsetting operations\n",
    "print(\"Full DataFrame (temperatures_srt):\")\n",
    "print(temperatures_srt)"
   ]
  },
  {
   "cell_type": "code",
   "execution_count": 59,
   "id": "f52018e5-ce4d-4e0f-9673-4b9075f2bd33",
   "metadata": {
    "panel-layout": {
     "height": 0,
     "visible": true,
     "width": 100
    }
   },
   "outputs": [
    {
     "name": "stdout",
     "output_type": "stream",
     "text": [
      "\n",
      "--- Subset from ('India', 'Hyderabad') to ('Iraq', 'Baghdad') ---\n",
      "                         date  avg_temp_c\n",
      "country city                             \n",
      "India   Hyderabad  2021-01-01          28\n",
      "Iraq    Baghdad    2021-01-01          15\n"
     ]
    }
   ],
   "source": [
    "# Subset from (\"India\", \"Hyderabad\") to (\"Iraq\", \"Baghdad\")\n",
    "print(\"\\n--- Subset from ('India', 'Hyderabad') to ('Iraq', 'Baghdad') ---\")\n",
    "print(temperatures_srt.loc[(\"India\", \"Hyderabad\"):(\"Iraq\", \"Baghdad\")])"
   ]
  },
  {
   "cell_type": "code",
   "execution_count": 61,
   "id": "99484173-c50e-4ea8-8fb1-11620dd271f2",
   "metadata": {
    "panel-layout": {
     "height": 0,
     "visible": true,
     "width": 100
    }
   },
   "outputs": [
    {
     "name": "stdout",
     "output_type": "stream",
     "text": [
      "\n",
      "--- Subset from ('India', 'Delhi') to ('Iraq', 'Baghdad') ---\n",
      "                         date  avg_temp_c\n",
      "country city                             \n",
      "India   Delhi      2021-01-02          30\n",
      "        Hyderabad  2021-01-01          28\n",
      "Iraq    Baghdad    2021-01-01          15\n"
     ]
    }
   ],
   "source": [
    "# Subset from (\"India\", \"Hyderabad\") to (\"Iraq\", \"Baghdad\")\n",
    "print(\"\\n--- Subset from ('India', 'Delhi') to ('Iraq', 'Baghdad') ---\")\n",
    "print(temperatures_srt.loc[(\"India\", \"Delhi\"):(\"Iraq\", \"Baghdad\")])"
   ]
  },
  {
   "cell_type": "code",
   "execution_count": 63,
   "id": "24e5f0ae-3359-415b-8244-4fbddedac606",
   "metadata": {
    "panel-layout": {
     "height": 0,
     "visible": true,
     "width": 100
    }
   },
   "outputs": [
    {
     "name": "stdout",
     "output_type": "stream",
     "text": [
      "\n",
      "--- Subset columns from 'date' to 'avg_temp_c' ---\n",
      "                                date  avg_temp_c\n",
      "country city                                    \n",
      "India   Delhi             2021-01-02          30\n",
      "        Hyderabad         2021-01-01          28\n",
      "Iraq    Baghdad           2021-01-01          15\n",
      "        Basra             2021-01-02          18\n",
      "Russia  Moscow            2021-01-01          -5\n",
      "        Saint Petersburg  2021-01-02          -3\n"
     ]
    }
   ],
   "source": [
    "# Subset columns from \"date\" to \"avg_temp_c\" for all rows\n",
    "print(\"\\n--- Subset columns from 'date' to 'avg_temp_c' ---\")\n",
    "print(temperatures_srt.loc[:, \"date\":\"avg_temp_c\"])"
   ]
  },
  {
   "cell_type": "code",
   "execution_count": 65,
   "id": "ca5eb9cf-3fd3-4039-9b76-fd9babc00fe5",
   "metadata": {
    "panel-layout": {
     "height": 0,
     "visible": true,
     "width": 100
    }
   },
   "outputs": [
    {
     "name": "stdout",
     "output_type": "stream",
     "text": [
      "\n",
      "--- Subset both rows and columns ---\n",
      "                         date  avg_temp_c\n",
      "country city                             \n",
      "India   Hyderabad  2021-01-01          28\n",
      "Iraq    Baghdad    2021-01-01          15\n"
     ]
    }
   ],
   "source": [
    "# Subset both rows (range) and columns (\"date\" to \"avg_temp_c\")\n",
    "print(\"\\n--- Subset both rows and columns ---\")\n",
    "print(temperatures_srt.loc[(\"India\", \"Hyderabad\"):(\"Iraq\", \"Baghdad\"), \"date\":\"avg_temp_c\"])"
   ]
  },
  {
   "cell_type": "code",
   "execution_count": 67,
   "id": "1087fc25-9a44-402d-afdc-935e14758b4f",
   "metadata": {
    "panel-layout": {
     "height": 0,
     "visible": true,
     "width": 100
    }
   },
   "outputs": [
    {
     "name": "stdout",
     "output_type": "stream",
     "text": [
      "  country              city       date  avg_temp_c\n",
      "0   India         Hyderabad 2009-12-25          28\n",
      "1   India             Delhi 2010-01-02          30\n",
      "2    Iraq           Baghdad 2010-06-15          15\n",
      "3    Iraq             Basra 2011-03-10          18\n",
      "4  Russia            Moscow 2011-12-05          -5\n",
      "5  Russia  Saint Petersburg 2012-01-01          -3\n"
     ]
    }
   ],
   "source": [
    "import pandas as pd\n",
    "\n",
    "# Create the sample DataFrame with dates and temperatures\n",
    "data = {\n",
    "    \"country\": [\"India\", \"India\", \"Iraq\", \"Iraq\", \"Russia\", \"Russia\"],\n",
    "    \"city\": [\"Hyderabad\", \"Delhi\", \"Baghdad\", \"Basra\", \"Moscow\", \"Saint Petersburg\"],\n",
    "    \"date\": [\"2009-12-25\", \"2010-01-02\", \"2010-06-15\", \"2011-03-10\", \"2011-12-05\", \"2012-01-01\"],\n",
    "    \"avg_temp_c\": [28, 30, 15, 18, -5, -3]\n",
    "}\n",
    "\n",
    "# Create the DataFrame\n",
    "temperatures = pd.DataFrame(data)\n",
    "\n",
    "# Convert the 'date' column to datetime format\n",
    "temperatures['date'] = pd.to_datetime(temperatures['date'])\n",
    "print(temperatures)"
   ]
  },
  {
   "cell_type": "code",
   "execution_count": 69,
   "id": "d267e00a-c8e0-4a0b-bce9-d32ec07cb240",
   "metadata": {
    "panel-layout": {
     "height": 0,
     "visible": true,
     "width": 100
    }
   },
   "outputs": [
    {
     "name": "stdout",
     "output_type": "stream",
     "text": [
      "Subset for 2010 and 2011 (using Boolean conditions):\n",
      "  country     city       date  avg_temp_c\n",
      "1   India    Delhi 2010-01-02          30\n",
      "2    Iraq  Baghdad 2010-06-15          15\n",
      "3    Iraq    Basra 2011-03-10          18\n",
      "4  Russia   Moscow 2011-12-05          -5\n"
     ]
    }
   ],
   "source": [
    "# Use Boolean conditions to subset temperatures for rows in 2010 and 2011\n",
    "temperatures_bool = temperatures[(temperatures['date'] >= \"2010-01-01\") & (temperatures['date'] <= \"2011-12-31\")]\n",
    "print(\"Subset for 2010 and 2011 (using Boolean conditions):\")\n",
    "print(temperatures_bool)"
   ]
  },
  {
   "cell_type": "code",
   "execution_count": 71,
   "id": "0d9c46fd-84de-42dc-bf1f-800229b71dc1",
   "metadata": {
    "panel-layout": {
     "height": 0,
     "visible": true,
     "width": 100
    }
   },
   "outputs": [
    {
     "name": "stdout",
     "output_type": "stream",
     "text": [
      "           country              city  avg_temp_c\n",
      "date                                            \n",
      "2009-12-25   India         Hyderabad          28\n",
      "2010-01-02   India             Delhi          30\n",
      "2010-06-15    Iraq           Baghdad          15\n",
      "2011-03-10    Iraq             Basra          18\n",
      "2011-12-05  Russia            Moscow          -5\n",
      "2012-01-01  Russia  Saint Petersburg          -3\n"
     ]
    }
   ],
   "source": [
    "# Set date as the index and sort the index\n",
    "temperatures_ind = temperatures.set_index('date').sort_index()\n",
    "print(temperatures_ind)"
   ]
  },
  {
   "cell_type": "code",
   "execution_count": 73,
   "id": "8c18410d-5d38-440c-9224-5b6bebd6525a",
   "metadata": {
    "panel-layout": {
     "height": 0,
     "visible": true,
     "width": 100
    }
   },
   "outputs": [
    {
     "name": "stdout",
     "output_type": "stream",
     "text": [
      "\n",
      "Subset for 2010 and 2011 (using .loc[] after setting date as index):\n",
      "           country     city  avg_temp_c\n",
      "date                                   \n",
      "2010-01-02   India    Delhi          30\n",
      "2010-06-15    Iraq  Baghdad          15\n",
      "2011-03-10    Iraq    Basra          18\n",
      "2011-12-05  Russia   Moscow          -5\n"
     ]
    }
   ],
   "source": [
    "# Use .loc[] to subset temperatures_ind for rows in 2010 and 2011\n",
    "print(\"\\nSubset for 2010 and 2011 (using .loc[] after setting date as index):\")\n",
    "print(temperatures_ind.loc[\"2010\":\"2011\"])"
   ]
  },
  {
   "cell_type": "code",
   "execution_count": 75,
   "id": "47409515-9049-4399-8420-3aa155d7fd81",
   "metadata": {
    "panel-layout": {
     "height": 0,
     "visible": true,
     "width": 100
    }
   },
   "outputs": [
    {
     "name": "stdout",
     "output_type": "stream",
     "text": [
      "\n",
      "Subset from Aug 2010 to Feb 2011 (using .loc[]):\n",
      "Empty DataFrame\n",
      "Columns: [country, city, avg_temp_c]\n",
      "Index: []\n"
     ]
    }
   ],
   "source": [
    "# Use .loc[] to subset temperatures_ind for rows from Aug 2010 to Feb 2011\n",
    "print(\"\\nSubset from Aug 2010 to Feb 2011 (using .loc[]):\")\n",
    "print(temperatures_ind.loc[\"2010-08\":\"2011-02\"])"
   ]
  },
  {
   "cell_type": "code",
   "execution_count": 81,
   "id": "7c7ff149-c0d7-44d5-a56f-30ce249d67f6",
   "metadata": {
    "panel-layout": {
     "height": 0,
     "visible": true,
     "width": 100
    }
   },
   "outputs": [
    {
     "name": "stdout",
     "output_type": "stream",
     "text": [
      "     country              city       date  avg_temp_c\n",
      "0      India         Hyderabad 2009-12-25          28\n",
      "1      India             Delhi 2010-01-02          30\n",
      "2       Iraq           Baghdad 2010-06-15          15\n",
      "3       Iraq             Basra 2011-03-10          18\n",
      "4     Russia            Moscow 2011-12-05          -5\n",
      "5     Russia  Saint Petersburg 2012-01-01          -3\n",
      "6     Brazil    Rio De Janeiro 2010-03-05          25\n",
      "7     Brazil         Sao Paulo 2010-08-15          26\n",
      "8   Pakistan            Lahore 2011-05-22          28\n",
      "9   Pakistan           Karachi 2012-03-01          27\n",
      "10     China           Beijing 2009-11-17          32\n",
      "11     China          Shanghai 2010-07-12          33\n",
      "12       USA          New York 2011-12-14          15\n",
      "13       USA       Los Angeles 2012-01-20          17\n",
      "14    Mexico       Mexico City 2010-02-09          23\n",
      "15    Mexico       Guadalajara 2011-04-30          25\n",
      "16    Canada           Toronto 2009-10-12          20\n",
      "17    Canada         Vancouver 2010-06-17          22\n",
      "18    France             Paris 2011-07-01          14\n",
      "19    France         Marseille 2012-02-13          16\n",
      "20   Germany            Berlin 2009-08-22          10\n",
      "21   Germany            Munich 2010-11-18          12\n",
      "22     Italy              Rome 2011-10-10          18\n",
      "23     Italy             Milan 2012-03-12          20\n",
      "24        UK            London 2010-09-05          32\n",
      "25        UK        Manchester 2011-02-28          25\n"
     ]
    }
   ],
   "source": [
    "import pandas as pd\n",
    "\n",
    "# Create a DataFrame with 24 rows\n",
    "data = {\n",
    "    \"country\": [\"India\", \"India\", \"Iraq\", \"Iraq\", \"Russia\", \"Russia\", \"Brazil\", \"Brazil\", \"Pakistan\", \"Pakistan\", \n",
    "                \"China\", \"China\", \"USA\", \"USA\", \"Mexico\", \"Mexico\", \"Canada\", \"Canada\", \"France\", \"France\", \n",
    "                \"Germany\", \"Germany\", \"Italy\", \"Italy\", \"UK\", \"UK\"],\n",
    "    \"city\": [\"Hyderabad\", \"Delhi\", \"Baghdad\", \"Basra\", \"Moscow\", \"Saint Petersburg\", \"Rio De Janeiro\", \"Sao Paulo\",\n",
    "             \"Lahore\", \"Karachi\", \"Beijing\", \"Shanghai\", \"New York\", \"Los Angeles\", \"Mexico City\", \"Guadalajara\",\n",
    "             \"Toronto\", \"Vancouver\", \"Paris\", \"Marseille\", \"Berlin\", \"Munich\", \"Rome\", \"Milan\", \"London\", \"Manchester\"],\n",
    "    \"date\": [\"2009-12-25\", \"2010-01-02\", \"2010-06-15\", \"2011-03-10\", \"2011-12-05\", \"2012-01-01\", \"2010-03-05\", \"2010-08-15\",\n",
    "             \"2011-05-22\", \"2012-03-01\", \"2009-11-17\", \"2010-07-12\", \"2011-12-14\", \"2012-01-20\", \"2010-02-09\", \"2011-04-30\",\n",
    "             \"2009-10-12\", \"2010-06-17\", \"2011-07-01\", \"2012-02-13\", \"2009-08-22\", \"2010-11-18\", \"2011-10-10\", \"2012-03-12\", \"2010-09-05\", \"2011-02-28\"],\n",
    "    \"avg_temp_c\": [28, 30, 15, 18, -5, -3, 25, 26, 28, 27, 32, 33, 15, 17, 23, 25, 20, 22, 14, 16, 10, 12, 18, 20, 32, 25]\n",
    "}\n",
    "\n",
    "# Create the DataFrame\n",
    "temperatures = pd.DataFrame(data)\n",
    "\n",
    "# Convert the 'date' column to datetime format\n",
    "temperatures['date'] = pd.to_datetime(temperatures['date'])\n",
    "print(temperatures)"
   ]
  },
  {
   "cell_type": "code",
   "execution_count": 87,
   "id": "1916d484-aa3e-4cc6-8b79-58b5cbcc0efd",
   "metadata": {
    "panel-layout": {
     "height": 0,
     "visible": true,
     "width": 100
    }
   },
   "outputs": [
    {
     "name": "stdout",
     "output_type": "stream",
     "text": [
      "Rome\n"
     ]
    }
   ],
   "source": [
    "# Print the element at row 22, column 1\n",
    "print(temperatures.iloc[22, 1])"
   ]
  },
  {
   "cell_type": "code",
   "execution_count": 89,
   "id": "f6c950ac-006e-427a-8e64-1e8228b748a8",
   "metadata": {
    "panel-layout": {
     "height": 0,
     "visible": true,
     "width": 100
    }
   },
   "outputs": [
    {
     "name": "stdout",
     "output_type": "stream",
     "text": [
      "\n",
      "First 5 rows:\n",
      "  country       city       date  avg_temp_c\n",
      "0   India  Hyderabad 2009-12-25          28\n",
      "1   India      Delhi 2010-01-02          30\n",
      "2    Iraq    Baghdad 2010-06-15          15\n",
      "3    Iraq      Basra 2011-03-10          18\n",
      "4  Russia     Moscow 2011-12-05          -5\n"
     ]
    }
   ],
   "source": [
    "# Use slicing to get the first 5 rows\n",
    "print(\"\\nFirst 5 rows:\")\n",
    "print(temperatures.iloc[0:5])"
   ]
  },
  {
   "cell_type": "code",
   "execution_count": 91,
   "id": "bb76faad-4431-489d-9294-092361ee6378",
   "metadata": {
    "panel-layout": {
     "height": 0,
     "visible": true,
     "width": 100
    }
   },
   "outputs": [
    {
     "name": "stdout",
     "output_type": "stream",
     "text": [
      "\n",
      "Columns 3 to 4:\n",
      "         date  avg_temp_c\n",
      "0  2009-12-25          28\n",
      "1  2010-01-02          30\n",
      "2  2010-06-15          15\n",
      "3  2011-03-10          18\n",
      "4  2011-12-05          -5\n",
      "5  2012-01-01          -3\n",
      "6  2010-03-05          25\n",
      "7  2010-08-15          26\n",
      "8  2011-05-22          28\n",
      "9  2012-03-01          27\n",
      "10 2009-11-17          32\n",
      "11 2010-07-12          33\n",
      "12 2011-12-14          15\n",
      "13 2012-01-20          17\n",
      "14 2010-02-09          23\n",
      "15 2011-04-30          25\n",
      "16 2009-10-12          20\n",
      "17 2010-06-17          22\n",
      "18 2011-07-01          14\n",
      "19 2012-02-13          16\n",
      "20 2009-08-22          10\n",
      "21 2010-11-18          12\n",
      "22 2011-10-10          18\n",
      "23 2012-03-12          20\n",
      "24 2010-09-05          32\n",
      "25 2011-02-28          25\n"
     ]
    }
   ],
   "source": [
    "# Use slicing to get columns 3 to 4\n",
    "print(\"\\nColumns 3 to 4:\")\n",
    "print(temperatures.iloc[:, 2:4])"
   ]
  },
  {
   "cell_type": "code",
   "execution_count": 93,
   "id": "a543e28b-1ad1-4817-a164-63ce4d9a314c",
   "metadata": {
    "panel-layout": {
     "height": 0,
     "visible": true,
     "width": 100
    }
   },
   "outputs": [
    {
     "name": "stdout",
     "output_type": "stream",
     "text": [
      "\n",
      "First 5 rows and columns 3 to 4:\n",
      "        date  avg_temp_c\n",
      "0 2009-12-25          28\n",
      "1 2010-01-02          30\n",
      "2 2010-06-15          15\n",
      "3 2011-03-10          18\n",
      "4 2011-12-05          -5\n"
     ]
    }
   ],
   "source": [
    "# Use slicing in both directions at once (first 5 rows and columns 3 to 4)\n",
    "print(\"\\nFirst 5 rows and columns 3 to 4:\")\n",
    "print(temperatures.iloc[0:5, 2:4])"
   ]
  },
  {
   "cell_type": "markdown",
   "id": "dfe5950a-769f-4a6d-8502-e7a5f5e302b8",
   "metadata": {
    "panel-layout": {
     "height": 44.09375,
     "visible": true,
     "width": 100
    }
   },
   "source": [
    "### Pivot table by country and city"
   ]
  },
  {
   "cell_type": "code",
   "execution_count": 96,
   "id": "0b61ad5f-c6dd-4020-bdc7-a8f239f627b8",
   "metadata": {
    "panel-layout": {
     "height": 0,
     "visible": true,
     "width": 100
    }
   },
   "outputs": [
    {
     "name": "stdout",
     "output_type": "stream",
     "text": [
      "     country              city       date  avg_temp_c  year\n",
      "0      India         Hyderabad 2009-12-25          28  2009\n",
      "1      India             Delhi 2010-01-02          30  2010\n",
      "2       Iraq           Baghdad 2010-06-15          15  2010\n",
      "3       Iraq             Basra 2011-03-10          18  2011\n",
      "4     Russia            Moscow 2011-12-05          -5  2011\n",
      "5     Russia  Saint Petersburg 2012-01-01          -3  2012\n",
      "6     Brazil    Rio De Janeiro 2010-03-05          25  2010\n",
      "7     Brazil         Sao Paulo 2010-08-15          26  2010\n",
      "8   Pakistan            Lahore 2011-05-22          28  2011\n",
      "9   Pakistan           Karachi 2012-03-01          27  2012\n",
      "10     China           Beijing 2009-11-17          32  2009\n",
      "11     China          Shanghai 2010-07-12          33  2010\n",
      "12       USA          New York 2011-12-14          15  2011\n",
      "13       USA       Los Angeles 2012-01-20          17  2012\n",
      "14    Mexico       Mexico City 2010-02-09          23  2010\n",
      "15    Mexico       Guadalajara 2011-04-30          25  2011\n",
      "16    Canada           Toronto 2009-10-12          20  2009\n",
      "17    Canada         Vancouver 2010-06-17          22  2010\n",
      "18    France             Paris 2011-07-01          14  2011\n",
      "19    France         Marseille 2012-02-13          16  2012\n",
      "20   Germany            Berlin 2009-08-22          10  2009\n",
      "21   Germany            Munich 2010-11-18          12  2010\n",
      "22     Italy              Rome 2011-10-10          18  2011\n",
      "23     Italy             Milan 2012-03-12          20  2012\n"
     ]
    }
   ],
   "source": [
    "import pandas as pd\n",
    "\n",
    "# Sample DataFrame with 24 rows\n",
    "data = {\n",
    "    \"country\": [\"India\", \"India\", \"Iraq\", \"Iraq\", \"Russia\", \"Russia\", \"Brazil\", \"Brazil\", \"Pakistan\", \"Pakistan\", \n",
    "                \"China\", \"China\", \"USA\", \"USA\", \"Mexico\", \"Mexico\", \"Canada\", \"Canada\", \"France\", \"France\", \n",
    "                \"Germany\", \"Germany\", \"Italy\", \"Italy\"],\n",
    "    \"city\": [\"Hyderabad\", \"Delhi\", \"Baghdad\", \"Basra\", \"Moscow\", \"Saint Petersburg\", \"Rio De Janeiro\", \"Sao Paulo\",\n",
    "             \"Lahore\", \"Karachi\", \"Beijing\", \"Shanghai\", \"New York\", \"Los Angeles\", \"Mexico City\", \"Guadalajara\",\n",
    "             \"Toronto\", \"Vancouver\", \"Paris\", \"Marseille\", \"Berlin\", \"Munich\", \"Rome\", \"Milan\"],\n",
    "    \"date\": [\"2009-12-25\", \"2010-01-02\", \"2010-06-15\", \"2011-03-10\", \"2011-12-05\", \"2012-01-01\", \"2010-03-05\", \"2010-08-15\",\n",
    "             \"2011-05-22\", \"2012-03-01\", \"2009-11-17\", \"2010-07-12\", \"2011-12-14\", \"2012-01-20\", \"2010-02-09\", \"2011-04-30\",\n",
    "             \"2009-10-12\", \"2010-06-17\", \"2011-07-01\", \"2012-02-13\", \"2009-08-22\", \"2010-11-18\", \"2011-10-10\", \"2012-03-12\"],\n",
    "    \"avg_temp_c\": [28, 30, 15, 18, -5, -3, 25, 26, 28, 27, 32, 33, 15, 17, 23, 25, 20, 22, 14, 16, 10, 12, 18, 20]\n",
    "}\n",
    "\n",
    "# Create the DataFrame\n",
    "temperatures = pd.DataFrame(data)\n",
    "\n",
    "# Convert 'date' column to datetime\n",
    "temperatures['date'] = pd.to_datetime(temperatures['date'])\n",
    "\n",
    "# Add a 'year' column\n",
    "temperatures['year'] = temperatures['date'].dt.year\n",
    "print(temperatures)"
   ]
  },
  {
   "cell_type": "code",
   "execution_count": 98,
   "id": "7b21ec30-d3b6-4e7f-8ce0-be7f1da1c887",
   "metadata": {
    "panel-layout": {
     "height": 0,
     "visible": true,
     "width": 100
    }
   },
   "outputs": [
    {
     "name": "stdout",
     "output_type": "stream",
     "text": [
      "year                       2009  2010  2011  2012\n",
      "country  city                                    \n",
      "Brazil   Rio De Janeiro     NaN  25.0   NaN   NaN\n",
      "         Sao Paulo          NaN  26.0   NaN   NaN\n",
      "Canada   Toronto           20.0   NaN   NaN   NaN\n",
      "         Vancouver          NaN  22.0   NaN   NaN\n",
      "China    Beijing           32.0   NaN   NaN   NaN\n",
      "         Shanghai           NaN  33.0   NaN   NaN\n",
      "France   Marseille          NaN   NaN   NaN  16.0\n",
      "         Paris              NaN   NaN  14.0   NaN\n",
      "Germany  Berlin            10.0   NaN   NaN   NaN\n",
      "         Munich             NaN  12.0   NaN   NaN\n",
      "India    Delhi              NaN  30.0   NaN   NaN\n",
      "         Hyderabad         28.0   NaN   NaN   NaN\n",
      "Iraq     Baghdad            NaN  15.0   NaN   NaN\n",
      "         Basra              NaN   NaN  18.0   NaN\n",
      "Italy    Milan              NaN   NaN   NaN  20.0\n",
      "         Rome               NaN   NaN  18.0   NaN\n",
      "Mexico   Guadalajara        NaN   NaN  25.0   NaN\n",
      "         Mexico City        NaN  23.0   NaN   NaN\n",
      "Pakistan Karachi            NaN   NaN   NaN  27.0\n",
      "         Lahore             NaN   NaN  28.0   NaN\n",
      "Russia   Moscow             NaN   NaN  -5.0   NaN\n",
      "         Saint Petersburg   NaN   NaN   NaN  -3.0\n",
      "USA      Los Angeles        NaN   NaN   NaN  17.0\n",
      "         New York           NaN   NaN  15.0   NaN\n"
     ]
    }
   ],
   "source": [
    "# Pivot avg_temp_c by country and city vs year\n",
    "temp_by_country_city_vs_year = temperatures.pivot_table(\n",
    "    values='avg_temp_c',\n",
    "    index=['country', 'city'],\n",
    "    columns='year'\n",
    ")\n",
    "\n",
    "# Print the pivoted table\n",
    "print(temp_by_country_city_vs_year)"
   ]
  },
  {
   "cell_type": "code",
   "execution_count": 100,
   "id": "988e6653-8ac3-400d-ac85-1e06057c8476",
   "metadata": {
    "editable": true,
    "panel-layout": {
     "height": 200,
     "visible": true,
     "width": 100
    },
    "slideshow": {
     "slide_type": ""
    },
    "tags": []
   },
   "outputs": [
    {
     "data": {
      "text/html": [
       "<div>\n",
       "<style scoped>\n",
       "    .dataframe tbody tr th:only-of-type {\n",
       "        vertical-align: middle;\n",
       "    }\n",
       "\n",
       "    .dataframe tbody tr th {\n",
       "        vertical-align: top;\n",
       "    }\n",
       "\n",
       "    .dataframe thead th {\n",
       "        text-align: right;\n",
       "    }\n",
       "</style>\n",
       "<table border=\"1\" class=\"dataframe\">\n",
       "  <thead>\n",
       "    <tr style=\"text-align: right;\">\n",
       "      <th></th>\n",
       "      <th>year</th>\n",
       "      <th>2009</th>\n",
       "      <th>2010</th>\n",
       "    </tr>\n",
       "    <tr>\n",
       "      <th>country</th>\n",
       "      <th>city</th>\n",
       "      <th></th>\n",
       "      <th></th>\n",
       "    </tr>\n",
       "  </thead>\n",
       "  <tbody>\n",
       "    <tr>\n",
       "      <th rowspan=\"2\" valign=\"top\">France</th>\n",
       "      <th>Marseille</th>\n",
       "      <td>NaN</td>\n",
       "      <td>NaN</td>\n",
       "    </tr>\n",
       "    <tr>\n",
       "      <th>Paris</th>\n",
       "      <td>NaN</td>\n",
       "      <td>NaN</td>\n",
       "    </tr>\n",
       "    <tr>\n",
       "      <th rowspan=\"2\" valign=\"top\">Germany</th>\n",
       "      <th>Berlin</th>\n",
       "      <td>10.0</td>\n",
       "      <td>NaN</td>\n",
       "    </tr>\n",
       "    <tr>\n",
       "      <th>Munich</th>\n",
       "      <td>NaN</td>\n",
       "      <td>12.0</td>\n",
       "    </tr>\n",
       "    <tr>\n",
       "      <th>India</th>\n",
       "      <th>Delhi</th>\n",
       "      <td>NaN</td>\n",
       "      <td>30.0</td>\n",
       "    </tr>\n",
       "  </tbody>\n",
       "</table>\n",
       "</div>"
      ],
      "text/plain": [
       "year               2009  2010\n",
       "country city                 \n",
       "France  Marseille   NaN   NaN\n",
       "        Paris       NaN   NaN\n",
       "Germany Berlin     10.0   NaN\n",
       "        Munich      NaN  12.0\n",
       "India   Delhi       NaN  30.0"
      ]
     },
     "execution_count": 100,
     "metadata": {},
     "output_type": "execute_result"
    }
   ],
   "source": [
    "# Subset for Egypt to India\n",
    "temp_by_country_city_vs_year.loc['Egypt':'India']\n",
    "\n",
    "# Subset for Egypt, Cairo to India, Delhi\n",
    "temp_by_country_city_vs_year.loc[('Egypt', 'Cairo'):('India', 'Delhi')]\n",
    "\n",
    "# Subset for Egypt, Cairo to India, Delhi, and 2005 to 2010\n",
    "temp_by_country_city_vs_year.loc[('Egypt', 'Cairo'):('India', 'Delhi'),\n",
    "                                  '2005':'2010']"
   ]
  },
  {
   "cell_type": "code",
   "execution_count": 5,
   "id": "c8625203-0030-416b-8ed9-da7ee0e128e8",
   "metadata": {
    "editable": true,
    "panel-layout": {
     "height": 0,
     "visible": true,
     "width": 100
    },
    "scrolled": true,
    "slideshow": {
     "slide_type": ""
    },
    "tags": []
   },
   "outputs": [
    {
     "ename": "NameError",
     "evalue": "name 'temp_by_country_city_vs_year' is not defined",
     "output_type": "error",
     "traceback": [
      "\u001b[1;31m---------------------------------------------------------------------------\u001b[0m",
      "\u001b[1;31mNameError\u001b[0m                                 Traceback (most recent call last)",
      "Cell \u001b[1;32mIn[5], line 2\u001b[0m\n\u001b[0;32m      1\u001b[0m \u001b[38;5;66;03m# Get the worldwide mean temp by year\u001b[39;00m\n\u001b[1;32m----> 2\u001b[0m mean_temp_by_year \u001b[38;5;241m=\u001b[39m temp_by_country_city_vs_year\u001b[38;5;241m.\u001b[39mmean()\n\u001b[0;32m      4\u001b[0m \u001b[38;5;66;03m# Filter for the year that had the highest mean temp\u001b[39;00m\n\u001b[0;32m      5\u001b[0m \u001b[38;5;28mprint\u001b[39m(mean_temp_by_year[mean_temp_by_year \u001b[38;5;241m==\u001b[39m mean_temp_by_year\u001b[38;5;241m.\u001b[39mmax()])\n",
      "\u001b[1;31mNameError\u001b[0m: name 'temp_by_country_city_vs_year' is not defined"
     ]
    }
   ],
   "source": [
    "# Get the worldwide mean temp by year\n",
    "mean_temp_by_year = temp_by_country_city_vs_year.mean()\n",
    "\n",
    "# Filter for the year that had the highest mean temp\n",
    "print(mean_temp_by_year[mean_temp_by_year == mean_temp_by_year.max()])\n",
    "\n",
    "# Get the mean temp by city\n",
    "mean_temp_by_city = temp_by_country_city_vs_year.mean(axis=1)\n",
    "\n",
    "# Filter for the city that had the lowest mean temp\n",
    "print(mean_temp_by_city[mean_temp_by_city == mean_temp_by_city.min()])"
   ]
  },
  {
   "cell_type": "code",
   "execution_count": 2,
   "id": "bb4b8af2-7e46-4bca-a92e-153d7706d836",
   "metadata": {},
   "outputs": [
    {
     "name": "stdout",
     "output_type": "stream",
     "text": [
      "Collecting jupyterlab-hide-codeNote: you may need to restart the kernel to use updated packages.\n",
      "\n",
      "  Downloading jupyterlab_hide_code-4.0.0-py3-none-any.whl.metadata (6.3 kB)\n",
      "Downloading jupyterlab_hide_code-4.0.0-py3-none-any.whl (45 kB)\n",
      "   ---------------------------------------- 0.0/45.3 kB ? eta -:--:--\n",
      "   --------------------------- ------------ 30.7/45.3 kB ? eta -:--:--\n",
      "   --------------------------- ------------ 30.7/45.3 kB ? eta -:--:--\n",
      "   --------------------------- ------------ 30.7/45.3 kB ? eta -:--:--\n",
      "   ------------------------------------ --- 41.0/45.3 kB 122.9 kB/s eta 0:00:01\n",
      "   ------------------------------------ --- 41.0/45.3 kB 122.9 kB/s eta 0:00:01\n",
      "   ------------------------------------ --- 41.0/45.3 kB 122.9 kB/s eta 0:00:01\n",
      "   ------------------------------------ --- 41.0/45.3 kB 122.9 kB/s eta 0:00:01\n",
      "   ---------------------------------------- 45.3/45.3 kB 68.0 kB/s eta 0:00:00\n",
      "Installing collected packages: jupyterlab-hide-code\n",
      "Successfully installed jupyterlab-hide-code-4.0.0\n"
     ]
    }
   ],
   "source": [
    "pip install jupyterlab-hide-code"
   ]
  },
  {
   "cell_type": "code",
   "execution_count": null,
   "id": "b34a7288-4564-4962-aad6-1ec6badf679d",
   "metadata": {},
   "outputs": [],
   "source": []
  }
 ],
 "metadata": {
  "kernelspec": {
   "display_name": "Python 3 (ipykernel)",
   "language": "python",
   "name": "python3"
  },
  "language_info": {
   "codemirror_mode": {
    "name": "ipython",
    "version": 3
   },
   "file_extension": ".py",
   "mimetype": "text/x-python",
   "name": "python",
   "nbconvert_exporter": "python",
   "pygments_lexer": "ipython3",
   "version": "3.12.4"
  },
  "panel-cell-order": [
   "e85139e2-cb4e-4ee7-bbfb-39cb13c4e1f4",
   "ed272d46-2f71-4092-8ca4-e0bdcfd35bbe",
   "58bfd8ef-528e-4067-a200-dd61b9de6ac3",
   "6948ca4d-4aef-4f60-8ca3-ad1e233fecfc",
   "29c9de1f-f3ee-466f-b75f-ddefb349a49c",
   "d33a25ce-f7b2-401f-9d9c-f8751a841660",
   "c1fc47bf-aa5b-48a7-a1f3-c44919bc0878",
   "d873ec59-fb43-41f3-9c19-fb91a4a32e90",
   "348a7927-cb42-48d4-8905-7282f859c0c7",
   "eba1685b-2f7f-40c9-99dc-27dc1b918182",
   "3d5c3906-4e9d-4fe2-8d49-f321f225dfa6",
   "3ae98a81-606d-4224-93a0-ded3f2ad69e9",
   "169b7d56-9ebf-43f4-8ae4-0df741beba6b",
   "029af8bd-4c95-4a78-a6b3-9ddc1b62a0eb",
   "a38e549e-1674-4efd-8fe7-0269f525b7ae",
   "95224e90-16be-497c-926d-03f3d0dc94fb",
   "43faa22b-d347-4a1e-acbf-284b1dbf3fd0",
   "520b4059-a04c-4f66-87a3-4dc6b0da1e6b",
   "a326ef01-3af4-402a-94c8-1d194e8d42bf",
   "5c204fe2-a2ad-4ee7-9904-17af1b34f345",
   "52730a61-bc7e-4457-be1e-422489ba637d",
   "59571881-bafc-46af-a25c-49248d7ae8f6",
   "c99047b3-bf71-4d3a-82a8-8613fd5e108c",
   "2f72b897-57fa-4625-8937-1c0a82c6d217",
   "96ecfd17-be63-4746-b2cb-cea34e0a3ffc",
   "af7c6690-b60c-42f1-8036-948d8609de17",
   "02b36f3d-11f4-460f-b5f0-8e5b3ede0818",
   "0808a132-03fd-4247-a2e0-065f64c04674",
   "e8fb65da-6dbf-450d-8858-dd1163ef61ce",
   "3b17cadc-a30d-4684-b4cd-c23329d0749e",
   "6d1dcb20-dbad-425f-860a-bf13acfe1d6a",
   "efaaf6bf-baa7-4b14-a432-3fd4f519e8db",
   "ee153995-a905-4a35-9046-d65f2638581f",
   "0f4e6b4b-197c-41ef-b2c0-e86dbaad9f38",
   "7fe2f815-e8ed-4c5d-b803-d850dae5326e",
   "8046d48d-c4bd-4740-a10e-c5c382c79665",
   "d9ab1a26-0022-4eed-8363-10d6ecd77d4f",
   "f52018e5-ce4d-4e0f-9673-4b9075f2bd33",
   "99484173-c50e-4ea8-8fb1-11620dd271f2",
   "24e5f0ae-3359-415b-8244-4fbddedac606",
   "ca5eb9cf-3fd3-4039-9b76-fd9babc00fe5",
   "1087fc25-9a44-402d-afdc-935e14758b4f",
   "d267e00a-c8e0-4a0b-bce9-d32ec07cb240",
   "0d9c46fd-84de-42dc-bf1f-800229b71dc1",
   "8c18410d-5d38-440c-9224-5b6bebd6525a",
   "47409515-9049-4399-8420-3aa155d7fd81",
   "7c7ff149-c0d7-44d5-a56f-30ce249d67f6",
   "1916d484-aa3e-4cc6-8b79-58b5cbcc0efd",
   "f6c950ac-006e-427a-8e64-1e8228b748a8",
   "bb76faad-4431-489d-9294-092361ee6378",
   "a543e28b-1ad1-4817-a164-63ce4d9a314c",
   "dfe5950a-769f-4a6d-8502-e7a5f5e302b8",
   "0b61ad5f-c6dd-4020-bdc7-a8f239f627b8",
   "7b21ec30-d3b6-4e7f-8ce0-be7f1da1c887",
   "988e6653-8ac3-400d-ac85-1e06057c8476",
   "c8625203-0030-416b-8ed9-da7ee0e128e8"
  ],
  "toc": {
   "base_numbering": 0
  }
 },
 "nbformat": 4,
 "nbformat_minor": 5
}
